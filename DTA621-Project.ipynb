{
 "cells": [
  {
   "cell_type": "markdown",
   "id": "18c38a1c-d8ae-4fc1-85f6-750453609290",
   "metadata": {},
   "source": [
    "# **Imports**"
   ]
  },
  {
   "cell_type": "code",
   "execution_count": null,
   "id": "8409eb13-1cb9-4542-9316-ab0491f3a272",
   "metadata": {},
   "outputs": [],
   "source": [
    "# This code was done by 223077593 - ORILIO NAOBEB\n",
    "import pandas as pd\n",
    "import numpy as np\n",
    "\n",
    "from sklearn.impute import SimpleImputer\n",
    "from sklearn.preprocessing import StandardScaler\n",
    "from sklearn.preprocessing import LabelEncoder\n",
    "from sklearn.tree import DecisionTreeRegressor\n",
    "from sklearn.tree import DecisionTreeClassifier\n",
    "from thefuzz import process\n",
    "\n",
    "import matplotlib.pyplot as plt\n",
    "import seaborn as sns\n",
    "\n",
    "# This code was done by 222129816 - TANAKA MUSHUKUTU\n",
    "import plotly.express as px\n",
    "#223085065 Asser Naikuti\n",
    "from sklearn.model_selection import train_test_split\n",
    "from sklearn.linear_model import LogisticRegression\n",
    "from sklearn.metrics import accuracy_score, confusion_matrix, classification_report\n"
   ]
  },
  {
   "cell_type": "markdown",
   "id": "99b913b5-4504-48e2-99f4-b4692df2113e",
   "metadata": {},
   "source": [
    "# **Data Understanding:**"
   ]
  },
  {
   "cell_type": "markdown",
   "id": "24892b76-0f3e-40d3-991c-0a4330165930",
   "metadata": {},
   "source": [
    "## **Gathering Data/Load dataset**"
   ]
  },
  {
   "cell_type": "code",
   "execution_count": null,
   "id": "475258e3-3bbd-4108-9361-a7d1f2157674",
   "metadata": {},
   "outputs": [],
   "source": [
    "# This code was done by 223077593 - ORILIO NAOBEB\n",
    "breast_cancer= pd.read_csv(\"breast-cancer.csv\")"
   ]
  },
  {
   "cell_type": "code",
   "execution_count": null,
   "id": "aed488bb-d220-4f29-b3b4-1ea1349f33bc",
   "metadata": {},
   "outputs": [],
   "source": [
    "# This code was done by 223077593 - ORILIO NAOBEB\n",
    "breast_cancer"
   ]
  },
  {
   "cell_type": "markdown",
   "id": "cd71a316-3605-4236-b65a-2498d1463a3d",
   "metadata": {},
   "source": [
    "## **Describing data**"
   ]
  },
  {
   "cell_type": "code",
   "execution_count": null,
   "id": "5cb80305-0a7d-48b9-a19d-e71ce8a4e973",
   "metadata": {},
   "outputs": [],
   "source": [
    "# This code was done by 223077593 - ORILIO NAOBEB\n",
    "breast_cancer.info()"
   ]
  },
  {
   "cell_type": "code",
   "execution_count": null,
   "id": "c076cfa1-402a-4680-81d3-c044b99db9c8",
   "metadata": {},
   "outputs": [],
   "source": [
    "# This code was done by 223077593 - ORILIO NAOBEB\n",
    "breast_cancer.describe()"
   ]
  },
  {
   "cell_type": "markdown",
   "id": "3300a03e-c4bc-4745-9b6e-906fe53a8285",
   "metadata": {},
   "source": [
    "## **Exploring data and Verifying data quality**"
   ]
  },
  {
   "cell_type": "code",
   "execution_count": null,
   "id": "46600a56-8def-4bfd-8f8b-3cb808b88409",
   "metadata": {},
   "outputs": [],
   "source": [
    "# This code was done by 223077593 - ORILIO NAOBEB\n",
    "sns.boxplot(breast_cancer['Menopause'])"
   ]
  },
  {
   "cell_type": "code",
   "execution_count": null,
   "id": "3310590b-e1c9-4dae-918c-93728394ab8b",
   "metadata": {},
   "outputs": [],
   "source": [
    "# This code was done by 223077593 - ORILIO NAOBEB\n",
    "sns.boxplot(breast_cancer['Tumor size'])"
   ]
  },
  {
   "cell_type": "code",
   "execution_count": null,
   "id": "e42fae8b-c047-4a7b-bb7e-388bcd78c751",
   "metadata": {},
   "outputs": [],
   "source": [
    "# This code was done by 223077593 - ORILIO NAOBEB\n",
    "sns.boxplot(breast_cancer['Age Range'])"
   ]
  },
  {
   "cell_type": "code",
   "execution_count": null,
   "id": "5d21b8dc-e1a1-439f-bf63-861429075003",
   "metadata": {},
   "outputs": [],
   "source": [
    "# This code was done by 223077593 - ORILIO NAOBEB\n",
    "sns.boxplot(breast_cancer['Inv-nodes'])"
   ]
  },
  {
   "cell_type": "code",
   "execution_count": null,
   "id": "52e839ff-b740-476b-bf0c-51de8ef45185",
   "metadata": {},
   "outputs": [],
   "source": [
    "# This code was done by 223077593 - ORILIO NAOBEB\n",
    "sns.boxplot(breast_cancer['Node-caps'])"
   ]
  },
  {
   "cell_type": "code",
   "execution_count": null,
   "id": "ffd40a0c-4088-49a1-a7e9-6b9ce7e65a24",
   "metadata": {},
   "outputs": [],
   "source": [
    "# This code was done by 223077593 - ORILIO NAOBEB\n",
    "sns.boxplot(breast_cancer['Degree of malignancy'])"
   ]
  },
  {
   "cell_type": "code",
   "execution_count": null,
   "id": "a4b553b4-4f66-45a4-bde9-32cba18f0b8b",
   "metadata": {},
   "outputs": [],
   "source": [
    "# This code was done by 223077593 - ORILIO NAOBEB\n",
    "sns.boxplot(breast_cancer['Breast'])"
   ]
  },
  {
   "cell_type": "code",
   "execution_count": null,
   "id": "b6dc46ae-f4c3-4297-b877-de096591cc46",
   "metadata": {},
   "outputs": [],
   "source": [
    "# This code was done by 223077593 - ORILIO NAOBEB\n",
    "sns.boxplot(breast_cancer['Breast-Quad'])"
   ]
  },
  {
   "cell_type": "code",
   "execution_count": null,
   "id": "73cba840-9a85-491e-abdd-d0afa2ce0372",
   "metadata": {},
   "outputs": [],
   "source": [
    "# This code was done by 223077593 - ORILIO NAOBEB\n",
    "sns.boxplot(breast_cancer['Irradiat'])"
   ]
  },
  {
   "cell_type": "code",
   "execution_count": null,
   "id": "296f2944-cde9-4efe-a484-a61f93591791",
   "metadata": {},
   "outputs": [],
   "source": [
    "# This code was done by 223077593 - ORILIO NAOBEB\n",
    "sns.boxplot(breast_cancer['Class'])"
   ]
  },
  {
   "cell_type": "code",
   "execution_count": null,
   "id": "91461a72-0ae7-421d-82c4-47a75484c5a2",
   "metadata": {},
   "outputs": [],
   "source": [
    "# This code was done by 223077593 - ORILIO NAOBEB\n",
    "print(breast_cancer['Menopause'].unique())"
   ]
  },
  {
   "cell_type": "code",
   "execution_count": null,
   "id": "f4680d8e-33a3-40d3-8062-f1d170f55e59",
   "metadata": {},
   "outputs": [],
   "source": [
    "# This code was done by 223077593 - ORILIO NAOBEB\n",
    "print(breast_cancer['Node-caps'].unique())"
   ]
  },
  {
   "cell_type": "code",
   "execution_count": null,
   "id": "876675e3-5e38-4cad-8d89-169b822c5b6b",
   "metadata": {},
   "outputs": [],
   "source": [
    "# This code was done by 223077593 - ORILIO NAOBEB\n",
    "print(breast_cancer['Breast'].unique())"
   ]
  },
  {
   "cell_type": "code",
   "execution_count": null,
   "id": "69181d65-a32a-41d3-9b80-94a1ce953b20",
   "metadata": {},
   "outputs": [],
   "source": [
    "# This code was done by 223077593 - ORILIO NAOBEB\n",
    "print(breast_cancer['Breast-Quad'].unique())"
   ]
  },
  {
   "cell_type": "code",
   "execution_count": null,
   "id": "6b8672a2-7989-470a-af92-0ec508738832",
   "metadata": {},
   "outputs": [],
   "source": [
    "# This code was done by 223077593 - ORILIO NAOBEB\n",
    "print(breast_cancer['Irradiat'].unique())"
   ]
  },
  {
   "cell_type": "code",
   "execution_count": null,
   "id": "795b7686-144a-43a7-8607-ded1a8672c13",
   "metadata": {},
   "outputs": [],
   "source": [
    "# This code was done by 223077593 - ORILIO NAOBEB\n",
    "print(breast_cancer['Inv-nodes'].unique())"
   ]
  },
  {
   "cell_type": "code",
   "execution_count": null,
   "id": "b2ef4ba8-14ac-4c8c-b596-c3d971cb6e5b",
   "metadata": {},
   "outputs": [],
   "source": [
    "# This code was done by 223077593 - ORILIO NAOBEB\n",
    "print(breast_cancer['Tumor size'].unique())"
   ]
  },
  {
   "cell_type": "code",
   "execution_count": null,
   "id": "651eb5b3-3159-44bb-be28-a13aa83d4a84",
   "metadata": {},
   "outputs": [],
   "source": [
    "# This code was done by 223077593 - ORILIO NAOBEB\n",
    "print(breast_cancer['Age Range'].unique())"
   ]
  },
  {
   "cell_type": "code",
   "execution_count": null,
   "id": "33002082-de2d-4ce5-aa73-b2e09254f1c8",
   "metadata": {},
   "outputs": [],
   "source": [
    "# This code was done by 223077593 - ORILIO NAOBEB\n",
    "print(breast_cancer['Degree of malignancy'].unique())"
   ]
  },
  {
   "cell_type": "code",
   "execution_count": null,
   "id": "a76832c5-910b-4c41-9df8-cd028effbba9",
   "metadata": {},
   "outputs": [],
   "source": [
    "# This code was done by 223077593 - ORILIO NAOBEB\n",
    "print(breast_cancer['Class'].unique())"
   ]
  },
  {
   "cell_type": "code",
   "execution_count": null,
   "id": "1c9e50e5-aca6-4887-b033-3bbbabb06669",
   "metadata": {},
   "outputs": [],
   "source": [
    "# This code was done by 223077593 - ORILIO NAOBEB\n",
    "breast_cancer.isnull().sum()"
   ]
  },
  {
   "cell_type": "code",
   "execution_count": null,
   "id": "68768c40-e265-4065-9294-03305e65dd87",
   "metadata": {},
   "outputs": [],
   "source": [
    "# This code was done by 223077593 - ORILIO NAOBEB\n",
    "breast_cancer.duplicated().sum()"
   ]
  },
  {
   "cell_type": "markdown",
   "id": "80ff54a1-e497-478a-8055-deaa0e6f286f",
   "metadata": {},
   "source": [
    "# **Data Cleaning:**"
   ]
  },
  {
   "cell_type": "markdown",
   "id": "09ff4fce-c8dd-4f80-8e67-c3c5ba1fb3a7",
   "metadata": {},
   "source": [
    "## **Missing Values**"
   ]
  },
  {
   "cell_type": "code",
   "execution_count": null,
   "id": "e8898924-5b7b-45ca-b58e-2f4c1099eace",
   "metadata": {},
   "outputs": [],
   "source": [
    "# This code was done by 223077593 - ORILIO NAOBEB\n",
    "breast_cancer.tail(60)"
   ]
  },
  {
   "cell_type": "code",
   "execution_count": null,
   "id": "8570e05a-2aec-4d1b-967f-47a50f318ecc",
   "metadata": {},
   "outputs": [],
   "source": [
    "# This code was done by 223077593 - ORILIO NAOBEB\n",
    "#Handle missing values for 'Node-caps'\n",
    "node_caps_complete = breast_cancer[breast_cancer['Node-caps'].notna()]\n",
    "node_caps_missing = breast_cancer[breast_cancer['Node-caps'].isna()]\n",
    "\n",
    "if not node_caps_missing.empty:\n",
    "    # Prepare training data\n",
    "    X_train_node_caps = node_caps_complete.drop(['Node-caps', 'Breast-Quad'], axis=1)\n",
    "    y_train_node_caps = node_caps_complete['Node-caps']\n",
    "\n",
    "    # Encode target variable\n",
    "    label_encoder_node_caps = LabelEncoder()\n",
    "    y_train_node_caps = label_encoder_node_caps.fit_transform(y_train_node_caps)\n",
    "\n",
    "    # One-Hot Encoding for categorical features\n",
    "    X_train_node_caps = pd.get_dummies(X_train_node_caps)\n",
    "\n",
    "    # Decision Tree for 'Node-caps' (using classifier)\n",
    "    tree_clf_node_caps = DecisionTreeClassifier()\n",
    "    tree_clf_node_caps.fit(X_train_node_caps, y_train_node_caps)\n",
    "\n",
    "    # Prepare features DataFrame for missing 'Node-caps'\n",
    "    X_missing_node_caps = node_caps_missing.drop(['Node-caps', 'Breast-Quad'], axis=1)\n",
    "\n",
    "    # One-Hot Encoding for missing features\n",
    "    X_missing_node_caps = pd.get_dummies(X_missing_node_caps)\n",
    "\n",
    "    # Ensure the columns match between training and missing data\n",
    "    X_missing_node_caps = X_missing_node_caps.reindex(columns=X_train_node_caps.columns, fill_value=0)\n",
    "\n",
    "    # Predict missing 'Node-caps' values\n",
    "    if not X_missing_node_caps.empty:\n",
    "        predicted_values_node_caps = tree_clf_node_caps.predict(X_missing_node_caps)\n",
    "        # Decode predicted values back to original categories\n",
    "        predicted_values_node_caps = label_encoder_node_caps.inverse_transform(predicted_values_node_caps)\n",
    "        # Update the missing 'Node-caps' values in the original DataFrame\n",
    "        breast_cancer.loc[breast_cancer['Node-caps'].isna(), 'Node-caps'] = predicted_values_node_caps\n",
    "\n",
    "# Step 2: Handle 'Breast-Quad' in a similar way\n",
    "breast_quad_complete = breast_cancer[breast_cancer['Breast-Quad'].notna()]\n",
    "breast_quad_missing = breast_cancer[breast_cancer['Breast-Quad'].isna()]\n",
    "\n",
    "if not breast_quad_missing.empty:\n",
    "    X_train_breast_quad = breast_quad_complete.drop(['Breast-Quad', 'Node-caps'], axis=1)\n",
    "    y_train_breast_quad = breast_quad_complete['Breast-Quad']\n",
    "\n",
    "    # Encode target variable\n",
    "    label_encoder_breast_quad = LabelEncoder()\n",
    "    y_train_breast_quad = label_encoder_breast_quad.fit_transform(y_train_breast_quad)\n",
    "\n",
    "    # One-Hot Encoding for categorical features\n",
    "    X_train_breast_quad = pd.get_dummies(X_train_breast_quad)\n",
    "\n",
    "    # Decision Tree for 'Breast-Quad' (using classifier)\n",
    "    tree_clf_breast_quad = DecisionTreeClassifier()\n",
    "    tree_clf_breast_quad.fit(X_train_breast_quad, y_train_breast_quad)\n",
    "\n",
    "    # Prepare features DataFrame for missing 'Breast-Quad'\n",
    "    X_missing_breast_quad = breast_quad_missing.drop(['Breast-Quad', 'Node-caps'], axis=1)\n",
    "\n",
    "    # One-Hot Encoding for missing features\n",
    "    X_missing_breast_quad = pd.get_dummies(X_missing_breast_quad)\n",
    "\n",
    "    # Ensure the columns match between training and missing data\n",
    "    X_missing_breast_quad = X_missing_breast_quad.reindex(columns=X_train_breast_quad.columns, fill_value=0)\n",
    "\n",
    "    # Predict missing 'Breast-Quad' values\n",
    "    if not X_missing_breast_quad.empty:\n",
    "        predicted_values_breast_quad = tree_clf_breast_quad.predict(X_missing_breast_quad)\n",
    "        # Decode predicted values back to original categories\n",
    "        predicted_values_breast_quad = label_encoder_breast_quad.inverse_transform(predicted_values_breast_quad)\n",
    "        # Update the missing 'Breast-Quad' values in the original DataFrame\n",
    "        breast_cancer.loc[breast_cancer['Breast-Quad'].isna(), 'Breast-Quad'] = predicted_values_breast_quad"
   ]
  },
  {
   "cell_type": "code",
   "execution_count": null,
   "id": "3f1700ab-62dd-4382-83a0-42f77930435c",
   "metadata": {},
   "outputs": [],
   "source": [
    "# This code was done by 223077593 - ORILIO NAOBEB\n",
    "breast_cancer.isnull().sum()"
   ]
  },
  {
   "cell_type": "code",
   "execution_count": null,
   "id": "6f61fa94-0773-4ad9-a64b-83781c2bc77e",
   "metadata": {},
   "outputs": [],
   "source": [
    "# This code was done by 223077593 - ORILIO NAOBEB\n",
    "breast_cancer.tail(60)"
   ]
  },
  {
   "cell_type": "markdown",
   "id": "90d7f930-7f9a-445f-a941-77578d68ccb7",
   "metadata": {},
   "source": [
    "## **Data Redundancy**"
   ]
  },
  {
   "cell_type": "code",
   "execution_count": null,
   "id": "57079678-3056-4d15-9ef0-e7b5437902f4",
   "metadata": {},
   "outputs": [],
   "source": [
    "# This code was done by 223077593 - ORILIO NAOBEB\n",
    "duplicated_rows = breast_cancer[breast_cancer.duplicated(keep=False)]  # keep=False shows all duplicates\n",
    "print(duplicated_rows)"
   ]
  },
  {
   "cell_type": "code",
   "execution_count": null,
   "id": "dfbb3ecc-9f72-4029-b6e5-068095c26b69",
   "metadata": {},
   "outputs": [],
   "source": [
    "# This code was done by 223077593 - ORILIO NAOBEB\n",
    "breast_cancer_cleaned = breast_cancer.drop_duplicates(keep='first')  # Keeps the first occurrence"
   ]
  },
  {
   "cell_type": "code",
   "execution_count": null,
   "id": "dab313df-ec9f-48f3-8b6e-c5f53a8cc6f8",
   "metadata": {},
   "outputs": [],
   "source": [
    "# This code was done by 223077593 - ORILIO NAOBEB\n",
    "print(f\"Number of duplicate rows after cleaning: {breast_cancer_cleaned.duplicated().sum()}\")"
   ]
  },
  {
   "cell_type": "markdown",
   "id": "42ab4153-c2a7-47a6-96ee-1f8d5ccdc22b",
   "metadata": {},
   "source": [
    "## **Typos**"
   ]
  },
  {
   "cell_type": "code",
   "execution_count": null,
   "id": "a0e3c9e3-926c-4c84-8e5e-df299c2bd6db",
   "metadata": {},
   "outputs": [],
   "source": [
    "# This code was done by 223077593 - ORILIO NAOBEB\n",
    "print(breast_cancer_cleaned['Inv-nodes'].unique())"
   ]
  },
  {
   "cell_type": "code",
   "execution_count": null,
   "id": "ef6bbbfe-497d-4f63-b201-6487487c5715",
   "metadata": {},
   "outputs": [],
   "source": [
    "# This code was done by 223077593 - ORILIO NAOBEB\n",
    "print(breast_cancer_cleaned['Tumor size'].unique())"
   ]
  },
  {
   "cell_type": "code",
   "execution_count": null,
   "id": "b4023d94-834f-4e4a-92ea-cf48b8cd90a7",
   "metadata": {},
   "outputs": [],
   "source": [
    "# This code was done by 223077593 - ORILIO NAOBEB\n",
    "# Define correct categories for Tumor size and Inv-nodes\n",
    "correct_tumor_sizes = ['0-4', '5-9', '10-14', '15-19', '20-24', '25-29', '30-34', '35-39', '40-44', '45-49', '50-54']\n",
    "correct_inv_nodes = ['0-2', '3-5', '6-8', '9-11', '12-14', '15-17', '18-20','21-23','24-26']\n",
    "\n",
    "# Function to apply fuzzy matching and replace incorrect values\n",
    "def correct_values(column, correct_values_list):\n",
    "    return column.apply(lambda x: process.extractOne(x, correct_values_list)[0])\n",
    "\n",
    "# Use .loc to apply fuzzy matching on Tumor size column\n",
    "breast_cancer_cleaned.loc[:, 'Tumor size'] = correct_values(breast_cancer_cleaned['Tumor size'], correct_tumor_sizes)\n",
    "\n",
    "# Use .loc to apply fuzzy matching on Inv-nodes column\n",
    "breast_cancer_cleaned.loc[:, 'Inv-nodes'] = correct_values(breast_cancer_cleaned['Inv-nodes'], correct_inv_nodes)\n",
    "\n",
    "# Check corrected values\n",
    "print(breast_cancer_cleaned[['Tumor size', 'Inv-nodes']])"
   ]
  },
  {
   "cell_type": "code",
   "execution_count": null,
   "id": "11509859-fd06-4e64-924d-f92c257fcff9",
   "metadata": {},
   "outputs": [],
   "source": [
    "# This code was done by 223077593 - ORILIO NAOBEB\n",
    "print(breast_cancer_cleaned['Inv-nodes'].unique())"
   ]
  },
  {
   "cell_type": "code",
   "execution_count": null,
   "id": "b81fa477-58a7-4572-bb6c-f5a71dd1235b",
   "metadata": {},
   "outputs": [],
   "source": [
    "# This code was done by 223077593 - ORILIO NAOBEB\n",
    "print(breast_cancer_cleaned['Tumor size'].unique())"
   ]
  },
  {
   "cell_type": "markdown",
   "id": "f1b05914-a5a8-436c-a5da-340db99a08ac",
   "metadata": {},
   "source": [
    "## **Outliers**"
   ]
  },
  {
   "cell_type": "code",
   "execution_count": null,
   "id": "4c241d4a-8482-48c6-a569-ded4b9dcaef3",
   "metadata": {},
   "outputs": [],
   "source": [
    "# This code was done by 223077593 - ORILIO NAOBEB\n",
    "#There is no need for outlier cleaning because the Degree of Malignancy only contains three distinct values (1, 2, and 3) with no outliers. \n",
    "#The remaining categorical data does not have outliers, as outlier detection is relevant only for numerical data."
   ]
  },
  {
   "cell_type": "code",
   "execution_count": null,
   "id": "fbb9d339-b5da-40a6-a2e9-0b81f0f9548a",
   "metadata": {},
   "outputs": [],
   "source": [
    "#code by 223085065 Asser Naikuti\n",
    "breast_cancer_cleaned.loc[:, 'Age Range'] = breast_cancer_cleaned['Age Range'].replace({\n",
    "    '20-29': 24.5,\n",
    "    '30-39': 34.5,\n",
    "    '40-49': 44.5,\n",
    "    '50-59': 54.5\n",
    "})\n",
    "breast_cancer_cleaned.loc[:, 'Menopause'] = breast_cancer_cleaned['Menopause'].replace({'ge40': None})\n",
    "breast_cancer_cleaned.loc[:,'Tumor size'] = breast_cancer_cleaned['Tumor size'].replace({'0-4':2, '5-9':7, '10-14':12, '15-19':17, '20-24':22, '25-29':27, '30-34':32, '35-39':37, '40-44':42, '45-49':47, '50-54':52})\n",
    "\n"
   ]
  },
  {
   "cell_type": "markdown",
   "id": "c29fc8e9-c749-4fdd-99d9-371d1d5def00",
   "metadata": {},
   "source": [
    "# VISUALIZATION"
   ]
  },
  {
   "cell_type": "code",
   "execution_count": null,
   "id": "83504f91-2aad-4e50-adb9-a821d4d716a2",
   "metadata": {},
   "outputs": [],
   "source": [
    "# This code was done by 222129816 - TANAKA MUSHUKUTU\n",
    "# Display the first few rows and basic information about the dataset\n",
    "data_info = breast_cancer_cleaned.info()\n",
    "data_head = breast_cancer_cleaned.head()\n",
    "\n",
    "data_info, data_head"
   ]
  },
  {
   "cell_type": "code",
   "execution_count": null,
   "id": "d6e3b05e-18e7-4e10-bef4-c8bbf15abab0",
   "metadata": {},
   "outputs": [],
   "source": [
    "# This code was done by 222129816 - TANAKA MUSHUKUTU\n",
    "# Pie Chart: Distribution of the target variable `Class`\n",
    "class_distribution = breast_cancer_cleaned['Class'].value_counts()\n",
    "plt.figure(figsize=(8, 8))\n",
    "plt.pie(class_distribution, labels=class_distribution.index, autopct='%1.1f%%', startangle=140, colors=sns.color_palette(\"pastel\"))\n",
    "plt.title(\"Distribution of Breast Cancer Class (Recurrence vs. No Recurrence)\")\n",
    "plt.show()\n",
    "\n",
    "# Bar Graph: Tumor size vs. Degree of malignancy\n",
    "plt.figure(figsize=(12, 6))\n",
    "sns.barplot(x='Tumor size', y='Degree of malignancy', data=breast_cancer_cleaned, palette=\"viridis\", ci=None)\n",
    "plt.title(\"Tumor Size vs Degree of Malignancy\")\n",
    "plt.xticks(rotation=45)\n",
    "plt.show()"
   ]
  },
  {
   "cell_type": "code",
   "execution_count": null,
   "id": "ef6263f4-5b3f-4e1f-9002-4ab1be161611",
   "metadata": {},
   "outputs": [],
   "source": [
    "# This code was done by 222129816 - TANAKA MUSHUKUTU\n",
    "# Interactive Visualization: Tumor size vs Age Range grouped by Menopause status\n",
    "fig = px.scatter(breast_cancer_cleaned, x='Age Range', y='Tumor size', color='Menopause', \n",
    "                 hover_data=['Degree of malignancy', 'Breast', 'Irradiat'],\n",
    "                 title=\"Tumor Size vs Age Range Grouped by Menopause Status\",\n",
    "                 labels={'Age Range': 'Age Range', 'Tumor size': 'Tumor Size'})\n",
    "fig.show()\n",
    "\n",
    "# Normal Distribution: Visualizing `Degree of malignancy`\n",
    "plt.figure(figsize=(10, 6))\n",
    "sns.histplot(breast_cancer_cleaned['Degree of malignancy'], kde=True, color='skyblue', bins=10)\n",
    "plt.title('Distribution of Degree of Malignancy')\n",
    "plt.xlabel('Degree of Malignancy')\n",
    "plt.ylabel('Frequency')\n",
    "plt.show()"
   ]
  },
  {
   "cell_type": "code",
   "execution_count": null,
   "id": "79bbf7fc-0267-4cf0-a146-feb23e792794",
   "metadata": {},
   "outputs": [],
   "source": [
    "# This code was done by 222129816 - TANAKA MUSHUKUTU\n",
    "# Box plot: Comparing Degree of malignancy for different Breast Quadrants\n",
    "plt.figure(figsize=(12, 6))\n",
    "sns.boxplot(x='Breast-Quad', y='Degree of malignancy', data=breast_cancer_cleaned, palette='coolwarm')\n",
    "plt.title('Degree of Malignancy by Breast Quadrant')\n",
    "plt.xticks(rotation=45)\n",
    "plt.show()"
   ]
  },
  {
   "cell_type": "code",
   "execution_count": null,
   "id": "b71f0fec-6e10-456a-9dc0-d4caa9dd3f9c",
   "metadata": {},
   "outputs": [],
   "source": [
    "# This code was done by 223002291 - Beaven Muyoba\n",
    "# Count the occurrences of each unique value in the 'Age Range' column\n",
    "age_range_counts = breast_cancer_cleaned['Age Range'].value_counts()\n",
    "\n",
    "# Plot a pie chart\n",
    "plt.figure(figsize=(8, 8))\n",
    "plt.pie(age_range_counts, labels=age_range_counts.index, autopct='%1.1f%%', startangle=90)\n",
    "plt.title('Distribution of Age Range')\n",
    "plt.axis('equal')  # Equal aspect ratio ensures that pie is drawn as a circle.\n",
    "\n",
    "# Show the pie chart\n",
    "plt.show()"
   ]
  },
  {
   "cell_type": "code",
   "execution_count": null,
   "id": "f91b1b2a-054c-4658-96aa-331cb2ec431a",
   "metadata": {},
   "outputs": [],
   "source": [
    "#223085065 Asser Naikuti\n",
    "# Example scatter plot: Tumor size vs. Age\n",
    "plt.scatter(breast_cancer_cleaned['Age Range'], breast_cancer_cleaned['Tumor size'])\n",
    "plt.xlabel('Age')\n",
    "plt.ylabel('Tumor Size')\n",
    "plt.title('Scatter Plot of Tumor Size vs Age')\n",
    "plt.show()\n"
   ]
  },
  {
   "cell_type": "code",
   "execution_count": null,
   "id": "80296cc5-e74f-4277-a68d-31f134f9bcd2",
   "metadata": {},
   "outputs": [],
   "source": [
    "# This code was done by 223002291 - Beaven Muyoba\n",
    "age_range_counts = breast_cancer_cleaned['Age Range'].value_counts()\n",
    "\n",
    "# Plot a bar graph\n",
    "plt.figure(figsize=(10, 6))\n",
    "age_range_counts.plot(kind='bar', color='skyblue')\n",
    "\n",
    "# Adding titles and labels\n",
    "plt.title('Distribution of Age Range', fontsize=16)\n",
    "plt.xlabel('Age Range', fontsize=14)\n",
    "plt.ylabel('Count', fontsize=14)\n",
    "\n",
    "# Display the bar graph\n",
    "plt.xticks(rotation=45)  # Rotate x-axis labels for better visibility\n",
    "plt.grid(axis='y')  # Optional: add grid lines for better readability\n",
    "plt.show()"
   ]
  },
  {
   "cell_type": "code",
   "execution_count": null,
   "id": "e941659c",
   "metadata": {},
   "outputs": [],
   "source": [
    "# This code was done by 223033030 - JEROME JEG NANUSEB\n",
    "# Shows how the distribution of classes changes across different age ranges\n",
    "breast_cancer_cleaned_grouped = breast_cancer_cleaned.groupby(['Age Range', 'Class']).size().unstack()\n",
    "breast_cancer_cleaned_grouped.plot(kind='bar', stacked=True, figsize=(12, 6))\n",
    "plt.title('Distribution of Classes Across Age Ranges')\n",
    "plt.xlabel('Age Range')\n",
    "plt.ylabel('Count')\n",
    "plt.legend(title='Class', bbox_to_anchor=(1.05, 1), loc='upper left')\n",
    "plt.tight_layout()\n",
    "plt.show()"
   ]
  },
  {
   "cell_type": "markdown",
   "id": "6a863f00-0905-4efb-b777-4cc9ebcaf562",
   "metadata": {},
   "source": [
    "# **Machine Learning**"
   ]
  },
  {
   "cell_type": "markdown",
   "id": "4e9cd5b0-a544-4315-8755-686569eca3a0",
   "metadata": {},
   "source": [
    "## Logistic Regression\n",
    "### Logistic Regression is a powerful and straightforward algorithm for binary classification tasks like predicting the reoccurrenc of breast cancer"
   ]
  },
  {
   "cell_type": "code",
   "execution_count": null,
   "id": "b6f3f8e7-e4a8-4efd-a96d-bb4ab9b80136",
   "metadata": {},
   "outputs": [],
   "source": [
    "X = breast_cancer_cleaned[['Age Range','Tumor size','Inv-nodes','Node-caps','Degree of malignancy','Breast','Breast-Quad','Irradiat']]\n",
    "y = breast_cancer_cleaned[['Class']] "
   ]
  },
  {
   "cell_type": "markdown",
   "id": "fcda2fa1-cf76-4fc3-848b-1592470ef040",
   "metadata": {},
   "source": [
    "### Split the data into training and testing data"
   ]
  },
  {
   "cell_type": "code",
   "execution_count": null,
   "id": "1dd8f617-5c4b-4d77-9f17-4de8ea718d2a",
   "metadata": {},
   "outputs": [],
   "source": [
    "X_train, X_test, y_train, y_test = train_test_split(X, y, test_size=0.2, random_state=42) "
   ]
  },
  {
   "cell_type": "markdown",
   "id": "383cb937-2c25-4d78-a0af-eee0387ebabd",
   "metadata": {},
   "source": [
    "### Train the Model"
   ]
  },
  {
   "cell_type": "code",
   "execution_count": null,
   "id": "5524f4f7-ee0d-423a-b338-e9942472d15b",
   "metadata": {},
   "outputs": [],
   "source": [
    "model = LogisticRegression()\n",
    "model.fit(X_train, y_train)"
   ]
  },
  {
   "cell_type": "code",
   "execution_count": null,
   "id": "a55b0a14-6408-4f4b-8396-dfa685b905b7",
   "metadata": {},
   "outputs": [],
   "source": []
  }
 ],
 "metadata": {
  "kernelspec": {
   "display_name": "Python 3 (ipykernel)",
   "language": "python",
   "name": "python3"
  },
  "language_info": {
   "codemirror_mode": {
    "name": "ipython",
    "version": 3
   },
   "file_extension": ".py",
   "mimetype": "text/x-python",
   "name": "python",
   "nbconvert_exporter": "python",
   "pygments_lexer": "ipython3",
   "version": "3.12.4"
  }
 },
 "nbformat": 4,
 "nbformat_minor": 5
}

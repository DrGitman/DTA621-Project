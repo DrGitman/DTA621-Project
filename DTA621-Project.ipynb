{
 "cells": [
  {
   "cell_type": "markdown",
   "id": "18c38a1c-d8ae-4fc1-85f6-750453609290",
   "metadata": {},
   "source": [
    "# **Imports**"
   ]
  },
  {
   "cell_type": "code",
   "execution_count": 1,
   "id": "8409eb13-1cb9-4542-9316-ab0491f3a272",
   "metadata": {},
   "outputs": [],
   "source": [
    "import pandas as pd\n",
    "import numpy as np\n",
    "\n",
    "from sklearn.impute import SimpleImputer\n",
    "\n",
    "import matplotlib.pyplot as plt\n",
    "import seaborn as sns"
   ]
  },
  {
   "cell_type": "markdown",
   "id": "99b913b5-4504-48e2-99f4-b4692df2113e",
   "metadata": {},
   "source": [
    "# **Data Understanding:**"
   ]
  },
  {
   "cell_type": "markdown",
   "id": "24892b76-0f3e-40d3-991c-0a4330165930",
   "metadata": {},
   "source": [
    "## **Gathering Data/Load dataset**"
   ]
  },
  {
   "cell_type": "code",
   "execution_count": 2,
   "id": "475258e3-3bbd-4108-9361-a7d1f2157674",
   "metadata": {},
   "outputs": [
    {
     "ename": "FileNotFoundError",
     "evalue": "[Errno 2] No such file or directory: 'C:\\\\Users\\\\orili\\\\OneDrive\\\\Documents\\\\School stuff\\\\DTA\\\\breast+cancer\\\\breast-cancer.csv'",
     "output_type": "error",
     "traceback": [
      "\u001b[1;31m---------------------------------------------------------------------------\u001b[0m",
      "\u001b[1;31mFileNotFoundError\u001b[0m                         Traceback (most recent call last)",
      "Cell \u001b[1;32mIn[2], line 1\u001b[0m\n\u001b[1;32m----> 1\u001b[0m breast_cancer\u001b[38;5;241m=\u001b[39m pd\u001b[38;5;241m.\u001b[39mread_csv(\u001b[38;5;124mr\u001b[39m\u001b[38;5;124m\"\u001b[39m\u001b[38;5;124mC:\u001b[39m\u001b[38;5;124m\\\u001b[39m\u001b[38;5;124mUsers\u001b[39m\u001b[38;5;124m\\\u001b[39m\u001b[38;5;124morili\u001b[39m\u001b[38;5;124m\\\u001b[39m\u001b[38;5;124mOneDrive\u001b[39m\u001b[38;5;124m\\\u001b[39m\u001b[38;5;124mDocuments\u001b[39m\u001b[38;5;124m\\\u001b[39m\u001b[38;5;124mSchool stuff\u001b[39m\u001b[38;5;124m\\\u001b[39m\u001b[38;5;124mDTA\u001b[39m\u001b[38;5;124m\\\u001b[39m\u001b[38;5;124mbreast+cancer\u001b[39m\u001b[38;5;124m\\\u001b[39m\u001b[38;5;124mbreast-cancer.csv\u001b[39m\u001b[38;5;124m\"\u001b[39m)\n",
      "File \u001b[1;32mC:\\ProgramData\\anaconda3\\Lib\\site-packages\\pandas\\io\\parsers\\readers.py:1026\u001b[0m, in \u001b[0;36mread_csv\u001b[1;34m(filepath_or_buffer, sep, delimiter, header, names, index_col, usecols, dtype, engine, converters, true_values, false_values, skipinitialspace, skiprows, skipfooter, nrows, na_values, keep_default_na, na_filter, verbose, skip_blank_lines, parse_dates, infer_datetime_format, keep_date_col, date_parser, date_format, dayfirst, cache_dates, iterator, chunksize, compression, thousands, decimal, lineterminator, quotechar, quoting, doublequote, escapechar, comment, encoding, encoding_errors, dialect, on_bad_lines, delim_whitespace, low_memory, memory_map, float_precision, storage_options, dtype_backend)\u001b[0m\n\u001b[0;32m   1013\u001b[0m kwds_defaults \u001b[38;5;241m=\u001b[39m _refine_defaults_read(\n\u001b[0;32m   1014\u001b[0m     dialect,\n\u001b[0;32m   1015\u001b[0m     delimiter,\n\u001b[1;32m   (...)\u001b[0m\n\u001b[0;32m   1022\u001b[0m     dtype_backend\u001b[38;5;241m=\u001b[39mdtype_backend,\n\u001b[0;32m   1023\u001b[0m )\n\u001b[0;32m   1024\u001b[0m kwds\u001b[38;5;241m.\u001b[39mupdate(kwds_defaults)\n\u001b[1;32m-> 1026\u001b[0m \u001b[38;5;28;01mreturn\u001b[39;00m _read(filepath_or_buffer, kwds)\n",
      "File \u001b[1;32mC:\\ProgramData\\anaconda3\\Lib\\site-packages\\pandas\\io\\parsers\\readers.py:620\u001b[0m, in \u001b[0;36m_read\u001b[1;34m(filepath_or_buffer, kwds)\u001b[0m\n\u001b[0;32m    617\u001b[0m _validate_names(kwds\u001b[38;5;241m.\u001b[39mget(\u001b[38;5;124m\"\u001b[39m\u001b[38;5;124mnames\u001b[39m\u001b[38;5;124m\"\u001b[39m, \u001b[38;5;28;01mNone\u001b[39;00m))\n\u001b[0;32m    619\u001b[0m \u001b[38;5;66;03m# Create the parser.\u001b[39;00m\n\u001b[1;32m--> 620\u001b[0m parser \u001b[38;5;241m=\u001b[39m TextFileReader(filepath_or_buffer, \u001b[38;5;241m*\u001b[39m\u001b[38;5;241m*\u001b[39mkwds)\n\u001b[0;32m    622\u001b[0m \u001b[38;5;28;01mif\u001b[39;00m chunksize \u001b[38;5;129;01mor\u001b[39;00m iterator:\n\u001b[0;32m    623\u001b[0m     \u001b[38;5;28;01mreturn\u001b[39;00m parser\n",
      "File \u001b[1;32mC:\\ProgramData\\anaconda3\\Lib\\site-packages\\pandas\\io\\parsers\\readers.py:1620\u001b[0m, in \u001b[0;36mTextFileReader.__init__\u001b[1;34m(self, f, engine, **kwds)\u001b[0m\n\u001b[0;32m   1617\u001b[0m     \u001b[38;5;28mself\u001b[39m\u001b[38;5;241m.\u001b[39moptions[\u001b[38;5;124m\"\u001b[39m\u001b[38;5;124mhas_index_names\u001b[39m\u001b[38;5;124m\"\u001b[39m] \u001b[38;5;241m=\u001b[39m kwds[\u001b[38;5;124m\"\u001b[39m\u001b[38;5;124mhas_index_names\u001b[39m\u001b[38;5;124m\"\u001b[39m]\n\u001b[0;32m   1619\u001b[0m \u001b[38;5;28mself\u001b[39m\u001b[38;5;241m.\u001b[39mhandles: IOHandles \u001b[38;5;241m|\u001b[39m \u001b[38;5;28;01mNone\u001b[39;00m \u001b[38;5;241m=\u001b[39m \u001b[38;5;28;01mNone\u001b[39;00m\n\u001b[1;32m-> 1620\u001b[0m \u001b[38;5;28mself\u001b[39m\u001b[38;5;241m.\u001b[39m_engine \u001b[38;5;241m=\u001b[39m \u001b[38;5;28mself\u001b[39m\u001b[38;5;241m.\u001b[39m_make_engine(f, \u001b[38;5;28mself\u001b[39m\u001b[38;5;241m.\u001b[39mengine)\n",
      "File \u001b[1;32mC:\\ProgramData\\anaconda3\\Lib\\site-packages\\pandas\\io\\parsers\\readers.py:1880\u001b[0m, in \u001b[0;36mTextFileReader._make_engine\u001b[1;34m(self, f, engine)\u001b[0m\n\u001b[0;32m   1878\u001b[0m     \u001b[38;5;28;01mif\u001b[39;00m \u001b[38;5;124m\"\u001b[39m\u001b[38;5;124mb\u001b[39m\u001b[38;5;124m\"\u001b[39m \u001b[38;5;129;01mnot\u001b[39;00m \u001b[38;5;129;01min\u001b[39;00m mode:\n\u001b[0;32m   1879\u001b[0m         mode \u001b[38;5;241m+\u001b[39m\u001b[38;5;241m=\u001b[39m \u001b[38;5;124m\"\u001b[39m\u001b[38;5;124mb\u001b[39m\u001b[38;5;124m\"\u001b[39m\n\u001b[1;32m-> 1880\u001b[0m \u001b[38;5;28mself\u001b[39m\u001b[38;5;241m.\u001b[39mhandles \u001b[38;5;241m=\u001b[39m get_handle(\n\u001b[0;32m   1881\u001b[0m     f,\n\u001b[0;32m   1882\u001b[0m     mode,\n\u001b[0;32m   1883\u001b[0m     encoding\u001b[38;5;241m=\u001b[39m\u001b[38;5;28mself\u001b[39m\u001b[38;5;241m.\u001b[39moptions\u001b[38;5;241m.\u001b[39mget(\u001b[38;5;124m\"\u001b[39m\u001b[38;5;124mencoding\u001b[39m\u001b[38;5;124m\"\u001b[39m, \u001b[38;5;28;01mNone\u001b[39;00m),\n\u001b[0;32m   1884\u001b[0m     compression\u001b[38;5;241m=\u001b[39m\u001b[38;5;28mself\u001b[39m\u001b[38;5;241m.\u001b[39moptions\u001b[38;5;241m.\u001b[39mget(\u001b[38;5;124m\"\u001b[39m\u001b[38;5;124mcompression\u001b[39m\u001b[38;5;124m\"\u001b[39m, \u001b[38;5;28;01mNone\u001b[39;00m),\n\u001b[0;32m   1885\u001b[0m     memory_map\u001b[38;5;241m=\u001b[39m\u001b[38;5;28mself\u001b[39m\u001b[38;5;241m.\u001b[39moptions\u001b[38;5;241m.\u001b[39mget(\u001b[38;5;124m\"\u001b[39m\u001b[38;5;124mmemory_map\u001b[39m\u001b[38;5;124m\"\u001b[39m, \u001b[38;5;28;01mFalse\u001b[39;00m),\n\u001b[0;32m   1886\u001b[0m     is_text\u001b[38;5;241m=\u001b[39mis_text,\n\u001b[0;32m   1887\u001b[0m     errors\u001b[38;5;241m=\u001b[39m\u001b[38;5;28mself\u001b[39m\u001b[38;5;241m.\u001b[39moptions\u001b[38;5;241m.\u001b[39mget(\u001b[38;5;124m\"\u001b[39m\u001b[38;5;124mencoding_errors\u001b[39m\u001b[38;5;124m\"\u001b[39m, \u001b[38;5;124m\"\u001b[39m\u001b[38;5;124mstrict\u001b[39m\u001b[38;5;124m\"\u001b[39m),\n\u001b[0;32m   1888\u001b[0m     storage_options\u001b[38;5;241m=\u001b[39m\u001b[38;5;28mself\u001b[39m\u001b[38;5;241m.\u001b[39moptions\u001b[38;5;241m.\u001b[39mget(\u001b[38;5;124m\"\u001b[39m\u001b[38;5;124mstorage_options\u001b[39m\u001b[38;5;124m\"\u001b[39m, \u001b[38;5;28;01mNone\u001b[39;00m),\n\u001b[0;32m   1889\u001b[0m )\n\u001b[0;32m   1890\u001b[0m \u001b[38;5;28;01massert\u001b[39;00m \u001b[38;5;28mself\u001b[39m\u001b[38;5;241m.\u001b[39mhandles \u001b[38;5;129;01mis\u001b[39;00m \u001b[38;5;129;01mnot\u001b[39;00m \u001b[38;5;28;01mNone\u001b[39;00m\n\u001b[0;32m   1891\u001b[0m f \u001b[38;5;241m=\u001b[39m \u001b[38;5;28mself\u001b[39m\u001b[38;5;241m.\u001b[39mhandles\u001b[38;5;241m.\u001b[39mhandle\n",
      "File \u001b[1;32mC:\\ProgramData\\anaconda3\\Lib\\site-packages\\pandas\\io\\common.py:873\u001b[0m, in \u001b[0;36mget_handle\u001b[1;34m(path_or_buf, mode, encoding, compression, memory_map, is_text, errors, storage_options)\u001b[0m\n\u001b[0;32m    868\u001b[0m \u001b[38;5;28;01melif\u001b[39;00m \u001b[38;5;28misinstance\u001b[39m(handle, \u001b[38;5;28mstr\u001b[39m):\n\u001b[0;32m    869\u001b[0m     \u001b[38;5;66;03m# Check whether the filename is to be opened in binary mode.\u001b[39;00m\n\u001b[0;32m    870\u001b[0m     \u001b[38;5;66;03m# Binary mode does not support 'encoding' and 'newline'.\u001b[39;00m\n\u001b[0;32m    871\u001b[0m     \u001b[38;5;28;01mif\u001b[39;00m ioargs\u001b[38;5;241m.\u001b[39mencoding \u001b[38;5;129;01mand\u001b[39;00m \u001b[38;5;124m\"\u001b[39m\u001b[38;5;124mb\u001b[39m\u001b[38;5;124m\"\u001b[39m \u001b[38;5;129;01mnot\u001b[39;00m \u001b[38;5;129;01min\u001b[39;00m ioargs\u001b[38;5;241m.\u001b[39mmode:\n\u001b[0;32m    872\u001b[0m         \u001b[38;5;66;03m# Encoding\u001b[39;00m\n\u001b[1;32m--> 873\u001b[0m         handle \u001b[38;5;241m=\u001b[39m \u001b[38;5;28mopen\u001b[39m(\n\u001b[0;32m    874\u001b[0m             handle,\n\u001b[0;32m    875\u001b[0m             ioargs\u001b[38;5;241m.\u001b[39mmode,\n\u001b[0;32m    876\u001b[0m             encoding\u001b[38;5;241m=\u001b[39mioargs\u001b[38;5;241m.\u001b[39mencoding,\n\u001b[0;32m    877\u001b[0m             errors\u001b[38;5;241m=\u001b[39merrors,\n\u001b[0;32m    878\u001b[0m             newline\u001b[38;5;241m=\u001b[39m\u001b[38;5;124m\"\u001b[39m\u001b[38;5;124m\"\u001b[39m,\n\u001b[0;32m    879\u001b[0m         )\n\u001b[0;32m    880\u001b[0m     \u001b[38;5;28;01melse\u001b[39;00m:\n\u001b[0;32m    881\u001b[0m         \u001b[38;5;66;03m# Binary mode\u001b[39;00m\n\u001b[0;32m    882\u001b[0m         handle \u001b[38;5;241m=\u001b[39m \u001b[38;5;28mopen\u001b[39m(handle, ioargs\u001b[38;5;241m.\u001b[39mmode)\n",
      "\u001b[1;31mFileNotFoundError\u001b[0m: [Errno 2] No such file or directory: 'C:\\\\Users\\\\orili\\\\OneDrive\\\\Documents\\\\School stuff\\\\DTA\\\\breast+cancer\\\\breast-cancer.csv'"
     ]
    }
   ],
   "source": [
    "breast_cancer= pd.read_csv(r\"C:\\Users\\orili\\OneDrive\\Documents\\School stuff\\DTA\\breast+cancer\\breast-cancer.csv\")"
   ]
  },
  {
   "cell_type": "code",
   "execution_count": null,
   "id": "aed488bb-d220-4f29-b3b4-1ea1349f33bc",
   "metadata": {},
   "outputs": [],
   "source": [
    "breast_cancer"
   ]
  },
  {
   "cell_type": "markdown",
   "id": "cd71a316-3605-4236-b65a-2498d1463a3d",
   "metadata": {},
   "source": [
    "## **Describing data**"
   ]
  },
  {
   "cell_type": "code",
   "execution_count": null,
   "id": "5cb80305-0a7d-48b9-a19d-e71ce8a4e973",
   "metadata": {},
   "outputs": [],
   "source": [
    "breast_cancer.info()"
   ]
  },
  {
   "cell_type": "code",
   "execution_count": null,
   "id": "c076cfa1-402a-4680-81d3-c044b99db9c8",
   "metadata": {},
   "outputs": [],
   "source": [
    "breast_cancer.describe()"
   ]
  },
  {
   "cell_type": "markdown",
   "id": "3300a03e-c4bc-4745-9b6e-906fe53a8285",
   "metadata": {},
   "source": [
    "## **Exploring data and Verifying data quality**"
   ]
  },
  {
   "cell_type": "code",
   "execution_count": null,
   "id": "46600a56-8def-4bfd-8f8b-3cb808b88409",
   "metadata": {},
   "outputs": [],
   "source": [
    "sns.boxplot(breast_cancer['Menopause'])"
   ]
  },
  {
   "cell_type": "code",
   "execution_count": null,
   "id": "3310590b-e1c9-4dae-918c-93728394ab8b",
   "metadata": {},
   "outputs": [],
   "source": [
    "sns.boxplot(breast_cancer['Tumor size'])"
   ]
  },
  {
   "cell_type": "code",
   "execution_count": null,
   "id": "e42fae8b-c047-4a7b-bb7e-388bcd78c751",
   "metadata": {},
   "outputs": [],
   "source": [
    "sns.boxplot(breast_cancer['Age Range'])"
   ]
  },
  {
   "cell_type": "code",
   "execution_count": null,
   "id": "5d21b8dc-e1a1-439f-bf63-861429075003",
   "metadata": {},
   "outputs": [],
   "source": [
    "sns.boxplot(breast_cancer['Inv-nodes'])"
   ]
  },
  {
   "cell_type": "code",
   "execution_count": null,
   "id": "52e839ff-b740-476b-bf0c-51de8ef45185",
   "metadata": {},
   "outputs": [],
   "source": [
    "sns.boxplot(breast_cancer['Node-caps'])"
   ]
  },
  {
   "cell_type": "code",
   "execution_count": null,
   "id": "ffd40a0c-4088-49a1-a7e9-6b9ce7e65a24",
   "metadata": {},
   "outputs": [],
   "source": [
    "sns.boxplot(breast_cancer['Degree of malignancy'])"
   ]
  },
  {
   "cell_type": "code",
   "execution_count": null,
   "id": "a4b553b4-4f66-45a4-bde9-32cba18f0b8b",
   "metadata": {},
   "outputs": [],
   "source": [
    "sns.boxplot(breast_cancer['Breast'])"
   ]
  },
  {
   "cell_type": "code",
   "execution_count": null,
   "id": "b6dc46ae-f4c3-4297-b877-de096591cc46",
   "metadata": {},
   "outputs": [],
   "source": [
    "sns.boxplot(breast_cancer['Breast-Quad'])"
   ]
  },
  {
   "cell_type": "code",
   "execution_count": null,
   "id": "73cba840-9a85-491e-abdd-d0afa2ce0372",
   "metadata": {},
   "outputs": [],
   "source": [
    "sns.boxplot(breast_cancer['Irradiat'])"
   ]
  },
  {
   "cell_type": "code",
   "execution_count": null,
   "id": "296f2944-cde9-4efe-a484-a61f93591791",
   "metadata": {},
   "outputs": [],
   "source": [
    "sns.boxplot(breast_cancer['Class'])"
   ]
  },
  {
   "cell_type": "code",
   "execution_count": null,
   "id": "91461a72-0ae7-421d-82c4-47a75484c5a2",
   "metadata": {},
   "outputs": [],
   "source": [
    "print(breast_cancer['Menopause'].unique())"
   ]
  },
  {
   "cell_type": "code",
   "execution_count": null,
   "id": "f4680d8e-33a3-40d3-8062-f1d170f55e59",
   "metadata": {},
   "outputs": [],
   "source": [
    "print(breast_cancer['Node-caps'].unique())"
   ]
  },
  {
   "cell_type": "code",
   "execution_count": null,
   "id": "876675e3-5e38-4cad-8d89-169b822c5b6b",
   "metadata": {},
   "outputs": [],
   "source": [
    "print(breast_cancer['Breast'].unique())"
   ]
  },
  {
   "cell_type": "code",
   "execution_count": null,
   "id": "69181d65-a32a-41d3-9b80-94a1ce953b20",
   "metadata": {},
   "outputs": [],
   "source": [
    "print(breast_cancer['Breast-Quad'].unique())"
   ]
  },
  {
   "cell_type": "code",
   "execution_count": null,
   "id": "6b8672a2-7989-470a-af92-0ec508738832",
   "metadata": {},
   "outputs": [],
   "source": [
    "print(breast_cancer['Irradiat'].unique())"
   ]
  },
  {
   "cell_type": "code",
   "execution_count": null,
   "id": "a76832c5-910b-4c41-9df8-cd028effbba9",
   "metadata": {},
   "outputs": [],
   "source": [
    "print(breast_cancer['Class'].unique())"
   ]
  },
  {
   "cell_type": "code",
   "execution_count": null,
   "id": "1c9e50e5-aca6-4887-b033-3bbbabb06669",
   "metadata": {},
   "outputs": [],
   "source": [
    "breast_cancer.isnull().sum()"
   ]
  },
  {
   "cell_type": "code",
   "execution_count": null,
   "id": "68768c40-e265-4065-9294-03305e65dd87",
   "metadata": {},
   "outputs": [],
   "source": [
    "breast_cancer.duplicated().sum()"
   ]
  },
  {
   "cell_type": "markdown",
   "id": "80ff54a1-e497-478a-8055-deaa0e6f286f",
   "metadata": {},
   "source": [
    "# **Data Cleaning:**"
   ]
  },
  {
   "cell_type": "code",
   "execution_count": null,
   "id": "8d1dcdaa-9884-4bc0-96f1-8561a8870291",
   "metadata": {},
   "outputs": [],
   "source": []
  }
 ],
 "metadata": {
  "kernelspec": {
   "display_name": "Python 3 (ipykernel)",
   "language": "python",
   "name": "python3"
  },
  "language_info": {
   "codemirror_mode": {
    "name": "ipython",
    "version": 3
   },
   "file_extension": ".py",
   "mimetype": "text/x-python",
   "name": "python",
   "nbconvert_exporter": "python",
   "pygments_lexer": "ipython3",
   "version": "3.12.4"
  }
 },
 "nbformat": 4,
 "nbformat_minor": 5
}

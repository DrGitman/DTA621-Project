{
 "cells": [
  {
   "cell_type": "markdown",
   "id": "18c38a1c-d8ae-4fc1-85f6-750453609290",
   "metadata": {},
   "source": [
    "# **Imports**"
   ]
  },
  {
   "cell_type": "code",
   "execution_count": 71,
   "id": "8409eb13-1cb9-4542-9316-ab0491f3a272",
   "metadata": {},
   "outputs": [],
   "source": [
    "# This code was done by 223077593 - ORILIO NAOBEB\n",
    "import pandas as pd\n",
    "import numpy as np\n",
    "\n",
    "from sklearn.impute import SimpleImputer\n",
    "from sklearn.preprocessing import StandardScaler\n",
    "from sklearn.preprocessing import LabelEncoder\n",
    "from sklearn.tree import DecisionTreeRegressor\n",
    "from sklearn.tree import DecisionTreeClassifier\n",
    "from thefuzz import process\n",
    "\n",
    "import matplotlib.pyplot as plt\n",
    "import seaborn as sns\n",
    "\n",
    "# This code was done by 222129816 - TANAKA MUSHUKUTU\n",
    "import plotly.express as px"
   ]
  },
  {
   "cell_type": "markdown",
   "id": "99b913b5-4504-48e2-99f4-b4692df2113e",
   "metadata": {},
   "source": [
    "# **Data Understanding:**"
   ]
  },
  {
   "cell_type": "markdown",
   "id": "24892b76-0f3e-40d3-991c-0a4330165930",
   "metadata": {},
   "source": [
    "## **Gathering Data/Load dataset**"
   ]
  },
  {
   "cell_type": "code",
   "execution_count": 74,
   "id": "475258e3-3bbd-4108-9361-a7d1f2157674",
   "metadata": {},
   "outputs": [],
   "source": [
    "# This code was done by 223077593 - ORILIO NAOBEB\n",
    "breast_cancer= pd.read_csv(r\"C:\\Users\\orili\\OneDrive\\Documents\\School stuff\\DTA\\DTA621-Project\\breast+cancer\\breast-cancer.csv\")"
   ]
  },
  {
   "cell_type": "code",
   "execution_count": 75,
   "id": "aed488bb-d220-4f29-b3b4-1ea1349f33bc",
   "metadata": {},
   "outputs": [
    {
     "data": {
      "text/html": [
       "<div>\n",
       "<style scoped>\n",
       "    .dataframe tbody tr th:only-of-type {\n",
       "        vertical-align: middle;\n",
       "    }\n",
       "\n",
       "    .dataframe tbody tr th {\n",
       "        vertical-align: top;\n",
       "    }\n",
       "\n",
       "    .dataframe thead th {\n",
       "        text-align: right;\n",
       "    }\n",
       "</style>\n",
       "<table border=\"1\" class=\"dataframe\">\n",
       "  <thead>\n",
       "    <tr style=\"text-align: right;\">\n",
       "      <th></th>\n",
       "      <th>Age Range</th>\n",
       "      <th>Menopause</th>\n",
       "      <th>Tumor size</th>\n",
       "      <th>Inv-nodes</th>\n",
       "      <th>Node-caps</th>\n",
       "      <th>Degree of malignancy</th>\n",
       "      <th>Breast</th>\n",
       "      <th>Breast-Quad</th>\n",
       "      <th>Irradiat</th>\n",
       "      <th>Class</th>\n",
       "    </tr>\n",
       "  </thead>\n",
       "  <tbody>\n",
       "    <tr>\n",
       "      <th>0</th>\n",
       "      <td>30-39</td>\n",
       "      <td>premeno</td>\n",
       "      <td>30-34</td>\n",
       "      <td>0-2</td>\n",
       "      <td>no</td>\n",
       "      <td>3</td>\n",
       "      <td>left</td>\n",
       "      <td>left_low</td>\n",
       "      <td>no</td>\n",
       "      <td>no-recurrence-events</td>\n",
       "    </tr>\n",
       "    <tr>\n",
       "      <th>1</th>\n",
       "      <td>40-49</td>\n",
       "      <td>premeno</td>\n",
       "      <td>20-24</td>\n",
       "      <td>0-2</td>\n",
       "      <td>no</td>\n",
       "      <td>2</td>\n",
       "      <td>right</td>\n",
       "      <td>right_up</td>\n",
       "      <td>no</td>\n",
       "      <td>no-recurrence-events</td>\n",
       "    </tr>\n",
       "    <tr>\n",
       "      <th>2</th>\n",
       "      <td>40-49</td>\n",
       "      <td>premeno</td>\n",
       "      <td>20-24</td>\n",
       "      <td>0-2</td>\n",
       "      <td>no</td>\n",
       "      <td>2</td>\n",
       "      <td>left</td>\n",
       "      <td>left_low</td>\n",
       "      <td>no</td>\n",
       "      <td>no-recurrence-events</td>\n",
       "    </tr>\n",
       "    <tr>\n",
       "      <th>3</th>\n",
       "      <td>60-69</td>\n",
       "      <td>ge40</td>\n",
       "      <td>15-19</td>\n",
       "      <td>0-2</td>\n",
       "      <td>no</td>\n",
       "      <td>2</td>\n",
       "      <td>right</td>\n",
       "      <td>left_up</td>\n",
       "      <td>no</td>\n",
       "      <td>no-recurrence-events</td>\n",
       "    </tr>\n",
       "    <tr>\n",
       "      <th>4</th>\n",
       "      <td>40-49</td>\n",
       "      <td>premeno</td>\n",
       "      <td>0-4</td>\n",
       "      <td>0-2</td>\n",
       "      <td>no</td>\n",
       "      <td>2</td>\n",
       "      <td>right</td>\n",
       "      <td>right_low</td>\n",
       "      <td>no</td>\n",
       "      <td>no-recurrence-events</td>\n",
       "    </tr>\n",
       "    <tr>\n",
       "      <th>...</th>\n",
       "      <td>...</td>\n",
       "      <td>...</td>\n",
       "      <td>...</td>\n",
       "      <td>...</td>\n",
       "      <td>...</td>\n",
       "      <td>...</td>\n",
       "      <td>...</td>\n",
       "      <td>...</td>\n",
       "      <td>...</td>\n",
       "      <td>...</td>\n",
       "    </tr>\n",
       "    <tr>\n",
       "      <th>281</th>\n",
       "      <td>30-39</td>\n",
       "      <td>premeno</td>\n",
       "      <td>30-34</td>\n",
       "      <td>0-2</td>\n",
       "      <td>no</td>\n",
       "      <td>2</td>\n",
       "      <td>left</td>\n",
       "      <td>left_up</td>\n",
       "      <td>no</td>\n",
       "      <td>recurrence-events</td>\n",
       "    </tr>\n",
       "    <tr>\n",
       "      <th>282</th>\n",
       "      <td>30-39</td>\n",
       "      <td>premeno</td>\n",
       "      <td>20-24</td>\n",
       "      <td>0-2</td>\n",
       "      <td>no</td>\n",
       "      <td>3</td>\n",
       "      <td>left</td>\n",
       "      <td>left_up</td>\n",
       "      <td>yes</td>\n",
       "      <td>recurrence-events</td>\n",
       "    </tr>\n",
       "    <tr>\n",
       "      <th>283</th>\n",
       "      <td>60-69</td>\n",
       "      <td>ge40</td>\n",
       "      <td>20-24</td>\n",
       "      <td>0-2</td>\n",
       "      <td>no</td>\n",
       "      <td>1</td>\n",
       "      <td>right</td>\n",
       "      <td>left_up</td>\n",
       "      <td>no</td>\n",
       "      <td>recurrence-events</td>\n",
       "    </tr>\n",
       "    <tr>\n",
       "      <th>284</th>\n",
       "      <td>40-49</td>\n",
       "      <td>ge40</td>\n",
       "      <td>30-34</td>\n",
       "      <td>5-Mar</td>\n",
       "      <td>no</td>\n",
       "      <td>3</td>\n",
       "      <td>left</td>\n",
       "      <td>left_low</td>\n",
       "      <td>no</td>\n",
       "      <td>recurrence-events</td>\n",
       "    </tr>\n",
       "    <tr>\n",
       "      <th>285</th>\n",
       "      <td>50-59</td>\n",
       "      <td>ge40</td>\n",
       "      <td>30-34</td>\n",
       "      <td>5-Mar</td>\n",
       "      <td>no</td>\n",
       "      <td>3</td>\n",
       "      <td>left</td>\n",
       "      <td>left_low</td>\n",
       "      <td>no</td>\n",
       "      <td>recurrence-events</td>\n",
       "    </tr>\n",
       "  </tbody>\n",
       "</table>\n",
       "<p>286 rows × 10 columns</p>\n",
       "</div>"
      ],
      "text/plain": [
       "    Age Range Menopause Tumor size Inv-nodes Node-caps  Degree of malignancy  \\\n",
       "0       30-39   premeno      30-34       0-2        no                     3   \n",
       "1       40-49   premeno      20-24       0-2        no                     2   \n",
       "2       40-49   premeno      20-24       0-2        no                     2   \n",
       "3       60-69      ge40      15-19       0-2        no                     2   \n",
       "4       40-49   premeno        0-4       0-2        no                     2   \n",
       "..        ...       ...        ...       ...       ...                   ...   \n",
       "281     30-39   premeno      30-34       0-2        no                     2   \n",
       "282     30-39   premeno      20-24       0-2        no                     3   \n",
       "283     60-69      ge40      20-24       0-2        no                     1   \n",
       "284     40-49      ge40      30-34     5-Mar        no                     3   \n",
       "285     50-59      ge40      30-34     5-Mar        no                     3   \n",
       "\n",
       "    Breast Breast-Quad Irradiat                 Class  \n",
       "0     left    left_low       no  no-recurrence-events  \n",
       "1    right    right_up       no  no-recurrence-events  \n",
       "2     left    left_low       no  no-recurrence-events  \n",
       "3    right     left_up       no  no-recurrence-events  \n",
       "4    right   right_low       no  no-recurrence-events  \n",
       "..     ...         ...      ...                   ...  \n",
       "281   left     left_up       no     recurrence-events  \n",
       "282   left     left_up      yes     recurrence-events  \n",
       "283  right     left_up       no     recurrence-events  \n",
       "284   left    left_low       no     recurrence-events  \n",
       "285   left    left_low       no     recurrence-events  \n",
       "\n",
       "[286 rows x 10 columns]"
      ]
     },
     "execution_count": 75,
     "metadata": {},
     "output_type": "execute_result"
    }
   ],
   "source": [
    "# This code was done by 223077593 - ORILIO NAOBEB\n",
    "breast_cancer"
   ]
  },
  {
   "cell_type": "markdown",
   "id": "cd71a316-3605-4236-b65a-2498d1463a3d",
   "metadata": {},
   "source": [
    "## **Describing data**"
   ]
  },
  {
   "cell_type": "code",
   "execution_count": 76,
   "id": "5cb80305-0a7d-48b9-a19d-e71ce8a4e973",
   "metadata": {},
   "outputs": [
    {
     "name": "stdout",
     "output_type": "stream",
     "text": [
      "<class 'pandas.core.frame.DataFrame'>\n",
      "RangeIndex: 286 entries, 0 to 285\n",
      "Data columns (total 10 columns):\n",
      " #   Column                Non-Null Count  Dtype \n",
      "---  ------                --------------  ----- \n",
      " 0   Age Range             286 non-null    object\n",
      " 1   Menopause             286 non-null    object\n",
      " 2   Tumor size            286 non-null    object\n",
      " 3   Inv-nodes             286 non-null    object\n",
      " 4   Node-caps             278 non-null    object\n",
      " 5   Degree of malignancy  286 non-null    int64 \n",
      " 6   Breast                286 non-null    object\n",
      " 7   Breast-Quad           285 non-null    object\n",
      " 8   Irradiat              286 non-null    object\n",
      " 9   Class                 286 non-null    object\n",
      "dtypes: int64(1), object(9)\n",
      "memory usage: 22.5+ KB\n"
     ]
    }
   ],
   "source": [
    "# This code was done by 223077593 - ORILIO NAOBEB\n",
    "breast_cancer.info()"
   ]
  },
  {
   "cell_type": "code",
   "execution_count": 77,
   "id": "c076cfa1-402a-4680-81d3-c044b99db9c8",
   "metadata": {},
   "outputs": [
    {
     "data": {
      "text/html": [
       "<div>\n",
       "<style scoped>\n",
       "    .dataframe tbody tr th:only-of-type {\n",
       "        vertical-align: middle;\n",
       "    }\n",
       "\n",
       "    .dataframe tbody tr th {\n",
       "        vertical-align: top;\n",
       "    }\n",
       "\n",
       "    .dataframe thead th {\n",
       "        text-align: right;\n",
       "    }\n",
       "</style>\n",
       "<table border=\"1\" class=\"dataframe\">\n",
       "  <thead>\n",
       "    <tr style=\"text-align: right;\">\n",
       "      <th></th>\n",
       "      <th>Degree of malignancy</th>\n",
       "    </tr>\n",
       "  </thead>\n",
       "  <tbody>\n",
       "    <tr>\n",
       "      <th>count</th>\n",
       "      <td>286.000000</td>\n",
       "    </tr>\n",
       "    <tr>\n",
       "      <th>mean</th>\n",
       "      <td>2.048951</td>\n",
       "    </tr>\n",
       "    <tr>\n",
       "      <th>std</th>\n",
       "      <td>0.738217</td>\n",
       "    </tr>\n",
       "    <tr>\n",
       "      <th>min</th>\n",
       "      <td>1.000000</td>\n",
       "    </tr>\n",
       "    <tr>\n",
       "      <th>25%</th>\n",
       "      <td>2.000000</td>\n",
       "    </tr>\n",
       "    <tr>\n",
       "      <th>50%</th>\n",
       "      <td>2.000000</td>\n",
       "    </tr>\n",
       "    <tr>\n",
       "      <th>75%</th>\n",
       "      <td>3.000000</td>\n",
       "    </tr>\n",
       "    <tr>\n",
       "      <th>max</th>\n",
       "      <td>3.000000</td>\n",
       "    </tr>\n",
       "  </tbody>\n",
       "</table>\n",
       "</div>"
      ],
      "text/plain": [
       "       Degree of malignancy\n",
       "count            286.000000\n",
       "mean               2.048951\n",
       "std                0.738217\n",
       "min                1.000000\n",
       "25%                2.000000\n",
       "50%                2.000000\n",
       "75%                3.000000\n",
       "max                3.000000"
      ]
     },
     "execution_count": 77,
     "metadata": {},
     "output_type": "execute_result"
    }
   ],
   "source": [
    "# This code was done by 223077593 - ORILIO NAOBEB\n",
    "breast_cancer.describe()"
   ]
  },
  {
   "cell_type": "markdown",
   "id": "3300a03e-c4bc-4745-9b6e-906fe53a8285",
   "metadata": {},
   "source": [
    "## **Exploring data and Verifying data quality**"
   ]
  },
  {
   "cell_type": "code",
   "execution_count": 78,
   "id": "46600a56-8def-4bfd-8f8b-3cb808b88409",
   "metadata": {},
   "outputs": [
    {
     "data": {
      "text/plain": [
       "<Axes: ylabel='Menopause'>"
      ]
     },
     "execution_count": 78,
     "metadata": {},
     "output_type": "execute_result"
    },
    {
     "data": {
      "image/png": "[encoded data removed]",
      "text/plain": [
       "<Figure size 640x480 with 1 Axes>"
      ]
     },
     "metadata": {},
     "output_type": "display_data"
    }
   ],
   "source": [
    "# This code was done by 223077593 - ORILIO NAOBEB\n",
    "sns.boxplot(breast_cancer['Menopause'])"
   ]
  },
  {
   "cell_type": "code",
   "execution_count": 79,
   "id": "3310590b-e1c9-4dae-918c-93728394ab8b",
   "metadata": {},
   "outputs": [
    {
     "data": {
      "text/plain": [
       "<Axes: ylabel='Tumor size'>"
      ]
     },
     "execution_count": 79,
     "metadata": {},
     "output_type": "execute_result"
    },
    {
     "data": {
      "image/png": "[encoded data removed]",
      "text/plain": [
       "<Figure size 640x480 with 1 Axes>"
      ]
     },
     "metadata": {},
     "output_type": "display_data"
    }
   ],
   "source": [
    "# This code was done by 223077593 - ORILIO NAOBEB\n",
    "sns.boxplot(breast_cancer['Tumor size'])"
   ]
  },
  {
   "cell_type": "code",
   "execution_count": 80,
   "id": "e42fae8b-c047-4a7b-bb7e-388bcd78c751",
   "metadata": {},
   "outputs": [
    {
     "data": {
      "text/plain": [
       "<Axes: ylabel='Age Range'>"
      ]
     },
     "execution_count": 80,
     "metadata": {},
     "output_type": "execute_result"
    },
    {
     "data": {
      "image/png": "[encoded data removed]",
      "text/plain": [
       "<Figure size 640x480 with 1 Axes>"
      ]
     },
     "metadata": {},
     "output_type": "display_data"
    }
   ],
   "source": [
    "# This code was done by 223077593 - ORILIO NAOBEB\n",
    "sns.boxplot(breast_cancer['Age Range'])"
   ]
  },
  {
   "cell_type": "code",
   "execution_count": 81,
   "id": "5d21b8dc-e1a1-439f-bf63-861429075003",
   "metadata": {},
   "outputs": [
    {
     "data": {
      "text/plain": [
       "<Axes: ylabel='Inv-nodes'>"
      ]
     },
     "execution_count": 81,
     "metadata": {},
     "output_type": "execute_result"
    },
    {
     "data": {
      "image/png": "[encoded data removed]",
      "text/plain": [
       "<Figure size 640x480 with 1 Axes>"
      ]
     },
     "metadata": {},
     "output_type": "display_data"
    }
   ],
   "source": [
    "# This code was done by 223077593 - ORILIO NAOBEB\n",
    "sns.boxplot(breast_cancer['Inv-nodes'])"
   ]
  },
  {
   "cell_type": "code",
   "execution_count": 82,
   "id": "52e839ff-b740-476b-bf0c-51de8ef45185",
   "metadata": {},
   "outputs": [
    {
     "data": {
      "text/plain": [
       "<Axes: ylabel='Node-caps'>"
      ]
     },
     "execution_count": 82,
     "metadata": {},
     "output_type": "execute_result"
    },
    {
     "data": {
      "image/png": "[encoded data removed]",
      "text/plain": [
       "<Figure size 640x480 with 1 Axes>"
      ]
     },
     "metadata": {},
     "output_type": "display_data"
    }
   ],
   "source": [
    "# This code was done by 223077593 - ORILIO NAOBEB\n",
    "sns.boxplot(breast_cancer['Node-caps'])"
   ]
  },
  {
   "cell_type": "code",
   "execution_count": 83,
   "id": "ffd40a0c-4088-49a1-a7e9-6b9ce7e65a24",
   "metadata": {},
   "outputs": [
    {
     "data": {
      "text/plain": [
       "<Axes: ylabel='Degree of malignancy'>"
      ]
     },
     "execution_count": 83,
     "metadata": {},
     "output_type": "execute_result"
    },
    {
     "data": {
      "image/png": "[encoded data removed]",
      "text/plain": [
       "<Figure size 640x480 with 1 Axes>"
      ]
     },
     "metadata": {},
     "output_type": "display_data"
    }
   ],
   "source": [
    "# This code was done by 223077593 - ORILIO NAOBEB\n",
    "sns.boxplot(breast_cancer['Degree of malignancy'])"
   ]
  },
  {
   "cell_type": "code",
   "execution_count": 84,
   "id": "a4b553b4-4f66-45a4-bde9-32cba18f0b8b",
   "metadata": {},
   "outputs": [
    {
     "data": {
      "text/plain": [
       "<Axes: ylabel='Breast'>"
      ]
     },
     "execution_count": 84,
     "metadata": {},
     "output_type": "execute_result"
    },
    {
     "data": {
      "image/png": "[encoded data removed]",
      "text/plain": [
       "<Figure size 640x480 with 1 Axes>"
      ]
     },
     "metadata": {},
     "output_type": "display_data"
    }
   ],
   "source": [
    "# This code was done by 223077593 - ORILIO NAOBEB\n",
    "sns.boxplot(breast_cancer['Breast'])"
   ]
  },
  {
   "cell_type": "code",
   "execution_count": 85,
   "id": "b6dc46ae-f4c3-4297-b877-de096591cc46",
   "metadata": {},
   "outputs": [
    {
     "data": {
      "text/plain": [
       "<Axes: ylabel='Breast-Quad'>"
      ]
     },
     "execution_count": 85,
     "metadata": {},
     "output_type": "execute_result"
    },
    {
     "data": {
      "image/png": "[encoded data removed]",
      "text/plain": [
       "<Figure size 640x480 with 1 Axes>"
      ]
     },
     "metadata": {},
     "output_type": "display_data"
    }
   ],
   "source": [
    "# This code was done by 223077593 - ORILIO NAOBEB\n",
    "sns.boxplot(breast_cancer['Breast-Quad'])"
   ]
  },
  {
   "cell_type": "code",
   "execution_count": 86,
   "id": "73cba840-9a85-491e-abdd-d0afa2ce0372",
   "metadata": {},
   "outputs": [
    {
     "data": {
      "text/plain": [
       "<Axes: ylabel='Irradiat'>"
      ]
     },
     "execution_count": 86,
     "metadata": {},
     "output_type": "execute_result"
    },
    {
     "data": {
      "image/png": "[encoded data removed]",
      "text/plain": [
       "<Figure size 640x480 with 1 Axes>"
      ]
     },
     "metadata": {},
     "output_type": "display_data"
    }
   ],
   "source": [
    "# This code was done by 223077593 - ORILIO NAOBEB\n",
    "sns.boxplot(breast_cancer['Irradiat'])"
   ]
  },
  {
   "cell_type": "code",
   "execution_count": 87,
   "id": "296f2944-cde9-4efe-a484-a61f93591791",
   "metadata": {},
   "outputs": [
    {
     "data": {
      "text/plain": [
       "<Axes: ylabel='Class'>"
      ]
     },
     "execution_count": 87,
     "metadata": {},
     "output_type": "execute_result"
    },
    {
     "data": {
      "image/png": "[encoded data removed]",
      "text/plain": [
       "<Figure size 640x480 with 1 Axes>"
      ]
     },
     "metadata": {},
     "output_type": "display_data"
    }
   ],
   "source": [
    "# This code was done by 223077593 - ORILIO NAOBEB\n",
    "sns.boxplot(breast_cancer['Class'])"
   ]
  },
  {
   "cell_type": "code",
   "execution_count": 88,
   "id": "91461a72-0ae7-421d-82c4-47a75484c5a2",
   "metadata": {},
   "outputs": [
    {
     "name": "stdout",
     "output_type": "stream",
     "text": [
      "['premeno' 'ge40' 'lt40']\n"
     ]
    }
   ],
   "source": [
    "# This code was done by 223077593 - ORILIO NAOBEB\n",
    "print(breast_cancer['Menopause'].unique())"
   ]
  },
  {
   "cell_type": "code",
   "execution_count": 89,
   "id": "f4680d8e-33a3-40d3-8062-f1d170f55e59",
   "metadata": {},
   "outputs": [
    {
     "name": "stdout",
     "output_type": "stream",
     "text": [
      "['no' 'yes' nan]\n"
     ]
    }
   ],
   "source": [
    "# This code was done by 223077593 - ORILIO NAOBEB\n",
    "print(breast_cancer['Node-caps'].unique())"
   ]
  },
  {
   "cell_type": "code",
   "execution_count": 90,
   "id": "876675e3-5e38-4cad-8d89-169b822c5b6b",
   "metadata": {},
   "outputs": [
    {
     "name": "stdout",
     "output_type": "stream",
     "text": [
      "['left' 'right']\n"
     ]
    }
   ],
   "source": [
    "# This code was done by 223077593 - ORILIO NAOBEB\n",
    "print(breast_cancer['Breast'].unique())"
   ]
  },
  {
   "cell_type": "code",
   "execution_count": 91,
   "id": "69181d65-a32a-41d3-9b80-94a1ce953b20",
   "metadata": {},
   "outputs": [
    {
     "name": "stdout",
     "output_type": "stream",
     "text": [
      "['left_low' 'right_up' 'left_up' 'right_low' 'central' nan]\n"
     ]
    }
   ],
   "source": [
    "# This code was done by 223077593 - ORILIO NAOBEB\n",
    "print(breast_cancer['Breast-Quad'].unique())"
   ]
  },
  {
   "cell_type": "code",
   "execution_count": 96,
   "id": "6b8672a2-7989-470a-af92-0ec508738832",
   "metadata": {},
   "outputs": [
    {
     "name": "stdout",
     "output_type": "stream",
     "text": [
      "['no' 'yes']\n"
     ]
    }
   ],
   "source": [
    "# This code was done by 223077593 - ORILIO NAOBEB\n",
    "print(breast_cancer['Irradiat'].unique())"
   ]
  },
  {
   "cell_type": "code",
   "execution_count": 97,
   "id": "795b7686-144a-43a7-8607-ded1a8672c13",
   "metadata": {},
   "outputs": [
    {
     "name": "stdout",
     "output_type": "stream",
     "text": [
      "['0-2' '8-Jun' '11-Sep' '5-Mar' '15-17' '14-Dec' '24-26']\n"
     ]
    }
   ],
   "source": [
    "# This code was done by 223077593 - ORILIO NAOBEB\n",
    "print(breast_cancer['Inv-nodes'].unique())"
   ]
  },
  {
   "cell_type": "code",
   "execution_count": 98,
   "id": "b2ef4ba8-14ac-4c8c-b596-c3d971cb6e5b",
   "metadata": {},
   "outputs": [
    {
     "name": "stdout",
     "output_type": "stream",
     "text": [
      "['30-34' '20-24' '15-19' '0-4' '25-29' '50-54' '14-Oct' '40-44' '35-39'\n",
      " '9-May' '45-49']\n"
     ]
    }
   ],
   "source": [
    "# This code was done by 223077593 - ORILIO NAOBEB\n",
    "print(breast_cancer['Tumor size'].unique())"
   ]
  },
  {
   "cell_type": "code",
   "execution_count": 99,
   "id": "651eb5b3-3159-44bb-be28-a13aa83d4a84",
   "metadata": {},
   "outputs": [
    {
     "name": "stdout",
     "output_type": "stream",
     "text": [
      "['30-39' '40-49' '60-69' '50-59' '70-79' '20-29']\n"
     ]
    }
   ],
   "source": [
    "# This code was done by 223077593 - ORILIO NAOBEB\n",
    "print(breast_cancer['Age Range'].unique())"
   ]
  },
  {
   "cell_type": "code",
   "execution_count": 100,
   "id": "33002082-de2d-4ce5-aa73-b2e09254f1c8",
   "metadata": {},
   "outputs": [
    {
     "name": "stdout",
     "output_type": "stream",
     "text": [
      "[3 2 1]\n"
     ]
    }
   ],
   "source": [
    "# This code was done by 223077593 - ORILIO NAOBEB\n",
    "print(breast_cancer['Degree of malignancy'].unique())"
   ]
  },
  {
   "cell_type": "code",
   "execution_count": 101,
   "id": "a76832c5-910b-4c41-9df8-cd028effbba9",
   "metadata": {},
   "outputs": [
    {
     "name": "stdout",
     "output_type": "stream",
     "text": [
      "['no-recurrence-events' 'recurrence-events']\n"
     ]
    }
   ],
   "source": [
    "# This code was done by 223077593 - ORILIO NAOBEB\n",
    "print(breast_cancer['Class'].unique())"
   ]
  },
  {
   "cell_type": "code",
   "execution_count": 102,
   "id": "1c9e50e5-aca6-4887-b033-3bbbabb06669",
   "metadata": {},
   "outputs": [
    {
     "data": {
      "text/plain": [
       "Age Range               0\n",
       "Menopause               0\n",
       "Tumor size              0\n",
       "Inv-nodes               0\n",
       "Node-caps               8\n",
       "Degree of malignancy    0\n",
       "Breast                  0\n",
       "Breast-Quad             1\n",
       "Irradiat                0\n",
       "Class                   0\n",
       "dtype: int64"
      ]
     },
     "execution_count": 102,
     "metadata": {},
     "output_type": "execute_result"
    }
   ],
   "source": [
    "# This code was done by 223077593 - ORILIO NAOBEB\n",
    "breast_cancer.isnull().sum()"
   ]
  },
  {
   "cell_type": "code",
   "execution_count": 103,
   "id": "68768c40-e265-4065-9294-03305e65dd87",
   "metadata": {},
   "outputs": [
    {
     "data": {
      "text/plain": [
       "14"
      ]
     },
     "execution_count": 103,
     "metadata": {},
     "output_type": "execute_result"
    }
   ],
   "source": [
    "# This code was done by 223077593 - ORILIO NAOBEB\n",
    "breast_cancer.duplicated().sum()"
   ]
  },
  {
   "cell_type": "markdown",
   "id": "80ff54a1-e497-478a-8055-deaa0e6f286f",
   "metadata": {},
   "source": [
    "# **Data Cleaning:**"
   ]
  },
  {
   "cell_type": "markdown",
   "id": "09ff4fce-c8dd-4f80-8e67-c3c5ba1fb3a7",
   "metadata": {},
   "source": [
    "## **Missing Values**"
   ]
  },
  {
   "cell_type": "code",
   "execution_count": 104,
   "id": "e8898924-5b7b-45ca-b58e-2f4c1099eace",
   "metadata": {},
   "outputs": [
    {
     "data": {
      "text/html": [
       "<div>\n",
       "<style scoped>\n",
       "    .dataframe tbody tr th:only-of-type {\n",
       "        vertical-align: middle;\n",
       "    }\n",
       "\n",
       "    .dataframe tbody tr th {\n",
       "        vertical-align: top;\n",
       "    }\n",
       "\n",
       "    .dataframe thead th {\n",
       "        text-align: right;\n",
       "    }\n",
       "</style>\n",
       "<table border=\"1\" class=\"dataframe\">\n",
       "  <thead>\n",
       "    <tr style=\"text-align: right;\">\n",
       "      <th></th>\n",
       "      <th>Age Range</th>\n",
       "      <th>Menopause</th>\n",
       "      <th>Tumor size</th>\n",
       "      <th>Inv-nodes</th>\n",
       "      <th>Node-caps</th>\n",
       "      <th>Degree of malignancy</th>\n",
       "      <th>Breast</th>\n",
       "      <th>Breast-Quad</th>\n",
       "      <th>Irradiat</th>\n",
       "      <th>Class</th>\n",
       "    </tr>\n",
       "  </thead>\n",
       "  <tbody>\n",
       "    <tr>\n",
       "      <th>226</th>\n",
       "      <td>40-49</td>\n",
       "      <td>premeno</td>\n",
       "      <td>30-34</td>\n",
       "      <td>15-17</td>\n",
       "      <td>yes</td>\n",
       "      <td>3</td>\n",
       "      <td>left</td>\n",
       "      <td>left_low</td>\n",
       "      <td>no</td>\n",
       "      <td>recurrence-events</td>\n",
       "    </tr>\n",
       "    <tr>\n",
       "      <th>227</th>\n",
       "      <td>50-59</td>\n",
       "      <td>premeno</td>\n",
       "      <td>30-34</td>\n",
       "      <td>0-2</td>\n",
       "      <td>no</td>\n",
       "      <td>3</td>\n",
       "      <td>right</td>\n",
       "      <td>left_up</td>\n",
       "      <td>yes</td>\n",
       "      <td>recurrence-events</td>\n",
       "    </tr>\n",
       "    <tr>\n",
       "      <th>228</th>\n",
       "      <td>60-69</td>\n",
       "      <td>ge40</td>\n",
       "      <td>40-44</td>\n",
       "      <td>5-Mar</td>\n",
       "      <td>yes</td>\n",
       "      <td>3</td>\n",
       "      <td>right</td>\n",
       "      <td>left_low</td>\n",
       "      <td>no</td>\n",
       "      <td>recurrence-events</td>\n",
       "    </tr>\n",
       "    <tr>\n",
       "      <th>229</th>\n",
       "      <td>60-69</td>\n",
       "      <td>ge40</td>\n",
       "      <td>45-49</td>\n",
       "      <td>0-2</td>\n",
       "      <td>no</td>\n",
       "      <td>1</td>\n",
       "      <td>right</td>\n",
       "      <td>right_up</td>\n",
       "      <td>yes</td>\n",
       "      <td>recurrence-events</td>\n",
       "    </tr>\n",
       "    <tr>\n",
       "      <th>230</th>\n",
       "      <td>50-59</td>\n",
       "      <td>premeno</td>\n",
       "      <td>50-54</td>\n",
       "      <td>11-Sep</td>\n",
       "      <td>yes</td>\n",
       "      <td>2</td>\n",
       "      <td>right</td>\n",
       "      <td>left_up</td>\n",
       "      <td>no</td>\n",
       "      <td>recurrence-events</td>\n",
       "    </tr>\n",
       "    <tr>\n",
       "      <th>231</th>\n",
       "      <td>40-49</td>\n",
       "      <td>premeno</td>\n",
       "      <td>30-34</td>\n",
       "      <td>5-Mar</td>\n",
       "      <td>no</td>\n",
       "      <td>2</td>\n",
       "      <td>right</td>\n",
       "      <td>left_up</td>\n",
       "      <td>no</td>\n",
       "      <td>recurrence-events</td>\n",
       "    </tr>\n",
       "    <tr>\n",
       "      <th>232</th>\n",
       "      <td>30-39</td>\n",
       "      <td>premeno</td>\n",
       "      <td>30-34</td>\n",
       "      <td>5-Mar</td>\n",
       "      <td>no</td>\n",
       "      <td>3</td>\n",
       "      <td>right</td>\n",
       "      <td>left_up</td>\n",
       "      <td>yes</td>\n",
       "      <td>recurrence-events</td>\n",
       "    </tr>\n",
       "    <tr>\n",
       "      <th>233</th>\n",
       "      <td>70-79</td>\n",
       "      <td>ge40</td>\n",
       "      <td>15-19</td>\n",
       "      <td>11-Sep</td>\n",
       "      <td>NaN</td>\n",
       "      <td>1</td>\n",
       "      <td>left</td>\n",
       "      <td>left_low</td>\n",
       "      <td>yes</td>\n",
       "      <td>recurrence-events</td>\n",
       "    </tr>\n",
       "    <tr>\n",
       "      <th>234</th>\n",
       "      <td>60-69</td>\n",
       "      <td>ge40</td>\n",
       "      <td>30-34</td>\n",
       "      <td>0-2</td>\n",
       "      <td>no</td>\n",
       "      <td>3</td>\n",
       "      <td>right</td>\n",
       "      <td>left_up</td>\n",
       "      <td>yes</td>\n",
       "      <td>recurrence-events</td>\n",
       "    </tr>\n",
       "    <tr>\n",
       "      <th>235</th>\n",
       "      <td>50-59</td>\n",
       "      <td>premeno</td>\n",
       "      <td>25-29</td>\n",
       "      <td>5-Mar</td>\n",
       "      <td>yes</td>\n",
       "      <td>3</td>\n",
       "      <td>left</td>\n",
       "      <td>left_low</td>\n",
       "      <td>yes</td>\n",
       "      <td>recurrence-events</td>\n",
       "    </tr>\n",
       "    <tr>\n",
       "      <th>236</th>\n",
       "      <td>40-49</td>\n",
       "      <td>premeno</td>\n",
       "      <td>25-29</td>\n",
       "      <td>0-2</td>\n",
       "      <td>no</td>\n",
       "      <td>2</td>\n",
       "      <td>right</td>\n",
       "      <td>left_low</td>\n",
       "      <td>no</td>\n",
       "      <td>recurrence-events</td>\n",
       "    </tr>\n",
       "    <tr>\n",
       "      <th>237</th>\n",
       "      <td>40-49</td>\n",
       "      <td>premeno</td>\n",
       "      <td>25-29</td>\n",
       "      <td>0-2</td>\n",
       "      <td>no</td>\n",
       "      <td>2</td>\n",
       "      <td>right</td>\n",
       "      <td>left_low</td>\n",
       "      <td>no</td>\n",
       "      <td>recurrence-events</td>\n",
       "    </tr>\n",
       "    <tr>\n",
       "      <th>238</th>\n",
       "      <td>30-39</td>\n",
       "      <td>premeno</td>\n",
       "      <td>35-39</td>\n",
       "      <td>0-2</td>\n",
       "      <td>no</td>\n",
       "      <td>3</td>\n",
       "      <td>left</td>\n",
       "      <td>left_low</td>\n",
       "      <td>no</td>\n",
       "      <td>recurrence-events</td>\n",
       "    </tr>\n",
       "    <tr>\n",
       "      <th>239</th>\n",
       "      <td>40-49</td>\n",
       "      <td>premeno</td>\n",
       "      <td>20-24</td>\n",
       "      <td>5-Mar</td>\n",
       "      <td>yes</td>\n",
       "      <td>2</td>\n",
       "      <td>right</td>\n",
       "      <td>right_up</td>\n",
       "      <td>yes</td>\n",
       "      <td>recurrence-events</td>\n",
       "    </tr>\n",
       "    <tr>\n",
       "      <th>240</th>\n",
       "      <td>60-69</td>\n",
       "      <td>ge40</td>\n",
       "      <td>20-24</td>\n",
       "      <td>5-Mar</td>\n",
       "      <td>no</td>\n",
       "      <td>2</td>\n",
       "      <td>left</td>\n",
       "      <td>left_low</td>\n",
       "      <td>yes</td>\n",
       "      <td>recurrence-events</td>\n",
       "    </tr>\n",
       "    <tr>\n",
       "      <th>241</th>\n",
       "      <td>40-49</td>\n",
       "      <td>premeno</td>\n",
       "      <td>15-19</td>\n",
       "      <td>15-17</td>\n",
       "      <td>yes</td>\n",
       "      <td>3</td>\n",
       "      <td>left</td>\n",
       "      <td>left_low</td>\n",
       "      <td>no</td>\n",
       "      <td>recurrence-events</td>\n",
       "    </tr>\n",
       "    <tr>\n",
       "      <th>242</th>\n",
       "      <td>50-59</td>\n",
       "      <td>ge40</td>\n",
       "      <td>25-29</td>\n",
       "      <td>8-Jun</td>\n",
       "      <td>no</td>\n",
       "      <td>3</td>\n",
       "      <td>left</td>\n",
       "      <td>left_low</td>\n",
       "      <td>yes</td>\n",
       "      <td>recurrence-events</td>\n",
       "    </tr>\n",
       "    <tr>\n",
       "      <th>243</th>\n",
       "      <td>50-59</td>\n",
       "      <td>ge40</td>\n",
       "      <td>20-24</td>\n",
       "      <td>5-Mar</td>\n",
       "      <td>yes</td>\n",
       "      <td>3</td>\n",
       "      <td>right</td>\n",
       "      <td>right_up</td>\n",
       "      <td>no</td>\n",
       "      <td>recurrence-events</td>\n",
       "    </tr>\n",
       "    <tr>\n",
       "      <th>244</th>\n",
       "      <td>40-49</td>\n",
       "      <td>premeno</td>\n",
       "      <td>30-34</td>\n",
       "      <td>14-Dec</td>\n",
       "      <td>yes</td>\n",
       "      <td>3</td>\n",
       "      <td>left</td>\n",
       "      <td>left_up</td>\n",
       "      <td>yes</td>\n",
       "      <td>recurrence-events</td>\n",
       "    </tr>\n",
       "    <tr>\n",
       "      <th>245</th>\n",
       "      <td>30-39</td>\n",
       "      <td>premeno</td>\n",
       "      <td>30-34</td>\n",
       "      <td>11-Sep</td>\n",
       "      <td>no</td>\n",
       "      <td>2</td>\n",
       "      <td>right</td>\n",
       "      <td>left_up</td>\n",
       "      <td>yes</td>\n",
       "      <td>recurrence-events</td>\n",
       "    </tr>\n",
       "    <tr>\n",
       "      <th>246</th>\n",
       "      <td>30-39</td>\n",
       "      <td>premeno</td>\n",
       "      <td>15-19</td>\n",
       "      <td>8-Jun</td>\n",
       "      <td>yes</td>\n",
       "      <td>3</td>\n",
       "      <td>left</td>\n",
       "      <td>left_low</td>\n",
       "      <td>yes</td>\n",
       "      <td>recurrence-events</td>\n",
       "    </tr>\n",
       "    <tr>\n",
       "      <th>247</th>\n",
       "      <td>50-59</td>\n",
       "      <td>ge40</td>\n",
       "      <td>30-34</td>\n",
       "      <td>11-Sep</td>\n",
       "      <td>yes</td>\n",
       "      <td>3</td>\n",
       "      <td>left</td>\n",
       "      <td>right_low</td>\n",
       "      <td>yes</td>\n",
       "      <td>recurrence-events</td>\n",
       "    </tr>\n",
       "    <tr>\n",
       "      <th>248</th>\n",
       "      <td>60-69</td>\n",
       "      <td>ge40</td>\n",
       "      <td>35-39</td>\n",
       "      <td>8-Jun</td>\n",
       "      <td>yes</td>\n",
       "      <td>3</td>\n",
       "      <td>left</td>\n",
       "      <td>left_low</td>\n",
       "      <td>no</td>\n",
       "      <td>recurrence-events</td>\n",
       "    </tr>\n",
       "    <tr>\n",
       "      <th>249</th>\n",
       "      <td>30-39</td>\n",
       "      <td>premeno</td>\n",
       "      <td>20-24</td>\n",
       "      <td>5-Mar</td>\n",
       "      <td>yes</td>\n",
       "      <td>2</td>\n",
       "      <td>left</td>\n",
       "      <td>left_low</td>\n",
       "      <td>no</td>\n",
       "      <td>recurrence-events</td>\n",
       "    </tr>\n",
       "    <tr>\n",
       "      <th>250</th>\n",
       "      <td>40-49</td>\n",
       "      <td>premeno</td>\n",
       "      <td>25-29</td>\n",
       "      <td>0-2</td>\n",
       "      <td>no</td>\n",
       "      <td>3</td>\n",
       "      <td>left</td>\n",
       "      <td>left_up</td>\n",
       "      <td>no</td>\n",
       "      <td>recurrence-events</td>\n",
       "    </tr>\n",
       "    <tr>\n",
       "      <th>251</th>\n",
       "      <td>40-49</td>\n",
       "      <td>premeno</td>\n",
       "      <td>50-54</td>\n",
       "      <td>0-2</td>\n",
       "      <td>no</td>\n",
       "      <td>2</td>\n",
       "      <td>right</td>\n",
       "      <td>left_low</td>\n",
       "      <td>yes</td>\n",
       "      <td>recurrence-events</td>\n",
       "    </tr>\n",
       "    <tr>\n",
       "      <th>252</th>\n",
       "      <td>30-39</td>\n",
       "      <td>premeno</td>\n",
       "      <td>40-44</td>\n",
       "      <td>0-2</td>\n",
       "      <td>no</td>\n",
       "      <td>1</td>\n",
       "      <td>left</td>\n",
       "      <td>left_up</td>\n",
       "      <td>no</td>\n",
       "      <td>recurrence-events</td>\n",
       "    </tr>\n",
       "    <tr>\n",
       "      <th>253</th>\n",
       "      <td>60-69</td>\n",
       "      <td>ge40</td>\n",
       "      <td>50-54</td>\n",
       "      <td>0-2</td>\n",
       "      <td>no</td>\n",
       "      <td>3</td>\n",
       "      <td>right</td>\n",
       "      <td>left_up</td>\n",
       "      <td>no</td>\n",
       "      <td>recurrence-events</td>\n",
       "    </tr>\n",
       "    <tr>\n",
       "      <th>254</th>\n",
       "      <td>40-49</td>\n",
       "      <td>premeno</td>\n",
       "      <td>30-34</td>\n",
       "      <td>0-2</td>\n",
       "      <td>yes</td>\n",
       "      <td>3</td>\n",
       "      <td>right</td>\n",
       "      <td>right_up</td>\n",
       "      <td>no</td>\n",
       "      <td>recurrence-events</td>\n",
       "    </tr>\n",
       "    <tr>\n",
       "      <th>255</th>\n",
       "      <td>40-49</td>\n",
       "      <td>premeno</td>\n",
       "      <td>30-34</td>\n",
       "      <td>8-Jun</td>\n",
       "      <td>yes</td>\n",
       "      <td>3</td>\n",
       "      <td>right</td>\n",
       "      <td>left_up</td>\n",
       "      <td>no</td>\n",
       "      <td>recurrence-events</td>\n",
       "    </tr>\n",
       "    <tr>\n",
       "      <th>256</th>\n",
       "      <td>40-49</td>\n",
       "      <td>premeno</td>\n",
       "      <td>30-34</td>\n",
       "      <td>0-2</td>\n",
       "      <td>no</td>\n",
       "      <td>1</td>\n",
       "      <td>left</td>\n",
       "      <td>left_low</td>\n",
       "      <td>yes</td>\n",
       "      <td>recurrence-events</td>\n",
       "    </tr>\n",
       "    <tr>\n",
       "      <th>257</th>\n",
       "      <td>40-49</td>\n",
       "      <td>premeno</td>\n",
       "      <td>20-24</td>\n",
       "      <td>5-Mar</td>\n",
       "      <td>yes</td>\n",
       "      <td>2</td>\n",
       "      <td>left</td>\n",
       "      <td>left_low</td>\n",
       "      <td>yes</td>\n",
       "      <td>recurrence-events</td>\n",
       "    </tr>\n",
       "    <tr>\n",
       "      <th>258</th>\n",
       "      <td>50-59</td>\n",
       "      <td>ge40</td>\n",
       "      <td>30-34</td>\n",
       "      <td>8-Jun</td>\n",
       "      <td>yes</td>\n",
       "      <td>2</td>\n",
       "      <td>left</td>\n",
       "      <td>right_low</td>\n",
       "      <td>yes</td>\n",
       "      <td>recurrence-events</td>\n",
       "    </tr>\n",
       "    <tr>\n",
       "      <th>259</th>\n",
       "      <td>50-59</td>\n",
       "      <td>ge40</td>\n",
       "      <td>30-34</td>\n",
       "      <td>5-Mar</td>\n",
       "      <td>no</td>\n",
       "      <td>3</td>\n",
       "      <td>right</td>\n",
       "      <td>left_up</td>\n",
       "      <td>no</td>\n",
       "      <td>recurrence-events</td>\n",
       "    </tr>\n",
       "    <tr>\n",
       "      <th>260</th>\n",
       "      <td>60-69</td>\n",
       "      <td>ge40</td>\n",
       "      <td>25-29</td>\n",
       "      <td>5-Mar</td>\n",
       "      <td>no</td>\n",
       "      <td>2</td>\n",
       "      <td>right</td>\n",
       "      <td>right_up</td>\n",
       "      <td>no</td>\n",
       "      <td>recurrence-events</td>\n",
       "    </tr>\n",
       "    <tr>\n",
       "      <th>261</th>\n",
       "      <td>40-49</td>\n",
       "      <td>ge40</td>\n",
       "      <td>25-29</td>\n",
       "      <td>14-Dec</td>\n",
       "      <td>yes</td>\n",
       "      <td>3</td>\n",
       "      <td>left</td>\n",
       "      <td>right_low</td>\n",
       "      <td>yes</td>\n",
       "      <td>recurrence-events</td>\n",
       "    </tr>\n",
       "    <tr>\n",
       "      <th>262</th>\n",
       "      <td>60-69</td>\n",
       "      <td>ge40</td>\n",
       "      <td>25-29</td>\n",
       "      <td>0-2</td>\n",
       "      <td>no</td>\n",
       "      <td>3</td>\n",
       "      <td>left</td>\n",
       "      <td>left_up</td>\n",
       "      <td>no</td>\n",
       "      <td>recurrence-events</td>\n",
       "    </tr>\n",
       "    <tr>\n",
       "      <th>263</th>\n",
       "      <td>50-59</td>\n",
       "      <td>lt40</td>\n",
       "      <td>20-24</td>\n",
       "      <td>0-2</td>\n",
       "      <td>NaN</td>\n",
       "      <td>1</td>\n",
       "      <td>left</td>\n",
       "      <td>left_up</td>\n",
       "      <td>no</td>\n",
       "      <td>recurrence-events</td>\n",
       "    </tr>\n",
       "    <tr>\n",
       "      <th>264</th>\n",
       "      <td>50-59</td>\n",
       "      <td>lt40</td>\n",
       "      <td>20-24</td>\n",
       "      <td>0-2</td>\n",
       "      <td>NaN</td>\n",
       "      <td>1</td>\n",
       "      <td>left</td>\n",
       "      <td>left_low</td>\n",
       "      <td>no</td>\n",
       "      <td>recurrence-events</td>\n",
       "    </tr>\n",
       "    <tr>\n",
       "      <th>265</th>\n",
       "      <td>30-39</td>\n",
       "      <td>premeno</td>\n",
       "      <td>35-39</td>\n",
       "      <td>11-Sep</td>\n",
       "      <td>yes</td>\n",
       "      <td>3</td>\n",
       "      <td>left</td>\n",
       "      <td>left_low</td>\n",
       "      <td>no</td>\n",
       "      <td>recurrence-events</td>\n",
       "    </tr>\n",
       "    <tr>\n",
       "      <th>266</th>\n",
       "      <td>40-49</td>\n",
       "      <td>premeno</td>\n",
       "      <td>30-34</td>\n",
       "      <td>5-Mar</td>\n",
       "      <td>yes</td>\n",
       "      <td>2</td>\n",
       "      <td>left</td>\n",
       "      <td>right_up</td>\n",
       "      <td>no</td>\n",
       "      <td>recurrence-events</td>\n",
       "    </tr>\n",
       "    <tr>\n",
       "      <th>267</th>\n",
       "      <td>60-69</td>\n",
       "      <td>ge40</td>\n",
       "      <td>20-24</td>\n",
       "      <td>24-26</td>\n",
       "      <td>yes</td>\n",
       "      <td>3</td>\n",
       "      <td>left</td>\n",
       "      <td>left_low</td>\n",
       "      <td>yes</td>\n",
       "      <td>recurrence-events</td>\n",
       "    </tr>\n",
       "    <tr>\n",
       "      <th>268</th>\n",
       "      <td>30-39</td>\n",
       "      <td>premeno</td>\n",
       "      <td>35-39</td>\n",
       "      <td>0-2</td>\n",
       "      <td>no</td>\n",
       "      <td>3</td>\n",
       "      <td>left</td>\n",
       "      <td>left_low</td>\n",
       "      <td>no</td>\n",
       "      <td>recurrence-events</td>\n",
       "    </tr>\n",
       "    <tr>\n",
       "      <th>269</th>\n",
       "      <td>40-49</td>\n",
       "      <td>premeno</td>\n",
       "      <td>25-29</td>\n",
       "      <td>0-2</td>\n",
       "      <td>no</td>\n",
       "      <td>2</td>\n",
       "      <td>left</td>\n",
       "      <td>left_low</td>\n",
       "      <td>yes</td>\n",
       "      <td>recurrence-events</td>\n",
       "    </tr>\n",
       "    <tr>\n",
       "      <th>270</th>\n",
       "      <td>50-59</td>\n",
       "      <td>ge40</td>\n",
       "      <td>30-34</td>\n",
       "      <td>8-Jun</td>\n",
       "      <td>yes</td>\n",
       "      <td>3</td>\n",
       "      <td>left</td>\n",
       "      <td>right_low</td>\n",
       "      <td>no</td>\n",
       "      <td>recurrence-events</td>\n",
       "    </tr>\n",
       "    <tr>\n",
       "      <th>271</th>\n",
       "      <td>50-59</td>\n",
       "      <td>premeno</td>\n",
       "      <td>25-29</td>\n",
       "      <td>0-2</td>\n",
       "      <td>no</td>\n",
       "      <td>3</td>\n",
       "      <td>right</td>\n",
       "      <td>left_low</td>\n",
       "      <td>yes</td>\n",
       "      <td>recurrence-events</td>\n",
       "    </tr>\n",
       "    <tr>\n",
       "      <th>272</th>\n",
       "      <td>40-49</td>\n",
       "      <td>premeno</td>\n",
       "      <td>15-19</td>\n",
       "      <td>0-2</td>\n",
       "      <td>yes</td>\n",
       "      <td>3</td>\n",
       "      <td>right</td>\n",
       "      <td>left_up</td>\n",
       "      <td>no</td>\n",
       "      <td>recurrence-events</td>\n",
       "    </tr>\n",
       "    <tr>\n",
       "      <th>273</th>\n",
       "      <td>60-69</td>\n",
       "      <td>ge40</td>\n",
       "      <td>30-34</td>\n",
       "      <td>0-2</td>\n",
       "      <td>yes</td>\n",
       "      <td>2</td>\n",
       "      <td>right</td>\n",
       "      <td>right_up</td>\n",
       "      <td>yes</td>\n",
       "      <td>recurrence-events</td>\n",
       "    </tr>\n",
       "    <tr>\n",
       "      <th>274</th>\n",
       "      <td>60-69</td>\n",
       "      <td>ge40</td>\n",
       "      <td>30-34</td>\n",
       "      <td>5-Mar</td>\n",
       "      <td>yes</td>\n",
       "      <td>2</td>\n",
       "      <td>left</td>\n",
       "      <td>central</td>\n",
       "      <td>yes</td>\n",
       "      <td>recurrence-events</td>\n",
       "    </tr>\n",
       "    <tr>\n",
       "      <th>275</th>\n",
       "      <td>40-49</td>\n",
       "      <td>premeno</td>\n",
       "      <td>25-29</td>\n",
       "      <td>11-Sep</td>\n",
       "      <td>yes</td>\n",
       "      <td>3</td>\n",
       "      <td>right</td>\n",
       "      <td>left_up</td>\n",
       "      <td>no</td>\n",
       "      <td>recurrence-events</td>\n",
       "    </tr>\n",
       "    <tr>\n",
       "      <th>276</th>\n",
       "      <td>30-39</td>\n",
       "      <td>premeno</td>\n",
       "      <td>25-29</td>\n",
       "      <td>8-Jun</td>\n",
       "      <td>yes</td>\n",
       "      <td>3</td>\n",
       "      <td>left</td>\n",
       "      <td>right_low</td>\n",
       "      <td>yes</td>\n",
       "      <td>recurrence-events</td>\n",
       "    </tr>\n",
       "    <tr>\n",
       "      <th>277</th>\n",
       "      <td>60-69</td>\n",
       "      <td>ge40</td>\n",
       "      <td>14-Oct</td>\n",
       "      <td>8-Jun</td>\n",
       "      <td>yes</td>\n",
       "      <td>3</td>\n",
       "      <td>left</td>\n",
       "      <td>left_up</td>\n",
       "      <td>yes</td>\n",
       "      <td>recurrence-events</td>\n",
       "    </tr>\n",
       "    <tr>\n",
       "      <th>278</th>\n",
       "      <td>50-59</td>\n",
       "      <td>premeno</td>\n",
       "      <td>35-39</td>\n",
       "      <td>15-17</td>\n",
       "      <td>yes</td>\n",
       "      <td>3</td>\n",
       "      <td>right</td>\n",
       "      <td>right_up</td>\n",
       "      <td>no</td>\n",
       "      <td>recurrence-events</td>\n",
       "    </tr>\n",
       "    <tr>\n",
       "      <th>279</th>\n",
       "      <td>50-59</td>\n",
       "      <td>ge40</td>\n",
       "      <td>40-44</td>\n",
       "      <td>8-Jun</td>\n",
       "      <td>yes</td>\n",
       "      <td>3</td>\n",
       "      <td>left</td>\n",
       "      <td>left_low</td>\n",
       "      <td>yes</td>\n",
       "      <td>recurrence-events</td>\n",
       "    </tr>\n",
       "    <tr>\n",
       "      <th>280</th>\n",
       "      <td>50-59</td>\n",
       "      <td>ge40</td>\n",
       "      <td>40-44</td>\n",
       "      <td>8-Jun</td>\n",
       "      <td>yes</td>\n",
       "      <td>3</td>\n",
       "      <td>left</td>\n",
       "      <td>left_low</td>\n",
       "      <td>yes</td>\n",
       "      <td>recurrence-events</td>\n",
       "    </tr>\n",
       "    <tr>\n",
       "      <th>281</th>\n",
       "      <td>30-39</td>\n",
       "      <td>premeno</td>\n",
       "      <td>30-34</td>\n",
       "      <td>0-2</td>\n",
       "      <td>no</td>\n",
       "      <td>2</td>\n",
       "      <td>left</td>\n",
       "      <td>left_up</td>\n",
       "      <td>no</td>\n",
       "      <td>recurrence-events</td>\n",
       "    </tr>\n",
       "    <tr>\n",
       "      <th>282</th>\n",
       "      <td>30-39</td>\n",
       "      <td>premeno</td>\n",
       "      <td>20-24</td>\n",
       "      <td>0-2</td>\n",
       "      <td>no</td>\n",
       "      <td>3</td>\n",
       "      <td>left</td>\n",
       "      <td>left_up</td>\n",
       "      <td>yes</td>\n",
       "      <td>recurrence-events</td>\n",
       "    </tr>\n",
       "    <tr>\n",
       "      <th>283</th>\n",
       "      <td>60-69</td>\n",
       "      <td>ge40</td>\n",
       "      <td>20-24</td>\n",
       "      <td>0-2</td>\n",
       "      <td>no</td>\n",
       "      <td>1</td>\n",
       "      <td>right</td>\n",
       "      <td>left_up</td>\n",
       "      <td>no</td>\n",
       "      <td>recurrence-events</td>\n",
       "    </tr>\n",
       "    <tr>\n",
       "      <th>284</th>\n",
       "      <td>40-49</td>\n",
       "      <td>ge40</td>\n",
       "      <td>30-34</td>\n",
       "      <td>5-Mar</td>\n",
       "      <td>no</td>\n",
       "      <td>3</td>\n",
       "      <td>left</td>\n",
       "      <td>left_low</td>\n",
       "      <td>no</td>\n",
       "      <td>recurrence-events</td>\n",
       "    </tr>\n",
       "    <tr>\n",
       "      <th>285</th>\n",
       "      <td>50-59</td>\n",
       "      <td>ge40</td>\n",
       "      <td>30-34</td>\n",
       "      <td>5-Mar</td>\n",
       "      <td>no</td>\n",
       "      <td>3</td>\n",
       "      <td>left</td>\n",
       "      <td>left_low</td>\n",
       "      <td>no</td>\n",
       "      <td>recurrence-events</td>\n",
       "    </tr>\n",
       "  </tbody>\n",
       "</table>\n",
       "</div>"
      ],
      "text/plain": [
       "    Age Range Menopause Tumor size Inv-nodes Node-caps  Degree of malignancy  \\\n",
       "226     40-49   premeno      30-34     15-17       yes                     3   \n",
       "227     50-59   premeno      30-34       0-2        no                     3   \n",
       "228     60-69      ge40      40-44     5-Mar       yes                     3   \n",
       "229     60-69      ge40      45-49       0-2        no                     1   \n",
       "230     50-59   premeno      50-54    11-Sep       yes                     2   \n",
       "231     40-49   premeno      30-34     5-Mar        no                     2   \n",
       "232     30-39   premeno      30-34     5-Mar        no                     3   \n",
       "233     70-79      ge40      15-19    11-Sep       NaN                     1   \n",
       "234     60-69      ge40      30-34       0-2        no                     3   \n",
       "235     50-59   premeno      25-29     5-Mar       yes                     3   \n",
       "236     40-49   premeno      25-29       0-2        no                     2   \n",
       "237     40-49   premeno      25-29       0-2        no                     2   \n",
       "238     30-39   premeno      35-39       0-2        no                     3   \n",
       "239     40-49   premeno      20-24     5-Mar       yes                     2   \n",
       "240     60-69      ge40      20-24     5-Mar        no                     2   \n",
       "241     40-49   premeno      15-19     15-17       yes                     3   \n",
       "242     50-59      ge40      25-29     8-Jun        no                     3   \n",
       "243     50-59      ge40      20-24     5-Mar       yes                     3   \n",
       "244     40-49   premeno      30-34    14-Dec       yes                     3   \n",
       "245     30-39   premeno      30-34    11-Sep        no                     2   \n",
       "246     30-39   premeno      15-19     8-Jun       yes                     3   \n",
       "247     50-59      ge40      30-34    11-Sep       yes                     3   \n",
       "248     60-69      ge40      35-39     8-Jun       yes                     3   \n",
       "249     30-39   premeno      20-24     5-Mar       yes                     2   \n",
       "250     40-49   premeno      25-29       0-2        no                     3   \n",
       "251     40-49   premeno      50-54       0-2        no                     2   \n",
       "252     30-39   premeno      40-44       0-2        no                     1   \n",
       "253     60-69      ge40      50-54       0-2        no                     3   \n",
       "254     40-49   premeno      30-34       0-2       yes                     3   \n",
       "255     40-49   premeno      30-34     8-Jun       yes                     3   \n",
       "256     40-49   premeno      30-34       0-2        no                     1   \n",
       "257     40-49   premeno      20-24     5-Mar       yes                     2   \n",
       "258     50-59      ge40      30-34     8-Jun       yes                     2   \n",
       "259     50-59      ge40      30-34     5-Mar        no                     3   \n",
       "260     60-69      ge40      25-29     5-Mar        no                     2   \n",
       "261     40-49      ge40      25-29    14-Dec       yes                     3   \n",
       "262     60-69      ge40      25-29       0-2        no                     3   \n",
       "263     50-59      lt40      20-24       0-2       NaN                     1   \n",
       "264     50-59      lt40      20-24       0-2       NaN                     1   \n",
       "265     30-39   premeno      35-39    11-Sep       yes                     3   \n",
       "266     40-49   premeno      30-34     5-Mar       yes                     2   \n",
       "267     60-69      ge40      20-24     24-26       yes                     3   \n",
       "268     30-39   premeno      35-39       0-2        no                     3   \n",
       "269     40-49   premeno      25-29       0-2        no                     2   \n",
       "270     50-59      ge40      30-34     8-Jun       yes                     3   \n",
       "271     50-59   premeno      25-29       0-2        no                     3   \n",
       "272     40-49   premeno      15-19       0-2       yes                     3   \n",
       "273     60-69      ge40      30-34       0-2       yes                     2   \n",
       "274     60-69      ge40      30-34     5-Mar       yes                     2   \n",
       "275     40-49   premeno      25-29    11-Sep       yes                     3   \n",
       "276     30-39   premeno      25-29     8-Jun       yes                     3   \n",
       "277     60-69      ge40     14-Oct     8-Jun       yes                     3   \n",
       "278     50-59   premeno      35-39     15-17       yes                     3   \n",
       "279     50-59      ge40      40-44     8-Jun       yes                     3   \n",
       "280     50-59      ge40      40-44     8-Jun       yes                     3   \n",
       "281     30-39   premeno      30-34       0-2        no                     2   \n",
       "282     30-39   premeno      20-24       0-2        no                     3   \n",
       "283     60-69      ge40      20-24       0-2        no                     1   \n",
       "284     40-49      ge40      30-34     5-Mar        no                     3   \n",
       "285     50-59      ge40      30-34     5-Mar        no                     3   \n",
       "\n",
       "    Breast Breast-Quad Irradiat              Class  \n",
       "226   left    left_low       no  recurrence-events  \n",
       "227  right     left_up      yes  recurrence-events  \n",
       "228  right    left_low       no  recurrence-events  \n",
       "229  right    right_up      yes  recurrence-events  \n",
       "230  right     left_up       no  recurrence-events  \n",
       "231  right     left_up       no  recurrence-events  \n",
       "232  right     left_up      yes  recurrence-events  \n",
       "233   left    left_low      yes  recurrence-events  \n",
       "234  right     left_up      yes  recurrence-events  \n",
       "235   left    left_low      yes  recurrence-events  \n",
       "236  right    left_low       no  recurrence-events  \n",
       "237  right    left_low       no  recurrence-events  \n",
       "238   left    left_low       no  recurrence-events  \n",
       "239  right    right_up      yes  recurrence-events  \n",
       "240   left    left_low      yes  recurrence-events  \n",
       "241   left    left_low       no  recurrence-events  \n",
       "242   left    left_low      yes  recurrence-events  \n",
       "243  right    right_up       no  recurrence-events  \n",
       "244   left     left_up      yes  recurrence-events  \n",
       "245  right     left_up      yes  recurrence-events  \n",
       "246   left    left_low      yes  recurrence-events  \n",
       "247   left   right_low      yes  recurrence-events  \n",
       "248   left    left_low       no  recurrence-events  \n",
       "249   left    left_low       no  recurrence-events  \n",
       "250   left     left_up       no  recurrence-events  \n",
       "251  right    left_low      yes  recurrence-events  \n",
       "252   left     left_up       no  recurrence-events  \n",
       "253  right     left_up       no  recurrence-events  \n",
       "254  right    right_up       no  recurrence-events  \n",
       "255  right     left_up       no  recurrence-events  \n",
       "256   left    left_low      yes  recurrence-events  \n",
       "257   left    left_low      yes  recurrence-events  \n",
       "258   left   right_low      yes  recurrence-events  \n",
       "259  right     left_up       no  recurrence-events  \n",
       "260  right    right_up       no  recurrence-events  \n",
       "261   left   right_low      yes  recurrence-events  \n",
       "262   left     left_up       no  recurrence-events  \n",
       "263   left     left_up       no  recurrence-events  \n",
       "264   left    left_low       no  recurrence-events  \n",
       "265   left    left_low       no  recurrence-events  \n",
       "266   left    right_up       no  recurrence-events  \n",
       "267   left    left_low      yes  recurrence-events  \n",
       "268   left    left_low       no  recurrence-events  \n",
       "269   left    left_low      yes  recurrence-events  \n",
       "270   left   right_low       no  recurrence-events  \n",
       "271  right    left_low      yes  recurrence-events  \n",
       "272  right     left_up       no  recurrence-events  \n",
       "273  right    right_up      yes  recurrence-events  \n",
       "274   left     central      yes  recurrence-events  \n",
       "275  right     left_up       no  recurrence-events  \n",
       "276   left   right_low      yes  recurrence-events  \n",
       "277   left     left_up      yes  recurrence-events  \n",
       "278  right    right_up       no  recurrence-events  \n",
       "279   left    left_low      yes  recurrence-events  \n",
       "280   left    left_low      yes  recurrence-events  \n",
       "281   left     left_up       no  recurrence-events  \n",
       "282   left     left_up      yes  recurrence-events  \n",
       "283  right     left_up       no  recurrence-events  \n",
       "284   left    left_low       no  recurrence-events  \n",
       "285   left    left_low       no  recurrence-events  "
      ]
     },
     "execution_count": 104,
     "metadata": {},
     "output_type": "execute_result"
    }
   ],
   "source": [
    "# This code was done by 223077593 - ORILIO NAOBEB\n",
    "breast_cancer.tail(60)"
   ]
  },
  {
   "cell_type": "code",
   "execution_count": 105,
   "id": "8570e05a-2aec-4d1b-967f-47a50f318ecc",
   "metadata": {},
   "outputs": [],
   "source": [
    "# This code was done by 223077593 - ORILIO NAOBEB\n",
    "#Handle missing values for 'Node-caps'\n",
    "node_caps_complete = breast_cancer[breast_cancer['Node-caps'].notna()]\n",
    "node_caps_missing = breast_cancer[breast_cancer['Node-caps'].isna()]\n",
    "\n",
    "if not node_caps_missing.empty:\n",
    "    # Prepare training data\n",
    "    X_train_node_caps = node_caps_complete.drop(['Node-caps', 'Breast-Quad'], axis=1)\n",
    "    y_train_node_caps = node_caps_complete['Node-caps']\n",
    "\n",
    "    # Encode target variable\n",
    "    label_encoder_node_caps = LabelEncoder()\n",
    "    y_train_node_caps = label_encoder_node_caps.fit_transform(y_train_node_caps)\n",
    "\n",
    "    # One-Hot Encoding for categorical features\n",
    "    X_train_node_caps = pd.get_dummies(X_train_node_caps)\n",
    "\n",
    "    # Decision Tree for 'Node-caps' (using classifier)\n",
    "    tree_clf_node_caps = DecisionTreeClassifier()\n",
    "    tree_clf_node_caps.fit(X_train_node_caps, y_train_node_caps)\n",
    "\n",
    "    # Prepare features DataFrame for missing 'Node-caps'\n",
    "    X_missing_node_caps = node_caps_missing.drop(['Node-caps', 'Breast-Quad'], axis=1)\n",
    "\n",
    "    # One-Hot Encoding for missing features\n",
    "    X_missing_node_caps = pd.get_dummies(X_missing_node_caps)\n",
    "\n",
    "    # Ensure the columns match between training and missing data\n",
    "    X_missing_node_caps = X_missing_node_caps.reindex(columns=X_train_node_caps.columns, fill_value=0)\n",
    "\n",
    "    # Predict missing 'Node-caps' values\n",
    "    if not X_missing_node_caps.empty:\n",
    "        predicted_values_node_caps = tree_clf_node_caps.predict(X_missing_node_caps)\n",
    "        # Decode predicted values back to original categories\n",
    "        predicted_values_node_caps = label_encoder_node_caps.inverse_transform(predicted_values_node_caps)\n",
    "        # Update the missing 'Node-caps' values in the original DataFrame\n",
    "        breast_cancer.loc[breast_cancer['Node-caps'].isna(), 'Node-caps'] = predicted_values_node_caps\n",
    "\n",
    "# Step 2: Handle 'Breast-Quad' in a similar way\n",
    "breast_quad_complete = breast_cancer[breast_cancer['Breast-Quad'].notna()]\n",
    "breast_quad_missing = breast_cancer[breast_cancer['Breast-Quad'].isna()]\n",
    "\n",
    "if not breast_quad_missing.empty:\n",
    "    X_train_breast_quad = breast_quad_complete.drop(['Breast-Quad', 'Node-caps'], axis=1)\n",
    "    y_train_breast_quad = breast_quad_complete['Breast-Quad']\n",
    "\n",
    "    # Encode target variable\n",
    "    label_encoder_breast_quad = LabelEncoder()\n",
    "    y_train_breast_quad = label_encoder_breast_quad.fit_transform(y_train_breast_quad)\n",
    "\n",
    "    # One-Hot Encoding for categorical features\n",
    "    X_train_breast_quad = pd.get_dummies(X_train_breast_quad)\n",
    "\n",
    "    # Decision Tree for 'Breast-Quad' (using classifier)\n",
    "    tree_clf_breast_quad = DecisionTreeClassifier()\n",
    "    tree_clf_breast_quad.fit(X_train_breast_quad, y_train_breast_quad)\n",
    "\n",
    "    # Prepare features DataFrame for missing 'Breast-Quad'\n",
    "    X_missing_breast_quad = breast_quad_missing.drop(['Breast-Quad', 'Node-caps'], axis=1)\n",
    "\n",
    "    # One-Hot Encoding for missing features\n",
    "    X_missing_breast_quad = pd.get_dummies(X_missing_breast_quad)\n",
    "\n",
    "    # Ensure the columns match between training and missing data\n",
    "    X_missing_breast_quad = X_missing_breast_quad.reindex(columns=X_train_breast_quad.columns, fill_value=0)\n",
    "\n",
    "    # Predict missing 'Breast-Quad' values\n",
    "    if not X_missing_breast_quad.empty:\n",
    "        predicted_values_breast_quad = tree_clf_breast_quad.predict(X_missing_breast_quad)\n",
    "        # Decode predicted values back to original categories\n",
    "        predicted_values_breast_quad = label_encoder_breast_quad.inverse_transform(predicted_values_breast_quad)\n",
    "        # Update the missing 'Breast-Quad' values in the original DataFrame\n",
    "        breast_cancer.loc[breast_cancer['Breast-Quad'].isna(), 'Breast-Quad'] = predicted_values_breast_quad"
   ]
  },
  {
   "cell_type": "code",
   "execution_count": 106,
   "id": "3f1700ab-62dd-4382-83a0-42f77930435c",
   "metadata": {},
   "outputs": [
    {
     "data": {
      "text/plain": [
       "Age Range               0\n",
       "Menopause               0\n",
       "Tumor size              0\n",
       "Inv-nodes               0\n",
       "Node-caps               0\n",
       "Degree of malignancy    0\n",
       "Breast                  0\n",
       "Breast-Quad             0\n",
       "Irradiat                0\n",
       "Class                   0\n",
       "dtype: int64"
      ]
     },
     "execution_count": 106,
     "metadata": {},
     "output_type": "execute_result"
    }
   ],
   "source": [
    "# This code was done by 223077593 - ORILIO NAOBEB\n",
    "breast_cancer.isnull().sum()"
   ]
  },
  {
   "cell_type": "code",
   "execution_count": 107,
   "id": "6f61fa94-0773-4ad9-a64b-83781c2bc77e",
   "metadata": {},
   "outputs": [
    {
     "data": {
      "text/html": [
       "<div>\n",
       "<style scoped>\n",
       "    .dataframe tbody tr th:only-of-type {\n",
       "        vertical-align: middle;\n",
       "    }\n",
       "\n",
       "    .dataframe tbody tr th {\n",
       "        vertical-align: top;\n",
       "    }\n",
       "\n",
       "    .dataframe thead th {\n",
       "        text-align: right;\n",
       "    }\n",
       "</style>\n",
       "<table border=\"1\" class=\"dataframe\">\n",
       "  <thead>\n",
       "    <tr style=\"text-align: right;\">\n",
       "      <th></th>\n",
       "      <th>Age Range</th>\n",
       "      <th>Menopause</th>\n",
       "      <th>Tumor size</th>\n",
       "      <th>Inv-nodes</th>\n",
       "      <th>Node-caps</th>\n",
       "      <th>Degree of malignancy</th>\n",
       "      <th>Breast</th>\n",
       "      <th>Breast-Quad</th>\n",
       "      <th>Irradiat</th>\n",
       "      <th>Class</th>\n",
       "    </tr>\n",
       "  </thead>\n",
       "  <tbody>\n",
       "    <tr>\n",
       "      <th>226</th>\n",
       "      <td>40-49</td>\n",
       "      <td>premeno</td>\n",
       "      <td>30-34</td>\n",
       "      <td>15-17</td>\n",
       "      <td>yes</td>\n",
       "      <td>3</td>\n",
       "      <td>left</td>\n",
       "      <td>left_low</td>\n",
       "      <td>no</td>\n",
       "      <td>recurrence-events</td>\n",
       "    </tr>\n",
       "    <tr>\n",
       "      <th>227</th>\n",
       "      <td>50-59</td>\n",
       "      <td>premeno</td>\n",
       "      <td>30-34</td>\n",
       "      <td>0-2</td>\n",
       "      <td>no</td>\n",
       "      <td>3</td>\n",
       "      <td>right</td>\n",
       "      <td>left_up</td>\n",
       "      <td>yes</td>\n",
       "      <td>recurrence-events</td>\n",
       "    </tr>\n",
       "    <tr>\n",
       "      <th>228</th>\n",
       "      <td>60-69</td>\n",
       "      <td>ge40</td>\n",
       "      <td>40-44</td>\n",
       "      <td>5-Mar</td>\n",
       "      <td>yes</td>\n",
       "      <td>3</td>\n",
       "      <td>right</td>\n",
       "      <td>left_low</td>\n",
       "      <td>no</td>\n",
       "      <td>recurrence-events</td>\n",
       "    </tr>\n",
       "    <tr>\n",
       "      <th>229</th>\n",
       "      <td>60-69</td>\n",
       "      <td>ge40</td>\n",
       "      <td>45-49</td>\n",
       "      <td>0-2</td>\n",
       "      <td>no</td>\n",
       "      <td>1</td>\n",
       "      <td>right</td>\n",
       "      <td>right_up</td>\n",
       "      <td>yes</td>\n",
       "      <td>recurrence-events</td>\n",
       "    </tr>\n",
       "    <tr>\n",
       "      <th>230</th>\n",
       "      <td>50-59</td>\n",
       "      <td>premeno</td>\n",
       "      <td>50-54</td>\n",
       "      <td>11-Sep</td>\n",
       "      <td>yes</td>\n",
       "      <td>2</td>\n",
       "      <td>right</td>\n",
       "      <td>left_up</td>\n",
       "      <td>no</td>\n",
       "      <td>recurrence-events</td>\n",
       "    </tr>\n",
       "    <tr>\n",
       "      <th>231</th>\n",
       "      <td>40-49</td>\n",
       "      <td>premeno</td>\n",
       "      <td>30-34</td>\n",
       "      <td>5-Mar</td>\n",
       "      <td>no</td>\n",
       "      <td>2</td>\n",
       "      <td>right</td>\n",
       "      <td>left_up</td>\n",
       "      <td>no</td>\n",
       "      <td>recurrence-events</td>\n",
       "    </tr>\n",
       "    <tr>\n",
       "      <th>232</th>\n",
       "      <td>30-39</td>\n",
       "      <td>premeno</td>\n",
       "      <td>30-34</td>\n",
       "      <td>5-Mar</td>\n",
       "      <td>no</td>\n",
       "      <td>3</td>\n",
       "      <td>right</td>\n",
       "      <td>left_up</td>\n",
       "      <td>yes</td>\n",
       "      <td>recurrence-events</td>\n",
       "    </tr>\n",
       "    <tr>\n",
       "      <th>233</th>\n",
       "      <td>70-79</td>\n",
       "      <td>ge40</td>\n",
       "      <td>15-19</td>\n",
       "      <td>11-Sep</td>\n",
       "      <td>yes</td>\n",
       "      <td>1</td>\n",
       "      <td>left</td>\n",
       "      <td>left_low</td>\n",
       "      <td>yes</td>\n",
       "      <td>recurrence-events</td>\n",
       "    </tr>\n",
       "    <tr>\n",
       "      <th>234</th>\n",
       "      <td>60-69</td>\n",
       "      <td>ge40</td>\n",
       "      <td>30-34</td>\n",
       "      <td>0-2</td>\n",
       "      <td>no</td>\n",
       "      <td>3</td>\n",
       "      <td>right</td>\n",
       "      <td>left_up</td>\n",
       "      <td>yes</td>\n",
       "      <td>recurrence-events</td>\n",
       "    </tr>\n",
       "    <tr>\n",
       "      <th>235</th>\n",
       "      <td>50-59</td>\n",
       "      <td>premeno</td>\n",
       "      <td>25-29</td>\n",
       "      <td>5-Mar</td>\n",
       "      <td>yes</td>\n",
       "      <td>3</td>\n",
       "      <td>left</td>\n",
       "      <td>left_low</td>\n",
       "      <td>yes</td>\n",
       "      <td>recurrence-events</td>\n",
       "    </tr>\n",
       "    <tr>\n",
       "      <th>236</th>\n",
       "      <td>40-49</td>\n",
       "      <td>premeno</td>\n",
       "      <td>25-29</td>\n",
       "      <td>0-2</td>\n",
       "      <td>no</td>\n",
       "      <td>2</td>\n",
       "      <td>right</td>\n",
       "      <td>left_low</td>\n",
       "      <td>no</td>\n",
       "      <td>recurrence-events</td>\n",
       "    </tr>\n",
       "    <tr>\n",
       "      <th>237</th>\n",
       "      <td>40-49</td>\n",
       "      <td>premeno</td>\n",
       "      <td>25-29</td>\n",
       "      <td>0-2</td>\n",
       "      <td>no</td>\n",
       "      <td>2</td>\n",
       "      <td>right</td>\n",
       "      <td>left_low</td>\n",
       "      <td>no</td>\n",
       "      <td>recurrence-events</td>\n",
       "    </tr>\n",
       "    <tr>\n",
       "      <th>238</th>\n",
       "      <td>30-39</td>\n",
       "      <td>premeno</td>\n",
       "      <td>35-39</td>\n",
       "      <td>0-2</td>\n",
       "      <td>no</td>\n",
       "      <td>3</td>\n",
       "      <td>left</td>\n",
       "      <td>left_low</td>\n",
       "      <td>no</td>\n",
       "      <td>recurrence-events</td>\n",
       "    </tr>\n",
       "    <tr>\n",
       "      <th>239</th>\n",
       "      <td>40-49</td>\n",
       "      <td>premeno</td>\n",
       "      <td>20-24</td>\n",
       "      <td>5-Mar</td>\n",
       "      <td>yes</td>\n",
       "      <td>2</td>\n",
       "      <td>right</td>\n",
       "      <td>right_up</td>\n",
       "      <td>yes</td>\n",
       "      <td>recurrence-events</td>\n",
       "    </tr>\n",
       "    <tr>\n",
       "      <th>240</th>\n",
       "      <td>60-69</td>\n",
       "      <td>ge40</td>\n",
       "      <td>20-24</td>\n",
       "      <td>5-Mar</td>\n",
       "      <td>no</td>\n",
       "      <td>2</td>\n",
       "      <td>left</td>\n",
       "      <td>left_low</td>\n",
       "      <td>yes</td>\n",
       "      <td>recurrence-events</td>\n",
       "    </tr>\n",
       "    <tr>\n",
       "      <th>241</th>\n",
       "      <td>40-49</td>\n",
       "      <td>premeno</td>\n",
       "      <td>15-19</td>\n",
       "      <td>15-17</td>\n",
       "      <td>yes</td>\n",
       "      <td>3</td>\n",
       "      <td>left</td>\n",
       "      <td>left_low</td>\n",
       "      <td>no</td>\n",
       "      <td>recurrence-events</td>\n",
       "    </tr>\n",
       "    <tr>\n",
       "      <th>242</th>\n",
       "      <td>50-59</td>\n",
       "      <td>ge40</td>\n",
       "      <td>25-29</td>\n",
       "      <td>8-Jun</td>\n",
       "      <td>no</td>\n",
       "      <td>3</td>\n",
       "      <td>left</td>\n",
       "      <td>left_low</td>\n",
       "      <td>yes</td>\n",
       "      <td>recurrence-events</td>\n",
       "    </tr>\n",
       "    <tr>\n",
       "      <th>243</th>\n",
       "      <td>50-59</td>\n",
       "      <td>ge40</td>\n",
       "      <td>20-24</td>\n",
       "      <td>5-Mar</td>\n",
       "      <td>yes</td>\n",
       "      <td>3</td>\n",
       "      <td>right</td>\n",
       "      <td>right_up</td>\n",
       "      <td>no</td>\n",
       "      <td>recurrence-events</td>\n",
       "    </tr>\n",
       "    <tr>\n",
       "      <th>244</th>\n",
       "      <td>40-49</td>\n",
       "      <td>premeno</td>\n",
       "      <td>30-34</td>\n",
       "      <td>14-Dec</td>\n",
       "      <td>yes</td>\n",
       "      <td>3</td>\n",
       "      <td>left</td>\n",
       "      <td>left_up</td>\n",
       "      <td>yes</td>\n",
       "      <td>recurrence-events</td>\n",
       "    </tr>\n",
       "    <tr>\n",
       "      <th>245</th>\n",
       "      <td>30-39</td>\n",
       "      <td>premeno</td>\n",
       "      <td>30-34</td>\n",
       "      <td>11-Sep</td>\n",
       "      <td>no</td>\n",
       "      <td>2</td>\n",
       "      <td>right</td>\n",
       "      <td>left_up</td>\n",
       "      <td>yes</td>\n",
       "      <td>recurrence-events</td>\n",
       "    </tr>\n",
       "    <tr>\n",
       "      <th>246</th>\n",
       "      <td>30-39</td>\n",
       "      <td>premeno</td>\n",
       "      <td>15-19</td>\n",
       "      <td>8-Jun</td>\n",
       "      <td>yes</td>\n",
       "      <td>3</td>\n",
       "      <td>left</td>\n",
       "      <td>left_low</td>\n",
       "      <td>yes</td>\n",
       "      <td>recurrence-events</td>\n",
       "    </tr>\n",
       "    <tr>\n",
       "      <th>247</th>\n",
       "      <td>50-59</td>\n",
       "      <td>ge40</td>\n",
       "      <td>30-34</td>\n",
       "      <td>11-Sep</td>\n",
       "      <td>yes</td>\n",
       "      <td>3</td>\n",
       "      <td>left</td>\n",
       "      <td>right_low</td>\n",
       "      <td>yes</td>\n",
       "      <td>recurrence-events</td>\n",
       "    </tr>\n",
       "    <tr>\n",
       "      <th>248</th>\n",
       "      <td>60-69</td>\n",
       "      <td>ge40</td>\n",
       "      <td>35-39</td>\n",
       "      <td>8-Jun</td>\n",
       "      <td>yes</td>\n",
       "      <td>3</td>\n",
       "      <td>left</td>\n",
       "      <td>left_low</td>\n",
       "      <td>no</td>\n",
       "      <td>recurrence-events</td>\n",
       "    </tr>\n",
       "    <tr>\n",
       "      <th>249</th>\n",
       "      <td>30-39</td>\n",
       "      <td>premeno</td>\n",
       "      <td>20-24</td>\n",
       "      <td>5-Mar</td>\n",
       "      <td>yes</td>\n",
       "      <td>2</td>\n",
       "      <td>left</td>\n",
       "      <td>left_low</td>\n",
       "      <td>no</td>\n",
       "      <td>recurrence-events</td>\n",
       "    </tr>\n",
       "    <tr>\n",
       "      <th>250</th>\n",
       "      <td>40-49</td>\n",
       "      <td>premeno</td>\n",
       "      <td>25-29</td>\n",
       "      <td>0-2</td>\n",
       "      <td>no</td>\n",
       "      <td>3</td>\n",
       "      <td>left</td>\n",
       "      <td>left_up</td>\n",
       "      <td>no</td>\n",
       "      <td>recurrence-events</td>\n",
       "    </tr>\n",
       "    <tr>\n",
       "      <th>251</th>\n",
       "      <td>40-49</td>\n",
       "      <td>premeno</td>\n",
       "      <td>50-54</td>\n",
       "      <td>0-2</td>\n",
       "      <td>no</td>\n",
       "      <td>2</td>\n",
       "      <td>right</td>\n",
       "      <td>left_low</td>\n",
       "      <td>yes</td>\n",
       "      <td>recurrence-events</td>\n",
       "    </tr>\n",
       "    <tr>\n",
       "      <th>252</th>\n",
       "      <td>30-39</td>\n",
       "      <td>premeno</td>\n",
       "      <td>40-44</td>\n",
       "      <td>0-2</td>\n",
       "      <td>no</td>\n",
       "      <td>1</td>\n",
       "      <td>left</td>\n",
       "      <td>left_up</td>\n",
       "      <td>no</td>\n",
       "      <td>recurrence-events</td>\n",
       "    </tr>\n",
       "    <tr>\n",
       "      <th>253</th>\n",
       "      <td>60-69</td>\n",
       "      <td>ge40</td>\n",
       "      <td>50-54</td>\n",
       "      <td>0-2</td>\n",
       "      <td>no</td>\n",
       "      <td>3</td>\n",
       "      <td>right</td>\n",
       "      <td>left_up</td>\n",
       "      <td>no</td>\n",
       "      <td>recurrence-events</td>\n",
       "    </tr>\n",
       "    <tr>\n",
       "      <th>254</th>\n",
       "      <td>40-49</td>\n",
       "      <td>premeno</td>\n",
       "      <td>30-34</td>\n",
       "      <td>0-2</td>\n",
       "      <td>yes</td>\n",
       "      <td>3</td>\n",
       "      <td>right</td>\n",
       "      <td>right_up</td>\n",
       "      <td>no</td>\n",
       "      <td>recurrence-events</td>\n",
       "    </tr>\n",
       "    <tr>\n",
       "      <th>255</th>\n",
       "      <td>40-49</td>\n",
       "      <td>premeno</td>\n",
       "      <td>30-34</td>\n",
       "      <td>8-Jun</td>\n",
       "      <td>yes</td>\n",
       "      <td>3</td>\n",
       "      <td>right</td>\n",
       "      <td>left_up</td>\n",
       "      <td>no</td>\n",
       "      <td>recurrence-events</td>\n",
       "    </tr>\n",
       "    <tr>\n",
       "      <th>256</th>\n",
       "      <td>40-49</td>\n",
       "      <td>premeno</td>\n",
       "      <td>30-34</td>\n",
       "      <td>0-2</td>\n",
       "      <td>no</td>\n",
       "      <td>1</td>\n",
       "      <td>left</td>\n",
       "      <td>left_low</td>\n",
       "      <td>yes</td>\n",
       "      <td>recurrence-events</td>\n",
       "    </tr>\n",
       "    <tr>\n",
       "      <th>257</th>\n",
       "      <td>40-49</td>\n",
       "      <td>premeno</td>\n",
       "      <td>20-24</td>\n",
       "      <td>5-Mar</td>\n",
       "      <td>yes</td>\n",
       "      <td>2</td>\n",
       "      <td>left</td>\n",
       "      <td>left_low</td>\n",
       "      <td>yes</td>\n",
       "      <td>recurrence-events</td>\n",
       "    </tr>\n",
       "    <tr>\n",
       "      <th>258</th>\n",
       "      <td>50-59</td>\n",
       "      <td>ge40</td>\n",
       "      <td>30-34</td>\n",
       "      <td>8-Jun</td>\n",
       "      <td>yes</td>\n",
       "      <td>2</td>\n",
       "      <td>left</td>\n",
       "      <td>right_low</td>\n",
       "      <td>yes</td>\n",
       "      <td>recurrence-events</td>\n",
       "    </tr>\n",
       "    <tr>\n",
       "      <th>259</th>\n",
       "      <td>50-59</td>\n",
       "      <td>ge40</td>\n",
       "      <td>30-34</td>\n",
       "      <td>5-Mar</td>\n",
       "      <td>no</td>\n",
       "      <td>3</td>\n",
       "      <td>right</td>\n",
       "      <td>left_up</td>\n",
       "      <td>no</td>\n",
       "      <td>recurrence-events</td>\n",
       "    </tr>\n",
       "    <tr>\n",
       "      <th>260</th>\n",
       "      <td>60-69</td>\n",
       "      <td>ge40</td>\n",
       "      <td>25-29</td>\n",
       "      <td>5-Mar</td>\n",
       "      <td>no</td>\n",
       "      <td>2</td>\n",
       "      <td>right</td>\n",
       "      <td>right_up</td>\n",
       "      <td>no</td>\n",
       "      <td>recurrence-events</td>\n",
       "    </tr>\n",
       "    <tr>\n",
       "      <th>261</th>\n",
       "      <td>40-49</td>\n",
       "      <td>ge40</td>\n",
       "      <td>25-29</td>\n",
       "      <td>14-Dec</td>\n",
       "      <td>yes</td>\n",
       "      <td>3</td>\n",
       "      <td>left</td>\n",
       "      <td>right_low</td>\n",
       "      <td>yes</td>\n",
       "      <td>recurrence-events</td>\n",
       "    </tr>\n",
       "    <tr>\n",
       "      <th>262</th>\n",
       "      <td>60-69</td>\n",
       "      <td>ge40</td>\n",
       "      <td>25-29</td>\n",
       "      <td>0-2</td>\n",
       "      <td>no</td>\n",
       "      <td>3</td>\n",
       "      <td>left</td>\n",
       "      <td>left_up</td>\n",
       "      <td>no</td>\n",
       "      <td>recurrence-events</td>\n",
       "    </tr>\n",
       "    <tr>\n",
       "      <th>263</th>\n",
       "      <td>50-59</td>\n",
       "      <td>lt40</td>\n",
       "      <td>20-24</td>\n",
       "      <td>0-2</td>\n",
       "      <td>no</td>\n",
       "      <td>1</td>\n",
       "      <td>left</td>\n",
       "      <td>left_up</td>\n",
       "      <td>no</td>\n",
       "      <td>recurrence-events</td>\n",
       "    </tr>\n",
       "    <tr>\n",
       "      <th>264</th>\n",
       "      <td>50-59</td>\n",
       "      <td>lt40</td>\n",
       "      <td>20-24</td>\n",
       "      <td>0-2</td>\n",
       "      <td>no</td>\n",
       "      <td>1</td>\n",
       "      <td>left</td>\n",
       "      <td>left_low</td>\n",
       "      <td>no</td>\n",
       "      <td>recurrence-events</td>\n",
       "    </tr>\n",
       "    <tr>\n",
       "      <th>265</th>\n",
       "      <td>30-39</td>\n",
       "      <td>premeno</td>\n",
       "      <td>35-39</td>\n",
       "      <td>11-Sep</td>\n",
       "      <td>yes</td>\n",
       "      <td>3</td>\n",
       "      <td>left</td>\n",
       "      <td>left_low</td>\n",
       "      <td>no</td>\n",
       "      <td>recurrence-events</td>\n",
       "    </tr>\n",
       "    <tr>\n",
       "      <th>266</th>\n",
       "      <td>40-49</td>\n",
       "      <td>premeno</td>\n",
       "      <td>30-34</td>\n",
       "      <td>5-Mar</td>\n",
       "      <td>yes</td>\n",
       "      <td>2</td>\n",
       "      <td>left</td>\n",
       "      <td>right_up</td>\n",
       "      <td>no</td>\n",
       "      <td>recurrence-events</td>\n",
       "    </tr>\n",
       "    <tr>\n",
       "      <th>267</th>\n",
       "      <td>60-69</td>\n",
       "      <td>ge40</td>\n",
       "      <td>20-24</td>\n",
       "      <td>24-26</td>\n",
       "      <td>yes</td>\n",
       "      <td>3</td>\n",
       "      <td>left</td>\n",
       "      <td>left_low</td>\n",
       "      <td>yes</td>\n",
       "      <td>recurrence-events</td>\n",
       "    </tr>\n",
       "    <tr>\n",
       "      <th>268</th>\n",
       "      <td>30-39</td>\n",
       "      <td>premeno</td>\n",
       "      <td>35-39</td>\n",
       "      <td>0-2</td>\n",
       "      <td>no</td>\n",
       "      <td>3</td>\n",
       "      <td>left</td>\n",
       "      <td>left_low</td>\n",
       "      <td>no</td>\n",
       "      <td>recurrence-events</td>\n",
       "    </tr>\n",
       "    <tr>\n",
       "      <th>269</th>\n",
       "      <td>40-49</td>\n",
       "      <td>premeno</td>\n",
       "      <td>25-29</td>\n",
       "      <td>0-2</td>\n",
       "      <td>no</td>\n",
       "      <td>2</td>\n",
       "      <td>left</td>\n",
       "      <td>left_low</td>\n",
       "      <td>yes</td>\n",
       "      <td>recurrence-events</td>\n",
       "    </tr>\n",
       "    <tr>\n",
       "      <th>270</th>\n",
       "      <td>50-59</td>\n",
       "      <td>ge40</td>\n",
       "      <td>30-34</td>\n",
       "      <td>8-Jun</td>\n",
       "      <td>yes</td>\n",
       "      <td>3</td>\n",
       "      <td>left</td>\n",
       "      <td>right_low</td>\n",
       "      <td>no</td>\n",
       "      <td>recurrence-events</td>\n",
       "    </tr>\n",
       "    <tr>\n",
       "      <th>271</th>\n",
       "      <td>50-59</td>\n",
       "      <td>premeno</td>\n",
       "      <td>25-29</td>\n",
       "      <td>0-2</td>\n",
       "      <td>no</td>\n",
       "      <td>3</td>\n",
       "      <td>right</td>\n",
       "      <td>left_low</td>\n",
       "      <td>yes</td>\n",
       "      <td>recurrence-events</td>\n",
       "    </tr>\n",
       "    <tr>\n",
       "      <th>272</th>\n",
       "      <td>40-49</td>\n",
       "      <td>premeno</td>\n",
       "      <td>15-19</td>\n",
       "      <td>0-2</td>\n",
       "      <td>yes</td>\n",
       "      <td>3</td>\n",
       "      <td>right</td>\n",
       "      <td>left_up</td>\n",
       "      <td>no</td>\n",
       "      <td>recurrence-events</td>\n",
       "    </tr>\n",
       "    <tr>\n",
       "      <th>273</th>\n",
       "      <td>60-69</td>\n",
       "      <td>ge40</td>\n",
       "      <td>30-34</td>\n",
       "      <td>0-2</td>\n",
       "      <td>yes</td>\n",
       "      <td>2</td>\n",
       "      <td>right</td>\n",
       "      <td>right_up</td>\n",
       "      <td>yes</td>\n",
       "      <td>recurrence-events</td>\n",
       "    </tr>\n",
       "    <tr>\n",
       "      <th>274</th>\n",
       "      <td>60-69</td>\n",
       "      <td>ge40</td>\n",
       "      <td>30-34</td>\n",
       "      <td>5-Mar</td>\n",
       "      <td>yes</td>\n",
       "      <td>2</td>\n",
       "      <td>left</td>\n",
       "      <td>central</td>\n",
       "      <td>yes</td>\n",
       "      <td>recurrence-events</td>\n",
       "    </tr>\n",
       "    <tr>\n",
       "      <th>275</th>\n",
       "      <td>40-49</td>\n",
       "      <td>premeno</td>\n",
       "      <td>25-29</td>\n",
       "      <td>11-Sep</td>\n",
       "      <td>yes</td>\n",
       "      <td>3</td>\n",
       "      <td>right</td>\n",
       "      <td>left_up</td>\n",
       "      <td>no</td>\n",
       "      <td>recurrence-events</td>\n",
       "    </tr>\n",
       "    <tr>\n",
       "      <th>276</th>\n",
       "      <td>30-39</td>\n",
       "      <td>premeno</td>\n",
       "      <td>25-29</td>\n",
       "      <td>8-Jun</td>\n",
       "      <td>yes</td>\n",
       "      <td>3</td>\n",
       "      <td>left</td>\n",
       "      <td>right_low</td>\n",
       "      <td>yes</td>\n",
       "      <td>recurrence-events</td>\n",
       "    </tr>\n",
       "    <tr>\n",
       "      <th>277</th>\n",
       "      <td>60-69</td>\n",
       "      <td>ge40</td>\n",
       "      <td>14-Oct</td>\n",
       "      <td>8-Jun</td>\n",
       "      <td>yes</td>\n",
       "      <td>3</td>\n",
       "      <td>left</td>\n",
       "      <td>left_up</td>\n",
       "      <td>yes</td>\n",
       "      <td>recurrence-events</td>\n",
       "    </tr>\n",
       "    <tr>\n",
       "      <th>278</th>\n",
       "      <td>50-59</td>\n",
       "      <td>premeno</td>\n",
       "      <td>35-39</td>\n",
       "      <td>15-17</td>\n",
       "      <td>yes</td>\n",
       "      <td>3</td>\n",
       "      <td>right</td>\n",
       "      <td>right_up</td>\n",
       "      <td>no</td>\n",
       "      <td>recurrence-events</td>\n",
       "    </tr>\n",
       "    <tr>\n",
       "      <th>279</th>\n",
       "      <td>50-59</td>\n",
       "      <td>ge40</td>\n",
       "      <td>40-44</td>\n",
       "      <td>8-Jun</td>\n",
       "      <td>yes</td>\n",
       "      <td>3</td>\n",
       "      <td>left</td>\n",
       "      <td>left_low</td>\n",
       "      <td>yes</td>\n",
       "      <td>recurrence-events</td>\n",
       "    </tr>\n",
       "    <tr>\n",
       "      <th>280</th>\n",
       "      <td>50-59</td>\n",
       "      <td>ge40</td>\n",
       "      <td>40-44</td>\n",
       "      <td>8-Jun</td>\n",
       "      <td>yes</td>\n",
       "      <td>3</td>\n",
       "      <td>left</td>\n",
       "      <td>left_low</td>\n",
       "      <td>yes</td>\n",
       "      <td>recurrence-events</td>\n",
       "    </tr>\n",
       "    <tr>\n",
       "      <th>281</th>\n",
       "      <td>30-39</td>\n",
       "      <td>premeno</td>\n",
       "      <td>30-34</td>\n",
       "      <td>0-2</td>\n",
       "      <td>no</td>\n",
       "      <td>2</td>\n",
       "      <td>left</td>\n",
       "      <td>left_up</td>\n",
       "      <td>no</td>\n",
       "      <td>recurrence-events</td>\n",
       "    </tr>\n",
       "    <tr>\n",
       "      <th>282</th>\n",
       "      <td>30-39</td>\n",
       "      <td>premeno</td>\n",
       "      <td>20-24</td>\n",
       "      <td>0-2</td>\n",
       "      <td>no</td>\n",
       "      <td>3</td>\n",
       "      <td>left</td>\n",
       "      <td>left_up</td>\n",
       "      <td>yes</td>\n",
       "      <td>recurrence-events</td>\n",
       "    </tr>\n",
       "    <tr>\n",
       "      <th>283</th>\n",
       "      <td>60-69</td>\n",
       "      <td>ge40</td>\n",
       "      <td>20-24</td>\n",
       "      <td>0-2</td>\n",
       "      <td>no</td>\n",
       "      <td>1</td>\n",
       "      <td>right</td>\n",
       "      <td>left_up</td>\n",
       "      <td>no</td>\n",
       "      <td>recurrence-events</td>\n",
       "    </tr>\n",
       "    <tr>\n",
       "      <th>284</th>\n",
       "      <td>40-49</td>\n",
       "      <td>ge40</td>\n",
       "      <td>30-34</td>\n",
       "      <td>5-Mar</td>\n",
       "      <td>no</td>\n",
       "      <td>3</td>\n",
       "      <td>left</td>\n",
       "      <td>left_low</td>\n",
       "      <td>no</td>\n",
       "      <td>recurrence-events</td>\n",
       "    </tr>\n",
       "    <tr>\n",
       "      <th>285</th>\n",
       "      <td>50-59</td>\n",
       "      <td>ge40</td>\n",
       "      <td>30-34</td>\n",
       "      <td>5-Mar</td>\n",
       "      <td>no</td>\n",
       "      <td>3</td>\n",
       "      <td>left</td>\n",
       "      <td>left_low</td>\n",
       "      <td>no</td>\n",
       "      <td>recurrence-events</td>\n",
       "    </tr>\n",
       "  </tbody>\n",
       "</table>\n",
       "</div>"
      ],
      "text/plain": [
       "    Age Range Menopause Tumor size Inv-nodes Node-caps  Degree of malignancy  \\\n",
       "226     40-49   premeno      30-34     15-17       yes                     3   \n",
       "227     50-59   premeno      30-34       0-2        no                     3   \n",
       "228     60-69      ge40      40-44     5-Mar       yes                     3   \n",
       "229     60-69      ge40      45-49       0-2        no                     1   \n",
       "230     50-59   premeno      50-54    11-Sep       yes                     2   \n",
       "231     40-49   premeno      30-34     5-Mar        no                     2   \n",
       "232     30-39   premeno      30-34     5-Mar        no                     3   \n",
       "233     70-79      ge40      15-19    11-Sep       yes                     1   \n",
       "234     60-69      ge40      30-34       0-2        no                     3   \n",
       "235     50-59   premeno      25-29     5-Mar       yes                     3   \n",
       "236     40-49   premeno      25-29       0-2        no                     2   \n",
       "237     40-49   premeno      25-29       0-2        no                     2   \n",
       "238     30-39   premeno      35-39       0-2        no                     3   \n",
       "239     40-49   premeno      20-24     5-Mar       yes                     2   \n",
       "240     60-69      ge40      20-24     5-Mar        no                     2   \n",
       "241     40-49   premeno      15-19     15-17       yes                     3   \n",
       "242     50-59      ge40      25-29     8-Jun        no                     3   \n",
       "243     50-59      ge40      20-24     5-Mar       yes                     3   \n",
       "244     40-49   premeno      30-34    14-Dec       yes                     3   \n",
       "245     30-39   premeno      30-34    11-Sep        no                     2   \n",
       "246     30-39   premeno      15-19     8-Jun       yes                     3   \n",
       "247     50-59      ge40      30-34    11-Sep       yes                     3   \n",
       "248     60-69      ge40      35-39     8-Jun       yes                     3   \n",
       "249     30-39   premeno      20-24     5-Mar       yes                     2   \n",
       "250     40-49   premeno      25-29       0-2        no                     3   \n",
       "251     40-49   premeno      50-54       0-2        no                     2   \n",
       "252     30-39   premeno      40-44       0-2        no                     1   \n",
       "253     60-69      ge40      50-54       0-2        no                     3   \n",
       "254     40-49   premeno      30-34       0-2       yes                     3   \n",
       "255     40-49   premeno      30-34     8-Jun       yes                     3   \n",
       "256     40-49   premeno      30-34       0-2        no                     1   \n",
       "257     40-49   premeno      20-24     5-Mar       yes                     2   \n",
       "258     50-59      ge40      30-34     8-Jun       yes                     2   \n",
       "259     50-59      ge40      30-34     5-Mar        no                     3   \n",
       "260     60-69      ge40      25-29     5-Mar        no                     2   \n",
       "261     40-49      ge40      25-29    14-Dec       yes                     3   \n",
       "262     60-69      ge40      25-29       0-2        no                     3   \n",
       "263     50-59      lt40      20-24       0-2        no                     1   \n",
       "264     50-59      lt40      20-24       0-2        no                     1   \n",
       "265     30-39   premeno      35-39    11-Sep       yes                     3   \n",
       "266     40-49   premeno      30-34     5-Mar       yes                     2   \n",
       "267     60-69      ge40      20-24     24-26       yes                     3   \n",
       "268     30-39   premeno      35-39       0-2        no                     3   \n",
       "269     40-49   premeno      25-29       0-2        no                     2   \n",
       "270     50-59      ge40      30-34     8-Jun       yes                     3   \n",
       "271     50-59   premeno      25-29       0-2        no                     3   \n",
       "272     40-49   premeno      15-19       0-2       yes                     3   \n",
       "273     60-69      ge40      30-34       0-2       yes                     2   \n",
       "274     60-69      ge40      30-34     5-Mar       yes                     2   \n",
       "275     40-49   premeno      25-29    11-Sep       yes                     3   \n",
       "276     30-39   premeno      25-29     8-Jun       yes                     3   \n",
       "277     60-69      ge40     14-Oct     8-Jun       yes                     3   \n",
       "278     50-59   premeno      35-39     15-17       yes                     3   \n",
       "279     50-59      ge40      40-44     8-Jun       yes                     3   \n",
       "280     50-59      ge40      40-44     8-Jun       yes                     3   \n",
       "281     30-39   premeno      30-34       0-2        no                     2   \n",
       "282     30-39   premeno      20-24       0-2        no                     3   \n",
       "283     60-69      ge40      20-24       0-2        no                     1   \n",
       "284     40-49      ge40      30-34     5-Mar        no                     3   \n",
       "285     50-59      ge40      30-34     5-Mar        no                     3   \n",
       "\n",
       "    Breast Breast-Quad Irradiat              Class  \n",
       "226   left    left_low       no  recurrence-events  \n",
       "227  right     left_up      yes  recurrence-events  \n",
       "228  right    left_low       no  recurrence-events  \n",
       "229  right    right_up      yes  recurrence-events  \n",
       "230  right     left_up       no  recurrence-events  \n",
       "231  right     left_up       no  recurrence-events  \n",
       "232  right     left_up      yes  recurrence-events  \n",
       "233   left    left_low      yes  recurrence-events  \n",
       "234  right     left_up      yes  recurrence-events  \n",
       "235   left    left_low      yes  recurrence-events  \n",
       "236  right    left_low       no  recurrence-events  \n",
       "237  right    left_low       no  recurrence-events  \n",
       "238   left    left_low       no  recurrence-events  \n",
       "239  right    right_up      yes  recurrence-events  \n",
       "240   left    left_low      yes  recurrence-events  \n",
       "241   left    left_low       no  recurrence-events  \n",
       "242   left    left_low      yes  recurrence-events  \n",
       "243  right    right_up       no  recurrence-events  \n",
       "244   left     left_up      yes  recurrence-events  \n",
       "245  right     left_up      yes  recurrence-events  \n",
       "246   left    left_low      yes  recurrence-events  \n",
       "247   left   right_low      yes  recurrence-events  \n",
       "248   left    left_low       no  recurrence-events  \n",
       "249   left    left_low       no  recurrence-events  \n",
       "250   left     left_up       no  recurrence-events  \n",
       "251  right    left_low      yes  recurrence-events  \n",
       "252   left     left_up       no  recurrence-events  \n",
       "253  right     left_up       no  recurrence-events  \n",
       "254  right    right_up       no  recurrence-events  \n",
       "255  right     left_up       no  recurrence-events  \n",
       "256   left    left_low      yes  recurrence-events  \n",
       "257   left    left_low      yes  recurrence-events  \n",
       "258   left   right_low      yes  recurrence-events  \n",
       "259  right     left_up       no  recurrence-events  \n",
       "260  right    right_up       no  recurrence-events  \n",
       "261   left   right_low      yes  recurrence-events  \n",
       "262   left     left_up       no  recurrence-events  \n",
       "263   left     left_up       no  recurrence-events  \n",
       "264   left    left_low       no  recurrence-events  \n",
       "265   left    left_low       no  recurrence-events  \n",
       "266   left    right_up       no  recurrence-events  \n",
       "267   left    left_low      yes  recurrence-events  \n",
       "268   left    left_low       no  recurrence-events  \n",
       "269   left    left_low      yes  recurrence-events  \n",
       "270   left   right_low       no  recurrence-events  \n",
       "271  right    left_low      yes  recurrence-events  \n",
       "272  right     left_up       no  recurrence-events  \n",
       "273  right    right_up      yes  recurrence-events  \n",
       "274   left     central      yes  recurrence-events  \n",
       "275  right     left_up       no  recurrence-events  \n",
       "276   left   right_low      yes  recurrence-events  \n",
       "277   left     left_up      yes  recurrence-events  \n",
       "278  right    right_up       no  recurrence-events  \n",
       "279   left    left_low      yes  recurrence-events  \n",
       "280   left    left_low      yes  recurrence-events  \n",
       "281   left     left_up       no  recurrence-events  \n",
       "282   left     left_up      yes  recurrence-events  \n",
       "283  right     left_up       no  recurrence-events  \n",
       "284   left    left_low       no  recurrence-events  \n",
       "285   left    left_low       no  recurrence-events  "
      ]
     },
     "execution_count": 107,
     "metadata": {},
     "output_type": "execute_result"
    }
   ],
   "source": [
    "# This code was done by 223077593 - ORILIO NAOBEB\n",
    "breast_cancer.tail(60)"
   ]
  },
  {
   "cell_type": "markdown",
   "id": "90d7f930-7f9a-445f-a941-77578d68ccb7",
   "metadata": {},
   "source": [
    "## **Data Redundancy**"
   ]
  },
  {
   "cell_type": "code",
   "execution_count": 108,
   "id": "57079678-3056-4d15-9ef0-e7b5437902f4",
   "metadata": {},
   "outputs": [
    {
     "name": "stdout",
     "output_type": "stream",
     "text": [
      "    Age Range Menopause Tumor size Inv-nodes Node-caps  Degree of malignancy  \\\n",
      "3       60-69      ge40      15-19       0-2        no                     2   \n",
      "5       60-69      ge40      15-19       0-2        no                     2   \n",
      "6       50-59   premeno      25-29       0-2        no                     2   \n",
      "7       60-69      ge40      20-24       0-2        no                     1   \n",
      "9       40-49   premeno      20-24       0-2        no                     2   \n",
      "21      60-69      ge40      15-19       0-2        no                     2   \n",
      "37      50-59      ge40      15-19       0-2        no                     1   \n",
      "65      40-49   premeno     14-Oct       0-2        no                     1   \n",
      "67      50-59      ge40      20-24       0-2        no                     3   \n",
      "78      50-59   premeno      25-29       0-2        no                     2   \n",
      "81      60-69      ge40     14-Oct       0-2        no                     1   \n",
      "91      50-59      ge40      20-24       0-2        no                     3   \n",
      "97      60-69      ge40      15-19       0-2        no                     2   \n",
      "111     50-59      ge40      15-19       0-2        no                     1   \n",
      "112     40-49   premeno      20-24       0-2        no                     2   \n",
      "113     40-49   premeno     14-Oct       0-2        no                     1   \n",
      "116     30-39   premeno      15-19       0-2        no                     1   \n",
      "120     60-69      ge40      20-24       0-2        no                     1   \n",
      "142     60-69      ge40     14-Oct       0-2        no                     1   \n",
      "171     30-39   premeno      15-19       0-2        no                     1   \n",
      "204     50-59   premeno      25-29       0-2        no                     2   \n",
      "207     50-59   premeno      25-29       0-2        no                     2   \n",
      "236     40-49   premeno      25-29       0-2        no                     2   \n",
      "237     40-49   premeno      25-29       0-2        no                     2   \n",
      "238     30-39   premeno      35-39       0-2        no                     3   \n",
      "268     30-39   premeno      35-39       0-2        no                     3   \n",
      "279     50-59      ge40      40-44     8-Jun       yes                     3   \n",
      "280     50-59      ge40      40-44     8-Jun       yes                     3   \n",
      "\n",
      "    Breast Breast-Quad Irradiat                 Class  \n",
      "3    right     left_up       no  no-recurrence-events  \n",
      "5     left    left_low       no  no-recurrence-events  \n",
      "6     left    left_low       no  no-recurrence-events  \n",
      "7     left    left_low       no  no-recurrence-events  \n",
      "9    right     left_up       no  no-recurrence-events  \n",
      "21    left    left_low       no  no-recurrence-events  \n",
      "37   right     central       no  no-recurrence-events  \n",
      "65   right     left_up       no  no-recurrence-events  \n",
      "67    left     left_up       no  no-recurrence-events  \n",
      "78    left    left_low       no  no-recurrence-events  \n",
      "81    left     left_up       no  no-recurrence-events  \n",
      "91    left     left_up       no  no-recurrence-events  \n",
      "97   right     left_up       no  no-recurrence-events  \n",
      "111  right     central       no  no-recurrence-events  \n",
      "112  right     left_up       no  no-recurrence-events  \n",
      "113  right     left_up       no  no-recurrence-events  \n",
      "116   left    left_low       no  no-recurrence-events  \n",
      "120   left    left_low       no  no-recurrence-events  \n",
      "142   left     left_up       no  no-recurrence-events  \n",
      "171   left    left_low       no  no-recurrence-events  \n",
      "204   left    right_up       no     recurrence-events  \n",
      "207   left    right_up       no     recurrence-events  \n",
      "236  right    left_low       no     recurrence-events  \n",
      "237  right    left_low       no     recurrence-events  \n",
      "238   left    left_low       no     recurrence-events  \n",
      "268   left    left_low       no     recurrence-events  \n",
      "279   left    left_low      yes     recurrence-events  \n",
      "280   left    left_low      yes     recurrence-events  \n"
     ]
    }
   ],
   "source": [
    "# This code was done by 223077593 - ORILIO NAOBEB\n",
    "duplicated_rows = breast_cancer[breast_cancer.duplicated(keep=False)]  # keep=False shows all duplicates\n",
    "print(duplicated_rows)"
   ]
  },
  {
   "cell_type": "code",
   "execution_count": 109,
   "id": "dfbb3ecc-9f72-4029-b6e5-068095c26b69",
   "metadata": {},
   "outputs": [],
   "source": [
    "# This code was done by 223077593 - ORILIO NAOBEB\n",
    "breast_cancer_cleaned = breast_cancer.drop_duplicates(keep='first')  # Keeps the first occurrence"
   ]
  },
  {
   "cell_type": "code",
   "execution_count": 110,
   "id": "dab313df-ec9f-48f3-8b6e-c5f53a8cc6f8",
   "metadata": {},
   "outputs": [
    {
     "name": "stdout",
     "output_type": "stream",
     "text": [
      "Number of duplicate rows after cleaning: 0\n"
     ]
    }
   ],
   "source": [
    "# This code was done by 223077593 - ORILIO NAOBEB\n",
    "print(f\"Number of duplicate rows after cleaning: {breast_cancer_cleaned.duplicated().sum()}\")"
   ]
  },
  {
   "cell_type": "markdown",
   "id": "42ab4153-c2a7-47a6-96ee-1f8d5ccdc22b",
   "metadata": {},
   "source": [
    "## **Typos**"
   ]
  },
  {
   "cell_type": "code",
   "execution_count": 111,
   "id": "a0e3c9e3-926c-4c84-8e5e-df299c2bd6db",
   "metadata": {},
   "outputs": [
    {
     "name": "stdout",
     "output_type": "stream",
     "text": [
      "['0-2' '8-Jun' '11-Sep' '5-Mar' '15-17' '14-Dec' '24-26']\n"
     ]
    }
   ],
   "source": [
    "# This code was done by 223077593 - ORILIO NAOBEB\n",
    "print(breast_cancer_cleaned['Inv-nodes'].unique())"
   ]
  },
  {
   "cell_type": "code",
   "execution_count": 112,
   "id": "ef6bbbfe-497d-4f63-b201-6487487c5715",
   "metadata": {},
   "outputs": [
    {
     "name": "stdout",
     "output_type": "stream",
     "text": [
      "['30-34' '20-24' '15-19' '0-4' '25-29' '50-54' '14-Oct' '40-44' '35-39'\n",
      " '9-May' '45-49']\n"
     ]
    }
   ],
   "source": [
    "# This code was done by 223077593 - ORILIO NAOBEB\n",
    "print(breast_cancer_cleaned['Tumor size'].unique())"
   ]
  },
  {
   "cell_type": "code",
   "execution_count": 113,
   "id": "b4023d94-834f-4e4a-92ea-cf48b8cd90a7",
   "metadata": {},
   "outputs": [
    {
     "name": "stdout",
     "output_type": "stream",
     "text": [
      "    Tumor size Inv-nodes\n",
      "0        30-34       0-2\n",
      "1        20-24       0-2\n",
      "2        20-24       0-2\n",
      "3        15-19       0-2\n",
      "4          0-4       0-2\n",
      "..         ...       ...\n",
      "281      30-34       0-2\n",
      "282      20-24       0-2\n",
      "283      20-24       0-2\n",
      "284      30-34       3-5\n",
      "285      30-34       3-5\n",
      "\n",
      "[272 rows x 2 columns]\n"
     ]
    }
   ],
   "source": [
    "# This code was done by 223077593 - ORILIO NAOBEB\n",
    "# Define correct categories for Tumor size and Inv-nodes\n",
    "correct_tumor_sizes = ['0-4', '5-9', '10-14', '15-19', '20-24', '25-29', '30-34', '35-39', '40-44', '45-49', '50-54']\n",
    "correct_inv_nodes = ['0-2', '3-5', '6-8', '9-11', '12-14', '15-17', '18-20','21-23','24-26']\n",
    "\n",
    "# Function to apply fuzzy matching and replace incorrect values\n",
    "def correct_values(column, correct_values_list):\n",
    "    return column.apply(lambda x: process.extractOne(x, correct_values_list)[0])\n",
    "\n",
    "# Use .loc to apply fuzzy matching on Tumor size column\n",
    "breast_cancer_cleaned.loc[:, 'Tumor size'] = correct_values(breast_cancer_cleaned['Tumor size'], correct_tumor_sizes)\n",
    "\n",
    "# Use .loc to apply fuzzy matching on Inv-nodes column\n",
    "breast_cancer_cleaned.loc[:, 'Inv-nodes'] = correct_values(breast_cancer_cleaned['Inv-nodes'], correct_inv_nodes)\n",
    "\n",
    "# Check corrected values\n",
    "print(breast_cancer_cleaned[['Tumor size', 'Inv-nodes']])"
   ]
  },
  {
   "cell_type": "code",
   "execution_count": 114,
   "id": "11509859-fd06-4e64-924d-f92c257fcff9",
   "metadata": {},
   "outputs": [
    {
     "name": "stdout",
     "output_type": "stream",
     "text": [
      "['0-2' '6-8' '9-11' '3-5' '15-17' '12-14' '24-26']\n"
     ]
    }
   ],
   "source": [
    "# This code was done by 223077593 - ORILIO NAOBEB\n",
    "print(breast_cancer_cleaned['Inv-nodes'].unique())"
   ]
  },
  {
   "cell_type": "code",
   "execution_count": 115,
   "id": "b81fa477-58a7-4572-bb6c-f5a71dd1235b",
   "metadata": {},
   "outputs": [
    {
     "name": "stdout",
     "output_type": "stream",
     "text": [
      "['30-34' '20-24' '15-19' '0-4' '25-29' '50-54' '10-14' '40-44' '35-39'\n",
      " '5-9' '45-49']\n"
     ]
    }
   ],
   "source": [
    "# This code was done by 223077593 - ORILIO NAOBEB\n",
    "print(breast_cancer_cleaned['Tumor size'].unique())"
   ]
  },
  {
   "cell_type": "markdown",
   "id": "f1b05914-a5a8-436c-a5da-340db99a08ac",
   "metadata": {},
   "source": [
    "## **Outliers**"
   ]
  },
  {
   "cell_type": "code",
   "execution_count": 116,
   "id": "4c241d4a-8482-48c6-a569-ded4b9dcaef3",
   "metadata": {},
   "outputs": [],
   "source": [
    "# This code was done by 223077593 - ORILIO NAOBEB\n",
    "#There is no need for outlier cleaning because the Degree of Malignancy only contains three distinct values (1, 2, and 3) with no outliers. \n",
    "#The remaining categorical data does not have outliers, as outlier detection is relevant only for numerical data."
   ]
  },
  {
   "cell_type": "markdown",
   "id": "c29fc8e9-c749-4fdd-99d9-371d1d5def00",
   "metadata": {},
   "source": [
    "# VISUALIZATION"
   ]
  },
  {
   "cell_type": "code",
   "execution_count": 42,
   "id": "83504f91-2aad-4e50-adb9-a821d4d716a2",
   "metadata": {},
   "outputs": [
    {
     "name": "stdout",
     "output_type": "stream",
     "text": [
      "<class 'pandas.core.frame.DataFrame'>\n",
      "Index: 272 entries, 0 to 285\n",
      "Data columns (total 10 columns):\n",
      " #   Column                Non-Null Count  Dtype \n",
      "---  ------                --------------  ----- \n",
      " 0   Age Range             272 non-null    object\n",
      " 1   Menopause             272 non-null    object\n",
      " 2   Tumor size            272 non-null    object\n",
      " 3   Inv-nodes             272 non-null    object\n",
      " 4   Node-caps             272 non-null    object\n",
      " 5   Degree of malignancy  272 non-null    int64 \n",
      " 6   Breast                272 non-null    object\n",
      " 7   Breast-Quad           272 non-null    object\n",
      " 8   Irradiat              272 non-null    object\n",
      " 9   Class                 272 non-null    object\n",
      "dtypes: int64(1), object(9)\n",
      "memory usage: 23.4+ KB\n"
     ]
    },
    {
     "data": {
      "text/plain": [
       "(None,\n",
       "   Age Range Menopause Tumor size Inv-nodes Node-caps  Degree of malignancy  \\\n",
       " 0     30-39   premeno      30-34       0-2        no                     3   \n",
       " 1     40-49   premeno      20-24       0-2        no                     2   \n",
       " 2     40-49   premeno      20-24       0-2        no                     2   \n",
       " 3     60-69      ge40      15-19       0-2        no                     2   \n",
       " 4     40-49   premeno        0-4       0-2        no                     2   \n",
       " \n",
       "   Breast Breast-Quad Irradiat                 Class  \n",
       " 0   left    left_low       no  no-recurrence-events  \n",
       " 1  right    right_up       no  no-recurrence-events  \n",
       " 2   left    left_low       no  no-recurrence-events  \n",
       " 3  right     left_up       no  no-recurrence-events  \n",
       " 4  right   right_low       no  no-recurrence-events  )"
      ]
     },
     "execution_count": 42,
     "metadata": {},
     "output_type": "execute_result"
    }
   ],
   "source": [
    "# This code was done by 222129816 - TANAKA MUSHUKUTU\n",
    "# Display the first few rows and basic information about the dataset\n",
    "data_info = breast_cancer_cleaned.info()\n",
    "data_head = breast_cancer_cleaned.head()\n",
    "\n",
    "data_info, data_head"
   ]
  },
  {
   "cell_type": "code",
   "execution_count": 66,
   "id": "d6e3b05e-18e7-4e10-bef4-c8bbf15abab0",
   "metadata": {},
   "outputs": [
    {
     "data": {
      "image/png": "[encoded data removed]",
      "text/plain": [
       "<Figure size 800x800 with 1 Axes>"
      ]
     },
     "metadata": {},
     "output_type": "display_data"
    },
    {
     "name": "stderr",
     "output_type": "stream",
     "text": [
      "C:\\Users\\orili\\AppData\\Local\\Temp\\ipykernel_17280\\284006972.py:11: FutureWarning:\n",
      "\n",
      "\n",
      "\n",
      "The `ci` parameter is deprecated. Use `errorbar=None` for the same effect.\n",
      "\n",
      "\n",
      "C:\\Users\\orili\\AppData\\Local\\Temp\\ipykernel_17280\\284006972.py:11: FutureWarning:\n",
      "\n",
      "\n",
      "\n",
      "Passing `palette` without assigning `hue` is deprecated and will be removed in v0.14.0. Assign the `x` variable to `hue` and set `legend=False` for the same effect.\n",
      "\n",
      "\n"
     ]
    },
    {
     "data": {
      "image/png": "[encoded data removed]",
      "text/plain": [
       "<Figure size 1200x600 with 1 Axes>"
      ]
     },
     "metadata": {},
     "output_type": "display_data"
    }
   ],
   "source": [
    "# This code was done by 222129816 - TANAKA MUSHUKUTU\n",
    "# Pie Chart: Distribution of the target variable `Class`\n",
    "class_distribution = breast_cancer_cleaned['Class'].value_counts()\n",
    "plt.figure(figsize=(8, 8))\n",
    "plt.pie(class_distribution, labels=class_distribution.index, autopct='%1.1f%%', startangle=140, colors=sns.color_palette(\"pastel\"))\n",
    "plt.title(\"Distribution of Breast Cancer Class (Recurrence vs. No Recurrence)\")\n",
    "plt.show()\n",
    "\n",
    "# Bar Graph: Tumor size vs. Degree of malignancy\n",
    "plt.figure(figsize=(12, 6))\n",
    "sns.barplot(x='Tumor size', y='Degree of malignancy', data=breast_cancer_cleaned, palette=\"viridis\", ci=None)\n",
    "plt.title(\"Tumor Size vs Degree of Malignancy\")\n",
    "plt.xticks(rotation=45)\n",
    "plt.show()"
   ]
  },
  {
   "cell_type": "code",
   "execution_count": 67,
   "id": "ef6263f4-5b3f-4e1f-9002-4ab1be161611",
   "metadata": {},
   "outputs": [
    {
     "data": {
      "application/vnd.plotly.v1+json": {
       "config": {
        "plotlyServerURL": "https://plot.ly"
       },
       "data": [
        {
         "customdata": [
          [
           3,
           "left",
           "no"
          ],
          [
           2,
           "right",
           "no"
          ],
          [
           2,
           "left",
           "no"
          ],
          [
           2,
           "right",
           "no"
          ],
          [
           2,
           "left",
           "no"
          ],
          [
           2,
           "left",
           "no"
          ],
          [
           2,
           "right",
           "no"
          ],
          [
           3,
           "left",
           "no"
          ],
          [
           3,
           "left",
           "no"
          ],
          [
           2,
           "left",
           "no"
          ],
          [
           3,
           "left",
           "no"
          ],
          [
           2,
           "right",
           "no"
          ],
          [
           2,
           "left",
           "no"
          ],
          [
           2,
           "right",
           "no"
          ],
          [
           2,
           "left",
           "no"
          ],
          [
           1,
           "left",
           "no"
          ],
          [
           2,
           "right",
           "no"
          ],
          [
           2,
           "right",
           "no"
          ],
          [
           3,
           "left",
           "no"
          ],
          [
           2,
           "left",
           "no"
          ],
          [
           2,
           "left",
           "no"
          ],
          [
           1,
           "left",
           "no"
          ],
          [
           2,
           "left",
           "no"
          ],
          [
           2,
           "right",
           "no"
          ],
          [
           1,
           "right",
           "no"
          ],
          [
           1,
           "right",
           "no"
          ],
          [
           1,
           "right",
           "no"
          ],
          [
           2,
           "left",
           "no"
          ],
          [
           1,
           "left",
           "no"
          ],
          [
           2,
           "left",
           "no"
          ],
          [
           1,
           "right",
           "no"
          ],
          [
           2,
           "right",
           "no"
          ],
          [
           1,
           "left",
           "no"
          ],
          [
           1,
           "right",
           "no"
          ],
          [
           1,
           "right",
           "no"
          ],
          [
           2,
           "right",
           "no"
          ],
          [
           2,
           "right",
           "no"
          ],
          [
           2,
           "left",
           "no"
          ],
          [
           1,
           "left",
           "no"
          ],
          [
           2,
           "right",
           "no"
          ],
          [
           1,
           "left",
           "no"
          ],
          [
           1,
           "right",
           "no"
          ],
          [
           2,
           "right",
           "no"
          ],
          [
           1,
           "left",
           "no"
          ],
          [
           2,
           "right",
           "no"
          ],
          [
           1,
           "left",
           "no"
          ],
          [
           2,
           "left",
           "no"
          ],
          [
           2,
           "right",
           "no"
          ],
          [
           2,
           "left",
           "no"
          ],
          [
           2,
           "right",
           "no"
          ],
          [
           1,
           "right",
           "no"
          ],
          [
           2,
           "left",
           "no"
          ],
          [
           2,
           "right",
           "no"
          ],
          [
           3,
           "right",
           "no"
          ],
          [
           2,
           "right",
           "no"
          ],
          [
           1,
           "left",
           "no"
          ],
          [
           1,
           "right",
           "no"
          ],
          [
           2,
           "right",
           "no"
          ],
          [
           2,
           "right",
           "yes"
          ],
          [
           2,
           "left",
           "no"
          ],
          [
           2,
           "right",
           "yes"
          ],
          [
           2,
           "right",
           "yes"
          ],
          [
           3,
           "right",
           "yes"
          ],
          [
           2,
           "left",
           "no"
          ],
          [
           2,
           "right",
           "no"
          ],
          [
           3,
           "right",
           "yes"
          ],
          [
           1,
           "left",
           "yes"
          ],
          [
           2,
           "left",
           "yes"
          ],
          [
           2,
           "left",
           "no"
          ],
          [
           2,
           "left",
           "no"
          ],
          [
           2,
           "left",
           "yes"
          ],
          [
           2,
           "left",
           "yes"
          ],
          [
           2,
           "left",
           "yes"
          ],
          [
           3,
           "left",
           "no"
          ],
          [
           1,
           "left",
           "no"
          ],
          [
           1,
           "left",
           "no"
          ],
          [
           3,
           "right",
           "yes"
          ],
          [
           2,
           "right",
           "no"
          ],
          [
           2,
           "right",
           "no"
          ],
          [
           2,
           "right",
           "no"
          ],
          [
           2,
           "right",
           "no"
          ],
          [
           2,
           "right",
           "yes"
          ],
          [
           2,
           "left",
           "yes"
          ],
          [
           2,
           "right",
           "yes"
          ],
          [
           2,
           "right",
           "yes"
          ],
          [
           3,
           "right",
           "yes"
          ],
          [
           3,
           "right",
           "yes"
          ],
          [
           3,
           "right",
           "yes"
          ],
          [
           1,
           "right",
           "yes"
          ],
          [
           2,
           "right",
           "yes"
          ],
          [
           2,
           "right",
           "no"
          ],
          [
           3,
           "right",
           "yes"
          ],
          [
           2,
           "left",
           "yes"
          ],
          [
           2,
           "left",
           "no"
          ],
          [
           2,
           "right",
           "yes"
          ],
          [
           1,
           "right",
           "no"
          ],
          [
           2,
           "left",
           "yes"
          ],
          [
           1,
           "left",
           "no"
          ],
          [
           2,
           "left",
           "no"
          ],
          [
           1,
           "left",
           "no"
          ],
          [
           2,
           "left",
           "no"
          ],
          [
           2,
           "right",
           "no"
          ],
          [
           3,
           "left",
           "no"
          ],
          [
           1,
           "right",
           "no"
          ],
          [
           2,
           "left",
           "no"
          ],
          [
           3,
           "right",
           "no"
          ],
          [
           1,
           "right",
           "no"
          ],
          [
           2,
           "left",
           "no"
          ],
          [
           1,
           "right",
           "no"
          ],
          [
           3,
           "left",
           "no"
          ],
          [
           1,
           "right",
           "no"
          ],
          [
           3,
           "left",
           "yes"
          ],
          [
           3,
           "left",
           "no"
          ],
          [
           3,
           "right",
           "yes"
          ],
          [
           2,
           "right",
           "no"
          ],
          [
           2,
           "right",
           "no"
          ],
          [
           3,
           "right",
           "yes"
          ],
          [
           3,
           "left",
           "yes"
          ],
          [
           2,
           "right",
           "no"
          ],
          [
           3,
           "left",
           "no"
          ],
          [
           2,
           "right",
           "yes"
          ],
          [
           3,
           "left",
           "no"
          ],
          [
           3,
           "left",
           "yes"
          ],
          [
           2,
           "right",
           "yes"
          ],
          [
           3,
           "left",
           "yes"
          ],
          [
           2,
           "left",
           "no"
          ],
          [
           3,
           "left",
           "no"
          ],
          [
           2,
           "right",
           "yes"
          ],
          [
           1,
           "left",
           "no"
          ],
          [
           3,
           "right",
           "no"
          ],
          [
           3,
           "right",
           "no"
          ],
          [
           1,
           "left",
           "yes"
          ],
          [
           2,
           "left",
           "yes"
          ],
          [
           3,
           "left",
           "no"
          ],
          [
           2,
           "left",
           "no"
          ],
          [
           2,
           "left",
           "yes"
          ],
          [
           3,
           "right",
           "yes"
          ],
          [
           3,
           "right",
           "no"
          ],
          [
           3,
           "right",
           "no"
          ],
          [
           3,
           "left",
           "yes"
          ],
          [
           3,
           "right",
           "no"
          ],
          [
           2,
           "left",
           "no"
          ],
          [
           3,
           "left",
           "yes"
          ]
         ],
         "hovertemplate": "Menopause=premeno<br>Age Range=%{x}<br>Tumor Size=%{y}<br>Degree of malignancy=%{customdata[0]}<br>Breast=%{customdata[1]}<br>Irradiat=%{customdata[2]}<extra></extra>",
         "legendgroup": "premeno",
         "marker": {
          "color": "#636efa",
          "symbol": "circle"
         },
         "mode": "markers",
         "name": "premeno",
         "orientation": "v",
         "showlegend": true,
         "type": "scatter",
         "x": [
          "30-39",
          "40-49",
          "40-49",
          "40-49",
          "50-59",
          "40-49",
          "40-49",
          "40-49",
          "40-49",
          "40-49",
          "50-59",
          "30-39",
          "50-59",
          "50-59",
          "40-49",
          "50-59",
          "40-49",
          "50-59",
          "50-59",
          "30-39",
          "40-49",
          "40-49",
          "40-49",
          "40-49",
          "50-59",
          "40-49",
          "40-49",
          "30-39",
          "50-59",
          "40-49",
          "40-49",
          "20-29",
          "40-49",
          "40-49",
          "40-49",
          "40-49",
          "50-59",
          "30-39",
          "30-39",
          "40-49",
          "40-49",
          "40-49",
          "30-39",
          "50-59",
          "40-49",
          "40-49",
          "30-39",
          "50-59",
          "40-49",
          "40-49",
          "40-49",
          "40-49",
          "30-39",
          "40-49",
          "40-49",
          "30-39",
          "30-39",
          "30-39",
          "30-39",
          "50-59",
          "40-49",
          "40-49",
          "40-49",
          "40-49",
          "30-39",
          "30-39",
          "40-49",
          "30-39",
          "40-49",
          "50-59",
          "40-49",
          "40-49",
          "50-59",
          "30-39",
          "50-59",
          "40-49",
          "40-49",
          "40-49",
          "40-49",
          "40-49",
          "50-59",
          "30-39",
          "50-59",
          "40-49",
          "50-59",
          "40-49",
          "40-49",
          "40-49",
          "40-49",
          "40-49",
          "40-49",
          "40-49",
          "40-49",
          "30-39",
          "50-59",
          "50-59",
          "40-49",
          "50-59",
          "50-59",
          "40-49",
          "50-59",
          "30-39",
          "50-59",
          "40-49",
          "40-49",
          "40-49",
          "50-59",
          "40-49",
          "30-39",
          "40-49",
          "30-39",
          "30-39",
          "40-49",
          "50-59",
          "50-59",
          "40-49",
          "30-39",
          "50-59",
          "40-49",
          "30-39",
          "40-49",
          "40-49",
          "40-49",
          "30-39",
          "30-39",
          "30-39",
          "40-49",
          "40-49",
          "30-39",
          "40-49",
          "40-49",
          "40-49",
          "40-49",
          "30-39",
          "40-49",
          "40-49",
          "50-59",
          "40-49",
          "40-49",
          "30-39",
          "50-59",
          "30-39",
          "30-39"
         ],
         "xaxis": "x",
         "y": [
          "30-34",
          "20-24",
          "20-24",
          "0-4",
          "25-29",
          "50-54",
          "20-24",
          "0-4",
          "30-34",
          "15-19",
          "30-34",
          "25-29",
          "40-44",
          "35-39",
          "25-29",
          "20-24",
          "40-44",
          "15-19",
          "10-14",
          "30-34",
          "10-14",
          "30-34",
          "10-14",
          "25-29",
          "25-29",
          "20-24",
          "20-24",
          "20-24",
          "15-19",
          "20-24",
          "10-14",
          "35-39",
          "25-29",
          "10-14",
          "25-29",
          "25-29",
          "15-19",
          "5-9",
          "25-29",
          "25-29",
          "20-24",
          "40-44",
          "0-4",
          "10-14",
          "30-34",
          "30-34",
          "25-29",
          "25-29",
          "20-24",
          "10-14",
          "30-34",
          "20-24",
          "40-44",
          "30-34",
          "35-39",
          "15-19",
          "10-14",
          "30-34",
          "25-29",
          "25-29",
          "35-39",
          "35-39",
          "40-44",
          "30-34",
          "20-24",
          "40-44",
          "5-9",
          "40-44",
          "30-34",
          "20-24",
          "45-49",
          "25-29",
          "30-34",
          "20-24",
          "30-34",
          "35-39",
          "25-29",
          "30-34",
          "20-24",
          "20-24",
          "10-14",
          "20-24",
          "25-29",
          "30-34",
          "25-29",
          "20-24",
          "35-39",
          "35-39",
          "25-29",
          "20-24",
          "10-14",
          "15-19",
          "25-29",
          "10-14",
          "50-54",
          "10-14",
          "10-14",
          "25-29",
          "15-19",
          "40-44",
          "25-29",
          "0-4",
          "30-34",
          "35-39",
          "20-24",
          "30-34",
          "25-29",
          "15-19",
          "15-19",
          "25-29",
          "30-34",
          "25-29",
          "30-34",
          "30-34",
          "50-54",
          "30-34",
          "30-34",
          "25-29",
          "25-29",
          "35-39",
          "20-24",
          "15-19",
          "30-34",
          "30-34",
          "15-19",
          "20-24",
          "25-29",
          "50-54",
          "40-44",
          "30-34",
          "30-34",
          "30-34",
          "20-24",
          "35-39",
          "30-34",
          "25-29",
          "25-29",
          "15-19",
          "25-29",
          "25-29",
          "35-39",
          "30-34",
          "20-24"
         ],
         "yaxis": "y"
        },
        {
         "customdata": [
          [
           2,
           "right",
           "no"
          ],
          [
           2,
           "left",
           "no"
          ],
          [
           1,
           "left",
           "no"
          ],
          [
           2,
           "left",
           "no"
          ],
          [
           3,
           "left",
           "no"
          ],
          [
           3,
           "left",
           "no"
          ],
          [
           1,
           "right",
           "no"
          ],
          [
           2,
           "left",
           "no"
          ],
          [
           3,
           "right",
           "no"
          ],
          [
           2,
           "left",
           "no"
          ],
          [
           3,
           "right",
           "no"
          ],
          [
           1,
           "right",
           "no"
          ],
          [
           1,
           "left",
           "no"
          ],
          [
           2,
           "left",
           "no"
          ],
          [
           1,
           "right",
           "no"
          ],
          [
           1,
           "right",
           "no"
          ],
          [
           2,
           "left",
           "no"
          ],
          [
           1,
           "left",
           "no"
          ],
          [
           1,
           "right",
           "no"
          ],
          [
           1,
           "left",
           "no"
          ],
          [
           3,
           "left",
           "no"
          ],
          [
           1,
           "right",
           "no"
          ],
          [
           1,
           "right",
           "no"
          ],
          [
           1,
           "right",
           "no"
          ],
          [
           2,
           "right",
           "no"
          ],
          [
           1,
           "left",
           "no"
          ],
          [
           1,
           "right",
           "no"
          ],
          [
           1,
           "left",
           "no"
          ],
          [
           3,
           "left",
           "no"
          ],
          [
           3,
           "left",
           "no"
          ],
          [
           2,
           "left",
           "no"
          ],
          [
           1,
           "left",
           "no"
          ],
          [
           2,
           "left",
           "no"
          ],
          [
           1,
           "left",
           "no"
          ],
          [
           2,
           "left",
           "no"
          ],
          [
           2,
           "right",
           "no"
          ],
          [
           1,
           "left",
           "no"
          ],
          [
           2,
           "right",
           "no"
          ],
          [
           2,
           "right",
           "no"
          ],
          [
           3,
           "left",
           "no"
          ],
          [
           2,
           "right",
           "no"
          ],
          [
           1,
           "left",
           "no"
          ],
          [
           3,
           "right",
           "no"
          ],
          [
           2,
           "right",
           "no"
          ],
          [
           2,
           "right",
           "no"
          ],
          [
           2,
           "left",
           "no"
          ],
          [
           3,
           "left",
           "no"
          ],
          [
           3,
           "right",
           "no"
          ],
          [
           1,
           "right",
           "no"
          ],
          [
           1,
           "left",
           "no"
          ],
          [
           2,
           "right",
           "no"
          ],
          [
           3,
           "left",
           "no"
          ],
          [
           1,
           "left",
           "no"
          ],
          [
           2,
           "right",
           "no"
          ],
          [
           3,
           "left",
           "no"
          ],
          [
           1,
           "right",
           "no"
          ],
          [
           1,
           "right",
           "no"
          ],
          [
           2,
           "left",
           "no"
          ],
          [
           3,
           "left",
           "no"
          ],
          [
           2,
           "left",
           "yes"
          ],
          [
           2,
           "left",
           "no"
          ],
          [
           3,
           "left",
           "no"
          ],
          [
           2,
           "right",
           "yes"
          ],
          [
           3,
           "right",
           "no"
          ],
          [
           3,
           "left",
           "no"
          ],
          [
           3,
           "left",
           "no"
          ],
          [
           3,
           "right",
           "yes"
          ],
          [
           2,
           "right",
           "yes"
          ],
          [
           3,
           "right",
           "no"
          ],
          [
           1,
           "right",
           "no"
          ],
          [
           2,
           "right",
           "yes"
          ],
          [
           1,
           "right",
           "yes"
          ],
          [
           1,
           "right",
           "yes"
          ],
          [
           2,
           "right",
           "yes"
          ],
          [
           2,
           "left",
           "yes"
          ],
          [
           2,
           "right",
           "no"
          ],
          [
           2,
           "right",
           "no"
          ],
          [
           2,
           "left",
           "no"
          ],
          [
           2,
           "left",
           "no"
          ],
          [
           3,
           "left",
           "yes"
          ],
          [
           3,
           "left",
           "yes"
          ],
          [
           1,
           "left",
           "no"
          ],
          [
           2,
           "left",
           "yes"
          ],
          [
           2,
           "right",
           "no"
          ],
          [
           2,
           "left",
           "no"
          ],
          [
           2,
           "left",
           "no"
          ],
          [
           2,
           "left",
           "yes"
          ],
          [
           3,
           "right",
           "no"
          ],
          [
           2,
           "left",
           "no"
          ],
          [
           3,
           "left",
           "no"
          ],
          [
           2,
           "right",
           "no"
          ],
          [
           2,
           "right",
           "no"
          ],
          [
           2,
           "right",
           "no"
          ],
          [
           2,
           "left",
           "no"
          ],
          [
           3,
           "right",
           "no"
          ],
          [
           3,
           "left",
           "yes"
          ],
          [
           3,
           "right",
           "no"
          ],
          [
           3,
           "right",
           "yes"
          ],
          [
           3,
           "right",
           "no"
          ],
          [
           1,
           "right",
           "yes"
          ],
          [
           1,
           "left",
           "yes"
          ],
          [
           3,
           "right",
           "yes"
          ],
          [
           2,
           "left",
           "yes"
          ],
          [
           3,
           "left",
           "yes"
          ],
          [
           3,
           "right",
           "no"
          ],
          [
           3,
           "left",
           "yes"
          ],
          [
           3,
           "left",
           "no"
          ],
          [
           3,
           "right",
           "no"
          ],
          [
           2,
           "left",
           "yes"
          ],
          [
           3,
           "right",
           "no"
          ],
          [
           2,
           "right",
           "no"
          ],
          [
           3,
           "left",
           "yes"
          ],
          [
           3,
           "left",
           "no"
          ],
          [
           3,
           "left",
           "yes"
          ],
          [
           3,
           "left",
           "no"
          ],
          [
           2,
           "right",
           "yes"
          ],
          [
           2,
           "left",
           "yes"
          ],
          [
           3,
           "left",
           "yes"
          ],
          [
           3,
           "left",
           "yes"
          ],
          [
           1,
           "right",
           "no"
          ],
          [
           3,
           "left",
           "no"
          ],
          [
           3,
           "left",
           "no"
          ]
         ],
         "hovertemplate": "Menopause=ge40<br>Age Range=%{x}<br>Tumor Size=%{y}<br>Degree of malignancy=%{customdata[0]}<br>Breast=%{customdata[1]}<br>Irradiat=%{customdata[2]}<extra></extra>",
         "legendgroup": "ge40",
         "marker": {
          "color": "#EF553B",
          "symbol": "circle"
         },
         "mode": "markers",
         "name": "ge40",
         "orientation": "v",
         "showlegend": true,
         "type": "scatter",
         "x": [
          "60-69",
          "60-69",
          "60-69",
          "50-59",
          "50-59",
          "60-69",
          "50-59",
          "50-59",
          "60-69",
          "60-69",
          "50-59",
          "50-59",
          "50-59",
          "50-59",
          "50-59",
          "50-59",
          "60-69",
          "60-69",
          "50-59",
          "50-59",
          "70-79",
          "70-79",
          "70-79",
          "50-59",
          "50-59",
          "60-69",
          "60-69",
          "50-59",
          "50-59",
          "50-59",
          "60-69",
          "60-69",
          "60-69",
          "50-59",
          "50-59",
          "50-59",
          "60-69",
          "60-69",
          "50-59",
          "50-59",
          "60-69",
          "70-79",
          "50-59",
          "50-59",
          "60-69",
          "60-69",
          "40-49",
          "50-59",
          "60-69",
          "50-59",
          "50-59",
          "40-49",
          "60-69",
          "50-59",
          "50-59",
          "50-59",
          "60-69",
          "70-79",
          "50-59",
          "60-69",
          "50-59",
          "60-69",
          "60-69",
          "50-59",
          "60-69",
          "50-59",
          "60-69",
          "60-69",
          "50-59",
          "50-59",
          "60-69",
          "60-69",
          "60-69",
          "40-49",
          "40-49",
          "60-69",
          "50-59",
          "40-49",
          "60-69",
          "50-59",
          "50-59",
          "50-59",
          "60-69",
          "50-59",
          "50-59",
          "50-59",
          "50-59",
          "60-69",
          "50-59",
          "50-59",
          "50-59",
          "60-69",
          "40-49",
          "50-59",
          "60-69",
          "60-69",
          "60-69",
          "40-49",
          "60-69",
          "60-69",
          "70-79",
          "60-69",
          "60-69",
          "50-59",
          "50-59",
          "50-59",
          "60-69",
          "60-69",
          "50-59",
          "50-59",
          "60-69",
          "40-49",
          "60-69",
          "60-69",
          "50-59",
          "60-69",
          "60-69",
          "60-69",
          "50-59",
          "60-69",
          "40-49",
          "50-59"
         ],
         "xaxis": "x",
         "y": [
          "15-19",
          "15-19",
          "20-24",
          "25-29",
          "25-29",
          "30-34",
          "30-34",
          "40-44",
          "25-29",
          "30-34",
          "40-44",
          "10-14",
          "10-14",
          "0-4",
          "15-19",
          "20-24",
          "25-29",
          "5-9",
          "50-54",
          "30-34",
          "20-24",
          "40-44",
          "40-44",
          "0-4",
          "5-9",
          "30-34",
          "15-19",
          "0-4",
          "20-24",
          "35-39",
          "50-54",
          "10-14",
          "20-24",
          "10-14",
          "10-14",
          "10-14",
          "10-14",
          "15-19",
          "15-19",
          "35-39",
          "25-29",
          "0-4",
          "20-24",
          "25-29",
          "20-24",
          "30-34",
          "20-24",
          "30-34",
          "30-34",
          "25-29",
          "20-24",
          "20-24",
          "15-19",
          "15-19",
          "40-44",
          "30-34",
          "10-14",
          "10-14",
          "40-44",
          "30-34",
          "40-44",
          "45-49",
          "50-54",
          "25-29",
          "30-34",
          "35-39",
          "15-19",
          "40-44",
          "25-29",
          "30-34",
          "10-14",
          "25-29",
          "25-29",
          "40-44",
          "30-34",
          "30-34",
          "20-24",
          "25-29",
          "10-14",
          "30-34",
          "30-34",
          "25-29",
          "15-19",
          "20-24",
          "30-34",
          "35-39",
          "15-19",
          "25-29",
          "35-39",
          "30-34",
          "20-24",
          "40-44",
          "20-24",
          "20-24",
          "30-34",
          "25-29",
          "20-24",
          "20-24",
          "40-44",
          "45-49",
          "15-19",
          "30-34",
          "20-24",
          "25-29",
          "20-24",
          "30-34",
          "35-39",
          "50-54",
          "30-34",
          "30-34",
          "25-29",
          "25-29",
          "25-29",
          "20-24",
          "30-34",
          "30-34",
          "30-34",
          "10-14",
          "40-44",
          "20-24",
          "30-34",
          "30-34"
         ],
         "yaxis": "y"
        },
        {
         "customdata": [
          [
           1,
           "left",
           "no"
          ],
          [
           1,
           "left",
           "no"
          ],
          [
           2,
           "left",
           "no"
          ],
          [
           3,
           "right",
           "no"
          ],
          [
           3,
           "right",
           "no"
          ],
          [
           1,
           "left",
           "no"
          ],
          [
           1,
           "left",
           "no"
          ]
         ],
         "hovertemplate": "Menopause=lt40<br>Age Range=%{x}<br>Tumor Size=%{y}<br>Degree of malignancy=%{customdata[0]}<br>Breast=%{customdata[1]}<br>Irradiat=%{customdata[2]}<extra></extra>",
         "legendgroup": "lt40",
         "marker": {
          "color": "#00cc96",
          "symbol": "circle"
         },
         "mode": "markers",
         "name": "lt40",
         "orientation": "v",
         "showlegend": true,
         "type": "scatter",
         "x": [
          "60-69",
          "60-69",
          "50-59",
          "50-59",
          "30-39",
          "50-59",
          "50-59"
         ],
         "xaxis": "x",
         "y": [
          "10-14",
          "30-34",
          "15-19",
          "30-34",
          "15-19",
          "20-24",
          "20-24"
         ],
         "yaxis": "y"
        }
       ],
       "layout": {
        "autosize": true,
        "legend": {
         "title": {
          "text": "Menopause"
         },
         "tracegroupgap": 0
        },
        "template": {
         "data": {
          "bar": [
           {
            "error_x": {
             "color": "#2a3f5f"
            },
            "error_y": {
             "color": "#2a3f5f"
            },
            "marker": {
             "line": {
              "color": "#E5ECF6",
              "width": 0.5
             },
             "pattern": {
              "fillmode": "overlay",
              "size": 10,
              "solidity": 0.2
             }
            },
            "type": "bar"
           }
          ],
          "barpolar": [
           {
            "marker": {
             "line": {
              "color": "#E5ECF6",
              "width": 0.5
             },
             "pattern": {
              "fillmode": "overlay",
              "size": 10,
              "solidity": 0.2
             }
            },
            "type": "barpolar"
           }
          ],
          "carpet": [
           {
            "aaxis": {
             "endlinecolor": "#2a3f5f",
             "gridcolor": "white",
             "linecolor": "white",
             "minorgridcolor": "white",
             "startlinecolor": "#2a3f5f"
            },
            "baxis": {
             "endlinecolor": "#2a3f5f",
             "gridcolor": "white",
             "linecolor": "white",
             "minorgridcolor": "white",
             "startlinecolor": "#2a3f5f"
            },
            "type": "carpet"
           }
          ],
          "choropleth": [
           {
            "colorbar": {
             "outlinewidth": 0,
             "ticks": ""
            },
            "type": "choropleth"
           }
          ],
          "contour": [
           {
            "colorbar": {
             "outlinewidth": 0,
             "ticks": ""
            },
            "colorscale": [
             [
              0,
              "#0d0887"
             ],
             [
              0.1111111111111111,
              "#46039f"
             ],
             [
              0.2222222222222222,
              "#7201a8"
             ],
             [
              0.3333333333333333,
              "#9c179e"
             ],
             [
              0.4444444444444444,
              "#bd3786"
             ],
             [
              0.5555555555555556,
              "#d8576b"
             ],
             [
              0.6666666666666666,
              "#ed7953"
             ],
             [
              0.7777777777777778,
              "#fb9f3a"
             ],
             [
              0.8888888888888888,
              "#fdca26"
             ],
             [
              1,
              "#f0f921"
             ]
            ],
            "type": "contour"
           }
          ],
          "contourcarpet": [
           {
            "colorbar": {
             "outlinewidth": 0,
             "ticks": ""
            },
            "type": "contourcarpet"
           }
          ],
          "heatmap": [
           {
            "colorbar": {
             "outlinewidth": 0,
             "ticks": ""
            },
            "colorscale": [
             [
              0,
              "#0d0887"
             ],
             [
              0.1111111111111111,
              "#46039f"
             ],
             [
              0.2222222222222222,
              "#7201a8"
             ],
             [
              0.3333333333333333,
              "#9c179e"
             ],
             [
              0.4444444444444444,
              "#bd3786"
             ],
             [
              0.5555555555555556,
              "#d8576b"
             ],
             [
              0.6666666666666666,
              "#ed7953"
             ],
             [
              0.7777777777777778,
              "#fb9f3a"
             ],
             [
              0.8888888888888888,
              "#fdca26"
             ],
             [
              1,
              "#f0f921"
             ]
            ],
            "type": "heatmap"
           }
          ],
          "heatmapgl": [
           {
            "colorbar": {
             "outlinewidth": 0,
             "ticks": ""
            },
            "colorscale": [
             [
              0,
              "#0d0887"
             ],
             [
              0.1111111111111111,
              "#46039f"
             ],
             [
              0.2222222222222222,
              "#7201a8"
             ],
             [
              0.3333333333333333,
              "#9c179e"
             ],
             [
              0.4444444444444444,
              "#bd3786"
             ],
             [
              0.5555555555555556,
              "#d8576b"
             ],
             [
              0.6666666666666666,
              "#ed7953"
             ],
             [
              0.7777777777777778,
              "#fb9f3a"
             ],
             [
              0.8888888888888888,
              "#fdca26"
             ],
             [
              1,
              "#f0f921"
             ]
            ],
            "type": "heatmapgl"
           }
          ],
          "histogram": [
           {
            "marker": {
             "pattern": {
              "fillmode": "overlay",
              "size": 10,
              "solidity": 0.2
             }
            },
            "type": "histogram"
           }
          ],
          "histogram2d": [
           {
            "colorbar": {
             "outlinewidth": 0,
             "ticks": ""
            },
            "colorscale": [
             [
              0,
              "#0d0887"
             ],
             [
              0.1111111111111111,
              "#46039f"
             ],
             [
              0.2222222222222222,
              "#7201a8"
             ],
             [
              0.3333333333333333,
              "#9c179e"
             ],
             [
              0.4444444444444444,
              "#bd3786"
             ],
             [
              0.5555555555555556,
              "#d8576b"
             ],
             [
              0.6666666666666666,
              "#ed7953"
             ],
             [
              0.7777777777777778,
              "#fb9f3a"
             ],
             [
              0.8888888888888888,
              "#fdca26"
             ],
             [
              1,
              "#f0f921"
             ]
            ],
            "type": "histogram2d"
           }
          ],
          "histogram2dcontour": [
           {
            "colorbar": {
             "outlinewidth": 0,
             "ticks": ""
            },
            "colorscale": [
             [
              0,
              "#0d0887"
             ],
             [
              0.1111111111111111,
              "#46039f"
             ],
             [
              0.2222222222222222,
              "#7201a8"
             ],
             [
              0.3333333333333333,
              "#9c179e"
             ],
             [
              0.4444444444444444,
              "#bd3786"
             ],
             [
              0.5555555555555556,
              "#d8576b"
             ],
             [
              0.6666666666666666,
              "#ed7953"
             ],
             [
              0.7777777777777778,
              "#fb9f3a"
             ],
             [
              0.8888888888888888,
              "#fdca26"
             ],
             [
              1,
              "#f0f921"
             ]
            ],
            "type": "histogram2dcontour"
           }
          ],
          "mesh3d": [
           {
            "colorbar": {
             "outlinewidth": 0,
             "ticks": ""
            },
            "type": "mesh3d"
           }
          ],
          "parcoords": [
           {
            "line": {
             "colorbar": {
              "outlinewidth": 0,
              "ticks": ""
             }
            },
            "type": "parcoords"
           }
          ],
          "pie": [
           {
            "automargin": true,
            "type": "pie"
           }
          ],
          "scatter": [
           {
            "fillpattern": {
             "fillmode": "overlay",
             "size": 10,
             "solidity": 0.2
            },
            "type": "scatter"
           }
          ],
          "scatter3d": [
           {
            "line": {
             "colorbar": {
              "outlinewidth": 0,
              "ticks": ""
             }
            },
            "marker": {
             "colorbar": {
              "outlinewidth": 0,
              "ticks": ""
             }
            },
            "type": "scatter3d"
           }
          ],
          "scattercarpet": [
           {
            "marker": {
             "colorbar": {
              "outlinewidth": 0,
              "ticks": ""
             }
            },
            "type": "scattercarpet"
           }
          ],
          "scattergeo": [
           {
            "marker": {
             "colorbar": {
              "outlinewidth": 0,
              "ticks": ""
             }
            },
            "type": "scattergeo"
           }
          ],
          "scattergl": [
           {
            "marker": {
             "colorbar": {
              "outlinewidth": 0,
              "ticks": ""
             }
            },
            "type": "scattergl"
           }
          ],
          "scattermapbox": [
           {
            "marker": {
             "colorbar": {
              "outlinewidth": 0,
              "ticks": ""
             }
            },
            "type": "scattermapbox"
           }
          ],
          "scatterpolar": [
           {
            "marker": {
             "colorbar": {
              "outlinewidth": 0,
              "ticks": ""
             }
            },
            "type": "scatterpolar"
           }
          ],
          "scatterpolargl": [
           {
            "marker": {
             "colorbar": {
              "outlinewidth": 0,
              "ticks": ""
             }
            },
            "type": "scatterpolargl"
           }
          ],
          "scatterternary": [
           {
            "marker": {
             "colorbar": {
              "outlinewidth": 0,
              "ticks": ""
             }
            },
            "type": "scatterternary"
           }
          ],
          "surface": [
           {
            "colorbar": {
             "outlinewidth": 0,
             "ticks": ""
            },
            "colorscale": [
             [
              0,
              "#0d0887"
             ],
             [
              0.1111111111111111,
              "#46039f"
             ],
             [
              0.2222222222222222,
              "#7201a8"
             ],
             [
              0.3333333333333333,
              "#9c179e"
             ],
             [
              0.4444444444444444,
              "#bd3786"
             ],
             [
              0.5555555555555556,
              "#d8576b"
             ],
             [
              0.6666666666666666,
              "#ed7953"
             ],
             [
              0.7777777777777778,
              "#fb9f3a"
             ],
             [
              0.8888888888888888,
              "#fdca26"
             ],
             [
              1,
              "#f0f921"
             ]
            ],
            "type": "surface"
           }
          ],
          "table": [
           {
            "cells": {
             "fill": {
              "color": "#EBF0F8"
             },
             "line": {
              "color": "white"
             }
            },
            "header": {
             "fill": {
              "color": "#C8D4E3"
             },
             "line": {
              "color": "white"
             }
            },
            "type": "table"
           }
          ]
         },
         "layout": {
          "annotationdefaults": {
           "arrowcolor": "#2a3f5f",
           "arrowhead": 0,
           "arrowwidth": 1
          },
          "autotypenumbers": "strict",
          "coloraxis": {
           "colorbar": {
            "outlinewidth": 0,
            "ticks": ""
           }
          },
          "colorscale": {
           "diverging": [
            [
             0,
             "#8e0152"
            ],
            [
             0.1,
             "#c51b7d"
            ],
            [
             0.2,
             "#de77ae"
            ],
            [
             0.3,
             "#f1b6da"
            ],
            [
             0.4,
             "#fde0ef"
            ],
            [
             0.5,
             "#f7f7f7"
            ],
            [
             0.6,
             "#e6f5d0"
            ],
            [
             0.7,
             "#b8e186"
            ],
            [
             0.8,
             "#7fbc41"
            ],
            [
             0.9,
             "#4d9221"
            ],
            [
             1,
             "#276419"
            ]
           ],
           "sequential": [
            [
             0,
             "#0d0887"
            ],
            [
             0.1111111111111111,
             "#46039f"
            ],
            [
             0.2222222222222222,
             "#7201a8"
            ],
            [
             0.3333333333333333,
             "#9c179e"
            ],
            [
             0.4444444444444444,
             "#bd3786"
            ],
            [
             0.5555555555555556,
             "#d8576b"
            ],
            [
             0.6666666666666666,
             "#ed7953"
            ],
            [
             0.7777777777777778,
             "#fb9f3a"
            ],
            [
             0.8888888888888888,
             "#fdca26"
            ],
            [
             1,
             "#f0f921"
            ]
           ],
           "sequentialminus": [
            [
             0,
             "#0d0887"
            ],
            [
             0.1111111111111111,
             "#46039f"
            ],
            [
             0.2222222222222222,
             "#7201a8"
            ],
            [
             0.3333333333333333,
             "#9c179e"
            ],
            [
             0.4444444444444444,
             "#bd3786"
            ],
            [
             0.5555555555555556,
             "#d8576b"
            ],
            [
             0.6666666666666666,
             "#ed7953"
            ],
            [
             0.7777777777777778,
             "#fb9f3a"
            ],
            [
             0.8888888888888888,
             "#fdca26"
            ],
            [
             1,
             "#f0f921"
            ]
           ]
          },
          "colorway": [
           "#636efa",
           "#EF553B",
           "#00cc96",
           "#ab63fa",
           "#FFA15A",
           "#19d3f3",
           "#FF6692",
           "#B6E880",
           "#FF97FF",
           "#FECB52"
          ],
          "font": {
           "color": "#2a3f5f"
          },
          "geo": {
           "bgcolor": "white",
           "lakecolor": "white",
           "landcolor": "#E5ECF6",
           "showlakes": true,
           "showland": true,
           "subunitcolor": "white"
          },
          "hoverlabel": {
           "align": "left"
          },
          "hovermode": "closest",
          "mapbox": {
           "style": "light"
          },
          "paper_bgcolor": "white",
          "plot_bgcolor": "#E5ECF6",
          "polar": {
           "angularaxis": {
            "gridcolor": "white",
            "linecolor": "white",
            "ticks": ""
           },
           "bgcolor": "#E5ECF6",
           "radialaxis": {
            "gridcolor": "white",
            "linecolor": "white",
            "ticks": ""
           }
          },
          "scene": {
           "xaxis": {
            "backgroundcolor": "#E5ECF6",
            "gridcolor": "white",
            "gridwidth": 2,
            "linecolor": "white",
            "showbackground": true,
            "ticks": "",
            "zerolinecolor": "white"
           },
           "yaxis": {
            "backgroundcolor": "#E5ECF6",
            "gridcolor": "white",
            "gridwidth": 2,
            "linecolor": "white",
            "showbackground": true,
            "ticks": "",
            "zerolinecolor": "white"
           },
           "zaxis": {
            "backgroundcolor": "#E5ECF6",
            "gridcolor": "white",
            "gridwidth": 2,
            "linecolor": "white",
            "showbackground": true,
            "ticks": "",
            "zerolinecolor": "white"
           }
          },
          "shapedefaults": {
           "line": {
            "color": "#2a3f5f"
           }
          },
          "ternary": {
           "aaxis": {
            "gridcolor": "white",
            "linecolor": "white",
            "ticks": ""
           },
           "baxis": {
            "gridcolor": "white",
            "linecolor": "white",
            "ticks": ""
           },
           "bgcolor": "#E5ECF6",
           "caxis": {
            "gridcolor": "white",
            "linecolor": "white",
            "ticks": ""
           }
          },
          "title": {
           "x": 0.05
          },
          "xaxis": {
           "automargin": true,
           "gridcolor": "white",
           "linecolor": "white",
           "ticks": "",
           "title": {
            "standoff": 15
           },
           "zerolinecolor": "white",
           "zerolinewidth": 2
          },
          "yaxis": {
           "automargin": true,
           "gridcolor": "white",
           "linecolor": "white",
           "ticks": "",
           "title": {
            "standoff": 15
           },
           "zerolinecolor": "white",
           "zerolinewidth": 2
          }
         }
        },
        "title": {
         "text": "Tumor Size vs Age Range Grouped by Menopause Status"
        },
        "xaxis": {
         "anchor": "y",
         "autorange": true,
         "domain": [
          0,
          1
         ],
         "range": [
          -0.3039733433924306,
          5.303973343392431
         ],
         "title": {
          "text": "Age Range"
         },
         "type": "category"
        },
        "yaxis": {
         "anchor": "x",
         "autorange": true,
         "domain": [
          0,
          1
         ],
         "range": [
          -0.8252427184466019,
          10.825242718446601
         ],
         "title": {
          "text": "Tumor Size"
         },
         "type": "category"
        }
       }
      },
      "image/png": "[encoded data removed]",
      "text/html": [
       "<div>                            <div id=\"6a43f01e-87cf-439a-9171-3e38a81f7f37\" class=\"plotly-graph-div\" style=\"height:525px; width:100%;\"></div>            <script type=\"text/javascript\">                require([\"plotly\"], function(Plotly) {                    window.PLOTLYENV=window.PLOTLYENV || {};                                    if (document.getElementById(\"6a43f01e-87cf-439a-9171-3e38a81f7f37\")) {                    Plotly.newPlot(                        \"6a43f01e-87cf-439a-9171-3e38a81f7f37\",                        [{\"customdata\":[[3,\"left\",\"no\"],[2,\"right\",\"no\"],[2,\"left\",\"no\"],[2,\"right\",\"no\"],[2,\"left\",\"no\"],[2,\"left\",\"no\"],[2,\"right\",\"no\"],[3,\"left\",\"no\"],[3,\"left\",\"no\"],[2,\"left\",\"no\"],[3,\"left\",\"no\"],[2,\"right\",\"no\"],[2,\"left\",\"no\"],[2,\"right\",\"no\"],[2,\"left\",\"no\"],[1,\"left\",\"no\"],[2,\"right\",\"no\"],[2,\"right\",\"no\"],[3,\"left\",\"no\"],[2,\"left\",\"no\"],[2,\"left\",\"no\"],[1,\"left\",\"no\"],[2,\"left\",\"no\"],[2,\"right\",\"no\"],[1,\"right\",\"no\"],[1,\"right\",\"no\"],[1,\"right\",\"no\"],[2,\"left\",\"no\"],[1,\"left\",\"no\"],[2,\"left\",\"no\"],[1,\"right\",\"no\"],[2,\"right\",\"no\"],[1,\"left\",\"no\"],[1,\"right\",\"no\"],[1,\"right\",\"no\"],[2,\"right\",\"no\"],[2,\"right\",\"no\"],[2,\"left\",\"no\"],[1,\"left\",\"no\"],[2,\"right\",\"no\"],[1,\"left\",\"no\"],[1,\"right\",\"no\"],[2,\"right\",\"no\"],[1,\"left\",\"no\"],[2,\"right\",\"no\"],[1,\"left\",\"no\"],[2,\"left\",\"no\"],[2,\"right\",\"no\"],[2,\"left\",\"no\"],[2,\"right\",\"no\"],[1,\"right\",\"no\"],[2,\"left\",\"no\"],[2,\"right\",\"no\"],[3,\"right\",\"no\"],[2,\"right\",\"no\"],[1,\"left\",\"no\"],[1,\"right\",\"no\"],[2,\"right\",\"no\"],[2,\"right\",\"yes\"],[2,\"left\",\"no\"],[2,\"right\",\"yes\"],[2,\"right\",\"yes\"],[3,\"right\",\"yes\"],[2,\"left\",\"no\"],[2,\"right\",\"no\"],[3,\"right\",\"yes\"],[1,\"left\",\"yes\"],[2,\"left\",\"yes\"],[2,\"left\",\"no\"],[2,\"left\",\"no\"],[2,\"left\",\"yes\"],[2,\"left\",\"yes\"],[2,\"left\",\"yes\"],[3,\"left\",\"no\"],[1,\"left\",\"no\"],[1,\"left\",\"no\"],[3,\"right\",\"yes\"],[2,\"right\",\"no\"],[2,\"right\",\"no\"],[2,\"right\",\"no\"],[2,\"right\",\"no\"],[2,\"right\",\"yes\"],[2,\"left\",\"yes\"],[2,\"right\",\"yes\"],[2,\"right\",\"yes\"],[3,\"right\",\"yes\"],[3,\"right\",\"yes\"],[3,\"right\",\"yes\"],[1,\"right\",\"yes\"],[2,\"right\",\"yes\"],[2,\"right\",\"no\"],[3,\"right\",\"yes\"],[2,\"left\",\"yes\"],[2,\"left\",\"no\"],[2,\"right\",\"yes\"],[1,\"right\",\"no\"],[2,\"left\",\"yes\"],[1,\"left\",\"no\"],[2,\"left\",\"no\"],[1,\"left\",\"no\"],[2,\"left\",\"no\"],[2,\"right\",\"no\"],[3,\"left\",\"no\"],[1,\"right\",\"no\"],[2,\"left\",\"no\"],[3,\"right\",\"no\"],[1,\"right\",\"no\"],[2,\"left\",\"no\"],[1,\"right\",\"no\"],[3,\"left\",\"no\"],[1,\"right\",\"no\"],[3,\"left\",\"yes\"],[3,\"left\",\"no\"],[3,\"right\",\"yes\"],[2,\"right\",\"no\"],[2,\"right\",\"no\"],[3,\"right\",\"yes\"],[3,\"left\",\"yes\"],[2,\"right\",\"no\"],[3,\"left\",\"no\"],[2,\"right\",\"yes\"],[3,\"left\",\"no\"],[3,\"left\",\"yes\"],[2,\"right\",\"yes\"],[3,\"left\",\"yes\"],[2,\"left\",\"no\"],[3,\"left\",\"no\"],[2,\"right\",\"yes\"],[1,\"left\",\"no\"],[3,\"right\",\"no\"],[3,\"right\",\"no\"],[1,\"left\",\"yes\"],[2,\"left\",\"yes\"],[3,\"left\",\"no\"],[2,\"left\",\"no\"],[2,\"left\",\"yes\"],[3,\"right\",\"yes\"],[3,\"right\",\"no\"],[3,\"right\",\"no\"],[3,\"left\",\"yes\"],[3,\"right\",\"no\"],[2,\"left\",\"no\"],[3,\"left\",\"yes\"]],\"hovertemplate\":\"Menopause=premeno\\u003cbr\\u003eAge Range=%{x}\\u003cbr\\u003eTumor Size=%{y}\\u003cbr\\u003eDegree of malignancy=%{customdata[0]}\\u003cbr\\u003eBreast=%{customdata[1]}\\u003cbr\\u003eIrradiat=%{customdata[2]}\\u003cextra\\u003e\\u003c\\u002fextra\\u003e\",\"legendgroup\":\"premeno\",\"marker\":{\"color\":\"#636efa\",\"symbol\":\"circle\"},\"mode\":\"markers\",\"name\":\"premeno\",\"orientation\":\"v\",\"showlegend\":true,\"x\":[\"30-39\",\"40-49\",\"40-49\",\"40-49\",\"50-59\",\"40-49\",\"40-49\",\"40-49\",\"40-49\",\"40-49\",\"50-59\",\"30-39\",\"50-59\",\"50-59\",\"40-49\",\"50-59\",\"40-49\",\"50-59\",\"50-59\",\"30-39\",\"40-49\",\"40-49\",\"40-49\",\"40-49\",\"50-59\",\"40-49\",\"40-49\",\"30-39\",\"50-59\",\"40-49\",\"40-49\",\"20-29\",\"40-49\",\"40-49\",\"40-49\",\"40-49\",\"50-59\",\"30-39\",\"30-39\",\"40-49\",\"40-49\",\"40-49\",\"30-39\",\"50-59\",\"40-49\",\"40-49\",\"30-39\",\"50-59\",\"40-49\",\"40-49\",\"40-49\",\"40-49\",\"30-39\",\"40-49\",\"40-49\",\"30-39\",\"30-39\",\"30-39\",\"30-39\",\"50-59\",\"40-49\",\"40-49\",\"40-49\",\"40-49\",\"30-39\",\"30-39\",\"40-49\",\"30-39\",\"40-49\",\"50-59\",\"40-49\",\"40-49\",\"50-59\",\"30-39\",\"50-59\",\"40-49\",\"40-49\",\"40-49\",\"40-49\",\"40-49\",\"50-59\",\"30-39\",\"50-59\",\"40-49\",\"50-59\",\"40-49\",\"40-49\",\"40-49\",\"40-49\",\"40-49\",\"40-49\",\"40-49\",\"40-49\",\"30-39\",\"50-59\",\"50-59\",\"40-49\",\"50-59\",\"50-59\",\"40-49\",\"50-59\",\"30-39\",\"50-59\",\"40-49\",\"40-49\",\"40-49\",\"50-59\",\"40-49\",\"30-39\",\"40-49\",\"30-39\",\"30-39\",\"40-49\",\"50-59\",\"50-59\",\"40-49\",\"30-39\",\"50-59\",\"40-49\",\"30-39\",\"40-49\",\"40-49\",\"40-49\",\"30-39\",\"30-39\",\"30-39\",\"40-49\",\"40-49\",\"30-39\",\"40-49\",\"40-49\",\"40-49\",\"40-49\",\"30-39\",\"40-49\",\"40-49\",\"50-59\",\"40-49\",\"40-49\",\"30-39\",\"50-59\",\"30-39\",\"30-39\"],\"xaxis\":\"x\",\"y\":[\"30-34\",\"20-24\",\"20-24\",\"0-4\",\"25-29\",\"50-54\",\"20-24\",\"0-4\",\"30-34\",\"15-19\",\"30-34\",\"25-29\",\"40-44\",\"35-39\",\"25-29\",\"20-24\",\"40-44\",\"15-19\",\"10-14\",\"30-34\",\"10-14\",\"30-34\",\"10-14\",\"25-29\",\"25-29\",\"20-24\",\"20-24\",\"20-24\",\"15-19\",\"20-24\",\"10-14\",\"35-39\",\"25-29\",\"10-14\",\"25-29\",\"25-29\",\"15-19\",\"5-9\",\"25-29\",\"25-29\",\"20-24\",\"40-44\",\"0-4\",\"10-14\",\"30-34\",\"30-34\",\"25-29\",\"25-29\",\"20-24\",\"10-14\",\"30-34\",\"20-24\",\"40-44\",\"30-34\",\"35-39\",\"15-19\",\"10-14\",\"30-34\",\"25-29\",\"25-29\",\"35-39\",\"35-39\",\"40-44\",\"30-34\",\"20-24\",\"40-44\",\"5-9\",\"40-44\",\"30-34\",\"20-24\",\"45-49\",\"25-29\",\"30-34\",\"20-24\",\"30-34\",\"35-39\",\"25-29\",\"30-34\",\"20-24\",\"20-24\",\"10-14\",\"20-24\",\"25-29\",\"30-34\",\"25-29\",\"20-24\",\"35-39\",\"35-39\",\"25-29\",\"20-24\",\"10-14\",\"15-19\",\"25-29\",\"10-14\",\"50-54\",\"10-14\",\"10-14\",\"25-29\",\"15-19\",\"40-44\",\"25-29\",\"0-4\",\"30-34\",\"35-39\",\"20-24\",\"30-34\",\"25-29\",\"15-19\",\"15-19\",\"25-29\",\"30-34\",\"25-29\",\"30-34\",\"30-34\",\"50-54\",\"30-34\",\"30-34\",\"25-29\",\"25-29\",\"35-39\",\"20-24\",\"15-19\",\"30-34\",\"30-34\",\"15-19\",\"20-24\",\"25-29\",\"50-54\",\"40-44\",\"30-34\",\"30-34\",\"30-34\",\"20-24\",\"35-39\",\"30-34\",\"25-29\",\"25-29\",\"15-19\",\"25-29\",\"25-29\",\"35-39\",\"30-34\",\"20-24\"],\"yaxis\":\"y\",\"type\":\"scatter\"},{\"customdata\":[[2,\"right\",\"no\"],[2,\"left\",\"no\"],[1,\"left\",\"no\"],[2,\"left\",\"no\"],[3,\"left\",\"no\"],[3,\"left\",\"no\"],[1,\"right\",\"no\"],[2,\"left\",\"no\"],[3,\"right\",\"no\"],[2,\"left\",\"no\"],[3,\"right\",\"no\"],[1,\"right\",\"no\"],[1,\"left\",\"no\"],[2,\"left\",\"no\"],[1,\"right\",\"no\"],[1,\"right\",\"no\"],[2,\"left\",\"no\"],[1,\"left\",\"no\"],[1,\"right\",\"no\"],[1,\"left\",\"no\"],[3,\"left\",\"no\"],[1,\"right\",\"no\"],[1,\"right\",\"no\"],[1,\"right\",\"no\"],[2,\"right\",\"no\"],[1,\"left\",\"no\"],[1,\"right\",\"no\"],[1,\"left\",\"no\"],[3,\"left\",\"no\"],[3,\"left\",\"no\"],[2,\"left\",\"no\"],[1,\"left\",\"no\"],[2,\"left\",\"no\"],[1,\"left\",\"no\"],[2,\"left\",\"no\"],[2,\"right\",\"no\"],[1,\"left\",\"no\"],[2,\"right\",\"no\"],[2,\"right\",\"no\"],[3,\"left\",\"no\"],[2,\"right\",\"no\"],[1,\"left\",\"no\"],[3,\"right\",\"no\"],[2,\"right\",\"no\"],[2,\"right\",\"no\"],[2,\"left\",\"no\"],[3,\"left\",\"no\"],[3,\"right\",\"no\"],[1,\"right\",\"no\"],[1,\"left\",\"no\"],[2,\"right\",\"no\"],[3,\"left\",\"no\"],[1,\"left\",\"no\"],[2,\"right\",\"no\"],[3,\"left\",\"no\"],[1,\"right\",\"no\"],[1,\"right\",\"no\"],[2,\"left\",\"no\"],[3,\"left\",\"no\"],[2,\"left\",\"yes\"],[2,\"left\",\"no\"],[3,\"left\",\"no\"],[2,\"right\",\"yes\"],[3,\"right\",\"no\"],[3,\"left\",\"no\"],[3,\"left\",\"no\"],[3,\"right\",\"yes\"],[2,\"right\",\"yes\"],[3,\"right\",\"no\"],[1,\"right\",\"no\"],[2,\"right\",\"yes\"],[1,\"right\",\"yes\"],[1,\"right\",\"yes\"],[2,\"right\",\"yes\"],[2,\"left\",\"yes\"],[2,\"right\",\"no\"],[2,\"right\",\"no\"],[2,\"left\",\"no\"],[2,\"left\",\"no\"],[3,\"left\",\"yes\"],[3,\"left\",\"yes\"],[1,\"left\",\"no\"],[2,\"left\",\"yes\"],[2,\"right\",\"no\"],[2,\"left\",\"no\"],[2,\"left\",\"no\"],[2,\"left\",\"yes\"],[3,\"right\",\"no\"],[2,\"left\",\"no\"],[3,\"left\",\"no\"],[2,\"right\",\"no\"],[2,\"right\",\"no\"],[2,\"right\",\"no\"],[2,\"left\",\"no\"],[3,\"right\",\"no\"],[3,\"left\",\"yes\"],[3,\"right\",\"no\"],[3,\"right\",\"yes\"],[3,\"right\",\"no\"],[1,\"right\",\"yes\"],[1,\"left\",\"yes\"],[3,\"right\",\"yes\"],[2,\"left\",\"yes\"],[3,\"left\",\"yes\"],[3,\"right\",\"no\"],[3,\"left\",\"yes\"],[3,\"left\",\"no\"],[3,\"right\",\"no\"],[2,\"left\",\"yes\"],[3,\"right\",\"no\"],[2,\"right\",\"no\"],[3,\"left\",\"yes\"],[3,\"left\",\"no\"],[3,\"left\",\"yes\"],[3,\"left\",\"no\"],[2,\"right\",\"yes\"],[2,\"left\",\"yes\"],[3,\"left\",\"yes\"],[3,\"left\",\"yes\"],[1,\"right\",\"no\"],[3,\"left\",\"no\"],[3,\"left\",\"no\"]],\"hovertemplate\":\"Menopause=ge40\\u003cbr\\u003eAge Range=%{x}\\u003cbr\\u003eTumor Size=%{y}\\u003cbr\\u003eDegree of malignancy=%{customdata[0]}\\u003cbr\\u003eBreast=%{customdata[1]}\\u003cbr\\u003eIrradiat=%{customdata[2]}\\u003cextra\\u003e\\u003c\\u002fextra\\u003e\",\"legendgroup\":\"ge40\",\"marker\":{\"color\":\"#EF553B\",\"symbol\":\"circle\"},\"mode\":\"markers\",\"name\":\"ge40\",\"orientation\":\"v\",\"showlegend\":true,\"x\":[\"60-69\",\"60-69\",\"60-69\",\"50-59\",\"50-59\",\"60-69\",\"50-59\",\"50-59\",\"60-69\",\"60-69\",\"50-59\",\"50-59\",\"50-59\",\"50-59\",\"50-59\",\"50-59\",\"60-69\",\"60-69\",\"50-59\",\"50-59\",\"70-79\",\"70-79\",\"70-79\",\"50-59\",\"50-59\",\"60-69\",\"60-69\",\"50-59\",\"50-59\",\"50-59\",\"60-69\",\"60-69\",\"60-69\",\"50-59\",\"50-59\",\"50-59\",\"60-69\",\"60-69\",\"50-59\",\"50-59\",\"60-69\",\"70-79\",\"50-59\",\"50-59\",\"60-69\",\"60-69\",\"40-49\",\"50-59\",\"60-69\",\"50-59\",\"50-59\",\"40-49\",\"60-69\",\"50-59\",\"50-59\",\"50-59\",\"60-69\",\"70-79\",\"50-59\",\"60-69\",\"50-59\",\"60-69\",\"60-69\",\"50-59\",\"60-69\",\"50-59\",\"60-69\",\"60-69\",\"50-59\",\"50-59\",\"60-69\",\"60-69\",\"60-69\",\"40-49\",\"40-49\",\"60-69\",\"50-59\",\"40-49\",\"60-69\",\"50-59\",\"50-59\",\"50-59\",\"60-69\",\"50-59\",\"50-59\",\"50-59\",\"50-59\",\"60-69\",\"50-59\",\"50-59\",\"50-59\",\"60-69\",\"40-49\",\"50-59\",\"60-69\",\"60-69\",\"60-69\",\"40-49\",\"60-69\",\"60-69\",\"70-79\",\"60-69\",\"60-69\",\"50-59\",\"50-59\",\"50-59\",\"60-69\",\"60-69\",\"50-59\",\"50-59\",\"60-69\",\"40-49\",\"60-69\",\"60-69\",\"50-59\",\"60-69\",\"60-69\",\"60-69\",\"50-59\",\"60-69\",\"40-49\",\"50-59\"],\"xaxis\":\"x\",\"y\":[\"15-19\",\"15-19\",\"20-24\",\"25-29\",\"25-29\",\"30-34\",\"30-34\",\"40-44\",\"25-29\",\"30-34\",\"40-44\",\"10-14\",\"10-14\",\"0-4\",\"15-19\",\"20-24\",\"25-29\",\"5-9\",\"50-54\",\"30-34\",\"20-24\",\"40-44\",\"40-44\",\"0-4\",\"5-9\",\"30-34\",\"15-19\",\"0-4\",\"20-24\",\"35-39\",\"50-54\",\"10-14\",\"20-24\",\"10-14\",\"10-14\",\"10-14\",\"10-14\",\"15-19\",\"15-19\",\"35-39\",\"25-29\",\"0-4\",\"20-24\",\"25-29\",\"20-24\",\"30-34\",\"20-24\",\"30-34\",\"30-34\",\"25-29\",\"20-24\",\"20-24\",\"15-19\",\"15-19\",\"40-44\",\"30-34\",\"10-14\",\"10-14\",\"40-44\",\"30-34\",\"40-44\",\"45-49\",\"50-54\",\"25-29\",\"30-34\",\"35-39\",\"15-19\",\"40-44\",\"25-29\",\"30-34\",\"10-14\",\"25-29\",\"25-29\",\"40-44\",\"30-34\",\"30-34\",\"20-24\",\"25-29\",\"10-14\",\"30-34\",\"30-34\",\"25-29\",\"15-19\",\"20-24\",\"30-34\",\"35-39\",\"15-19\",\"25-29\",\"35-39\",\"30-34\",\"20-24\",\"40-44\",\"20-24\",\"20-24\",\"30-34\",\"25-29\",\"20-24\",\"20-24\",\"40-44\",\"45-49\",\"15-19\",\"30-34\",\"20-24\",\"25-29\",\"20-24\",\"30-34\",\"35-39\",\"50-54\",\"30-34\",\"30-34\",\"25-29\",\"25-29\",\"25-29\",\"20-24\",\"30-34\",\"30-34\",\"30-34\",\"10-14\",\"40-44\",\"20-24\",\"30-34\",\"30-34\"],\"yaxis\":\"y\",\"type\":\"scatter\"},{\"customdata\":[[1,\"left\",\"no\"],[1,\"left\",\"no\"],[2,\"left\",\"no\"],[3,\"right\",\"no\"],[3,\"right\",\"no\"],[1,\"left\",\"no\"],[1,\"left\",\"no\"]],\"hovertemplate\":\"Menopause=lt40\\u003cbr\\u003eAge Range=%{x}\\u003cbr\\u003eTumor Size=%{y}\\u003cbr\\u003eDegree of malignancy=%{customdata[0]}\\u003cbr\\u003eBreast=%{customdata[1]}\\u003cbr\\u003eIrradiat=%{customdata[2]}\\u003cextra\\u003e\\u003c\\u002fextra\\u003e\",\"legendgroup\":\"lt40\",\"marker\":{\"color\":\"#00cc96\",\"symbol\":\"circle\"},\"mode\":\"markers\",\"name\":\"lt40\",\"orientation\":\"v\",\"showlegend\":true,\"x\":[\"60-69\",\"60-69\",\"50-59\",\"50-59\",\"30-39\",\"50-59\",\"50-59\"],\"xaxis\":\"x\",\"y\":[\"10-14\",\"30-34\",\"15-19\",\"30-34\",\"15-19\",\"20-24\",\"20-24\"],\"yaxis\":\"y\",\"type\":\"scatter\"}],                        {\"template\":{\"data\":{\"histogram2dcontour\":[{\"type\":\"histogram2dcontour\",\"colorbar\":{\"outlinewidth\":0,\"ticks\":\"\"},\"colorscale\":[[0.0,\"#0d0887\"],[0.1111111111111111,\"#46039f\"],[0.2222222222222222,\"#7201a8\"],[0.3333333333333333,\"#9c179e\"],[0.4444444444444444,\"#bd3786\"],[0.5555555555555556,\"#d8576b\"],[0.6666666666666666,\"#ed7953\"],[0.7777777777777778,\"#fb9f3a\"],[0.8888888888888888,\"#fdca26\"],[1.0,\"#f0f921\"]]}],\"choropleth\":[{\"type\":\"choropleth\",\"colorbar\":{\"outlinewidth\":0,\"ticks\":\"\"}}],\"histogram2d\":[{\"type\":\"histogram2d\",\"colorbar\":{\"outlinewidth\":0,\"ticks\":\"\"},\"colorscale\":[[0.0,\"#0d0887\"],[0.1111111111111111,\"#46039f\"],[0.2222222222222222,\"#7201a8\"],[0.3333333333333333,\"#9c179e\"],[0.4444444444444444,\"#bd3786\"],[0.5555555555555556,\"#d8576b\"],[0.6666666666666666,\"#ed7953\"],[0.7777777777777778,\"#fb9f3a\"],[0.8888888888888888,\"#fdca26\"],[1.0,\"#f0f921\"]]}],\"heatmap\":[{\"type\":\"heatmap\",\"colorbar\":{\"outlinewidth\":0,\"ticks\":\"\"},\"colorscale\":[[0.0,\"#0d0887\"],[0.1111111111111111,\"#46039f\"],[0.2222222222222222,\"#7201a8\"],[0.3333333333333333,\"#9c179e\"],[0.4444444444444444,\"#bd3786\"],[0.5555555555555556,\"#d8576b\"],[0.6666666666666666,\"#ed7953\"],[0.7777777777777778,\"#fb9f3a\"],[0.8888888888888888,\"#fdca26\"],[1.0,\"#f0f921\"]]}],\"heatmapgl\":[{\"type\":\"heatmapgl\",\"colorbar\":{\"outlinewidth\":0,\"ticks\":\"\"},\"colorscale\":[[0.0,\"#0d0887\"],[0.1111111111111111,\"#46039f\"],[0.2222222222222222,\"#7201a8\"],[0.3333333333333333,\"#9c179e\"],[0.4444444444444444,\"#bd3786\"],[0.5555555555555556,\"#d8576b\"],[0.6666666666666666,\"#ed7953\"],[0.7777777777777778,\"#fb9f3a\"],[0.8888888888888888,\"#fdca26\"],[1.0,\"#f0f921\"]]}],\"contourcarpet\":[{\"type\":\"contourcarpet\",\"colorbar\":{\"outlinewidth\":0,\"ticks\":\"\"}}],\"contour\":[{\"type\":\"contour\",\"colorbar\":{\"outlinewidth\":0,\"ticks\":\"\"},\"colorscale\":[[0.0,\"#0d0887\"],[0.1111111111111111,\"#46039f\"],[0.2222222222222222,\"#7201a8\"],[0.3333333333333333,\"#9c179e\"],[0.4444444444444444,\"#bd3786\"],[0.5555555555555556,\"#d8576b\"],[0.6666666666666666,\"#ed7953\"],[0.7777777777777778,\"#fb9f3a\"],[0.8888888888888888,\"#fdca26\"],[1.0,\"#f0f921\"]]}],\"surface\":[{\"type\":\"surface\",\"colorbar\":{\"outlinewidth\":0,\"ticks\":\"\"},\"colorscale\":[[0.0,\"#0d0887\"],[0.1111111111111111,\"#46039f\"],[0.2222222222222222,\"#7201a8\"],[0.3333333333333333,\"#9c179e\"],[0.4444444444444444,\"#bd3786\"],[0.5555555555555556,\"#d8576b\"],[0.6666666666666666,\"#ed7953\"],[0.7777777777777778,\"#fb9f3a\"],[0.8888888888888888,\"#fdca26\"],[1.0,\"#f0f921\"]]}],\"mesh3d\":[{\"type\":\"mesh3d\",\"colorbar\":{\"outlinewidth\":0,\"ticks\":\"\"}}],\"scatter\":[{\"fillpattern\":{\"fillmode\":\"overlay\",\"size\":10,\"solidity\":0.2},\"type\":\"scatter\"}],\"parcoords\":[{\"type\":\"parcoords\",\"line\":{\"colorbar\":{\"outlinewidth\":0,\"ticks\":\"\"}}}],\"scatterpolargl\":[{\"type\":\"scatterpolargl\",\"marker\":{\"colorbar\":{\"outlinewidth\":0,\"ticks\":\"\"}}}],\"bar\":[{\"error_x\":{\"color\":\"#2a3f5f\"},\"error_y\":{\"color\":\"#2a3f5f\"},\"marker\":{\"line\":{\"color\":\"#E5ECF6\",\"width\":0.5},\"pattern\":{\"fillmode\":\"overlay\",\"size\":10,\"solidity\":0.2}},\"type\":\"bar\"}],\"scattergeo\":[{\"type\":\"scattergeo\",\"marker\":{\"colorbar\":{\"outlinewidth\":0,\"ticks\":\"\"}}}],\"scatterpolar\":[{\"type\":\"scatterpolar\",\"marker\":{\"colorbar\":{\"outlinewidth\":0,\"ticks\":\"\"}}}],\"histogram\":[{\"marker\":{\"pattern\":{\"fillmode\":\"overlay\",\"size\":10,\"solidity\":0.2}},\"type\":\"histogram\"}],\"scattergl\":[{\"type\":\"scattergl\",\"marker\":{\"colorbar\":{\"outlinewidth\":0,\"ticks\":\"\"}}}],\"scatter3d\":[{\"type\":\"scatter3d\",\"line\":{\"colorbar\":{\"outlinewidth\":0,\"ticks\":\"\"}},\"marker\":{\"colorbar\":{\"outlinewidth\":0,\"ticks\":\"\"}}}],\"scattermapbox\":[{\"type\":\"scattermapbox\",\"marker\":{\"colorbar\":{\"outlinewidth\":0,\"ticks\":\"\"}}}],\"scatterternary\":[{\"type\":\"scatterternary\",\"marker\":{\"colorbar\":{\"outlinewidth\":0,\"ticks\":\"\"}}}],\"scattercarpet\":[{\"type\":\"scattercarpet\",\"marker\":{\"colorbar\":{\"outlinewidth\":0,\"ticks\":\"\"}}}],\"carpet\":[{\"aaxis\":{\"endlinecolor\":\"#2a3f5f\",\"gridcolor\":\"white\",\"linecolor\":\"white\",\"minorgridcolor\":\"white\",\"startlinecolor\":\"#2a3f5f\"},\"baxis\":{\"endlinecolor\":\"#2a3f5f\",\"gridcolor\":\"white\",\"linecolor\":\"white\",\"minorgridcolor\":\"white\",\"startlinecolor\":\"#2a3f5f\"},\"type\":\"carpet\"}],\"table\":[{\"cells\":{\"fill\":{\"color\":\"#EBF0F8\"},\"line\":{\"color\":\"white\"}},\"header\":{\"fill\":{\"color\":\"#C8D4E3\"},\"line\":{\"color\":\"white\"}},\"type\":\"table\"}],\"barpolar\":[{\"marker\":{\"line\":{\"color\":\"#E5ECF6\",\"width\":0.5},\"pattern\":{\"fillmode\":\"overlay\",\"size\":10,\"solidity\":0.2}},\"type\":\"barpolar\"}],\"pie\":[{\"automargin\":true,\"type\":\"pie\"}]},\"layout\":{\"autotypenumbers\":\"strict\",\"colorway\":[\"#636efa\",\"#EF553B\",\"#00cc96\",\"#ab63fa\",\"#FFA15A\",\"#19d3f3\",\"#FF6692\",\"#B6E880\",\"#FF97FF\",\"#FECB52\"],\"font\":{\"color\":\"#2a3f5f\"},\"hovermode\":\"closest\",\"hoverlabel\":{\"align\":\"left\"},\"paper_bgcolor\":\"white\",\"plot_bgcolor\":\"#E5ECF6\",\"polar\":{\"bgcolor\":\"#E5ECF6\",\"angularaxis\":{\"gridcolor\":\"white\",\"linecolor\":\"white\",\"ticks\":\"\"},\"radialaxis\":{\"gridcolor\":\"white\",\"linecolor\":\"white\",\"ticks\":\"\"}},\"ternary\":{\"bgcolor\":\"#E5ECF6\",\"aaxis\":{\"gridcolor\":\"white\",\"linecolor\":\"white\",\"ticks\":\"\"},\"baxis\":{\"gridcolor\":\"white\",\"linecolor\":\"white\",\"ticks\":\"\"},\"caxis\":{\"gridcolor\":\"white\",\"linecolor\":\"white\",\"ticks\":\"\"}},\"coloraxis\":{\"colorbar\":{\"outlinewidth\":0,\"ticks\":\"\"}},\"colorscale\":{\"sequential\":[[0.0,\"#0d0887\"],[0.1111111111111111,\"#46039f\"],[0.2222222222222222,\"#7201a8\"],[0.3333333333333333,\"#9c179e\"],[0.4444444444444444,\"#bd3786\"],[0.5555555555555556,\"#d8576b\"],[0.6666666666666666,\"#ed7953\"],[0.7777777777777778,\"#fb9f3a\"],[0.8888888888888888,\"#fdca26\"],[1.0,\"#f0f921\"]],\"sequentialminus\":[[0.0,\"#0d0887\"],[0.1111111111111111,\"#46039f\"],[0.2222222222222222,\"#7201a8\"],[0.3333333333333333,\"#9c179e\"],[0.4444444444444444,\"#bd3786\"],[0.5555555555555556,\"#d8576b\"],[0.6666666666666666,\"#ed7953\"],[0.7777777777777778,\"#fb9f3a\"],[0.8888888888888888,\"#fdca26\"],[1.0,\"#f0f921\"]],\"diverging\":[[0,\"#8e0152\"],[0.1,\"#c51b7d\"],[0.2,\"#de77ae\"],[0.3,\"#f1b6da\"],[0.4,\"#fde0ef\"],[0.5,\"#f7f7f7\"],[0.6,\"#e6f5d0\"],[0.7,\"#b8e186\"],[0.8,\"#7fbc41\"],[0.9,\"#4d9221\"],[1,\"#276419\"]]},\"xaxis\":{\"gridcolor\":\"white\",\"linecolor\":\"white\",\"ticks\":\"\",\"title\":{\"standoff\":15},\"zerolinecolor\":\"white\",\"automargin\":true,\"zerolinewidth\":2},\"yaxis\":{\"gridcolor\":\"white\",\"linecolor\":\"white\",\"ticks\":\"\",\"title\":{\"standoff\":15},\"zerolinecolor\":\"white\",\"automargin\":true,\"zerolinewidth\":2},\"scene\":{\"xaxis\":{\"backgroundcolor\":\"#E5ECF6\",\"gridcolor\":\"white\",\"linecolor\":\"white\",\"showbackground\":true,\"ticks\":\"\",\"zerolinecolor\":\"white\",\"gridwidth\":2},\"yaxis\":{\"backgroundcolor\":\"#E5ECF6\",\"gridcolor\":\"white\",\"linecolor\":\"white\",\"showbackground\":true,\"ticks\":\"\",\"zerolinecolor\":\"white\",\"gridwidth\":2},\"zaxis\":{\"backgroundcolor\":\"#E5ECF6\",\"gridcolor\":\"white\",\"linecolor\":\"white\",\"showbackground\":true,\"ticks\":\"\",\"zerolinecolor\":\"white\",\"gridwidth\":2}},\"shapedefaults\":{\"line\":{\"color\":\"#2a3f5f\"}},\"annotationdefaults\":{\"arrowcolor\":\"#2a3f5f\",\"arrowhead\":0,\"arrowwidth\":1},\"geo\":{\"bgcolor\":\"white\",\"landcolor\":\"#E5ECF6\",\"subunitcolor\":\"white\",\"showland\":true,\"showlakes\":true,\"lakecolor\":\"white\"},\"title\":{\"x\":0.05},\"mapbox\":{\"style\":\"light\"}}},\"xaxis\":{\"anchor\":\"y\",\"domain\":[0.0,1.0],\"title\":{\"text\":\"Age Range\"}},\"yaxis\":{\"anchor\":\"x\",\"domain\":[0.0,1.0],\"title\":{\"text\":\"Tumor Size\"}},\"legend\":{\"title\":{\"text\":\"Menopause\"},\"tracegroupgap\":0},\"title\":{\"text\":\"Tumor Size vs Age Range Grouped by Menopause Status\"}},                        {\"responsive\": true}                    ).then(function(){\n",
       "                            \n",
       "var gd = document.getElementById('6a43f01e-87cf-439a-9171-3e38a81f7f37');\n",
       "var x = new MutationObserver(function (mutations, observer) {{\n",
       "        var display = window.getComputedStyle(gd).display;\n",
       "        if (!display || display === 'none') {{\n",
       "            console.log([gd, 'removed!']);\n",
       "            Plotly.purge(gd);\n",
       "            observer.disconnect();\n",
       "        }}\n",
       "}});\n",
       "\n",
       "// Listen for the removal of the full notebook cells\n",
       "var notebookContainer = gd.closest('#notebook-container');\n",
       "if (notebookContainer) {{\n",
       "    x.observe(notebookContainer, {childList: true});\n",
       "}}\n",
       "\n",
       "// Listen for the clearing of the current output cell\n",
       "var outputEl = gd.closest('.output');\n",
       "if (outputEl) {{\n",
       "    x.observe(outputEl, {childList: true});\n",
       "}}\n",
       "\n",
       "                        })                };                });            </script>        </div>"
      ]
     },
     "metadata": {},
     "output_type": "display_data"
    },
    {
     "data": {
      "image/png": "[encoded data removed]",
      "text/plain": [
       "<Figure size 1000x600 with 1 Axes>"
      ]
     },
     "metadata": {},
     "output_type": "display_data"
    }
   ],
   "source": [
    "# Interactive Visualization: Tumor size vs Age Range grouped by Menopause status\n",
    "fig = px.scatter(breast_cancer_cleaned, x='Age Range', y='Tumor size', color='Menopause', \n",
    "                 hover_data=['Degree of malignancy', 'Breast', 'Irradiat'],\n",
    "                 title=\"Tumor Size vs Age Range Grouped by Menopause Status\",\n",
    "                 labels={'Age Range': 'Age Range', 'Tumor size': 'Tumor Size'})\n",
    "fig.show()\n",
    "\n",
    "# Normal Distribution: Visualizing `Degree of malignancy`\n",
    "plt.figure(figsize=(10, 6))\n",
    "sns.histplot(breast_cancer_cleaned['Degree of malignancy'], kde=True, color='skyblue', bins=10)\n",
    "plt.title('Distribution of Degree of Malignancy')\n",
    "plt.xlabel('Degree of Malignancy')\n",
    "plt.ylabel('Frequency')\n",
    "plt.show()"
   ]
  },
  {
   "cell_type": "code",
   "execution_count": 68,
   "id": "79bbf7fc-0267-4cf0-a146-feb23e792794",
   "metadata": {},
   "outputs": [
    {
     "name": "stderr",
     "output_type": "stream",
     "text": [
      "C:\\Users\\orili\\AppData\\Local\\Temp\\ipykernel_17280\\787506072.py:4: FutureWarning:\n",
      "\n",
      "\n",
      "\n",
      "Passing `palette` without assigning `hue` is deprecated and will be removed in v0.14.0. Assign the `x` variable to `hue` and set `legend=False` for the same effect.\n",
      "\n",
      "\n"
     ]
    },
    {
     "data": {
      "image/png": "[encoded data removed]",
      "text/plain": [
       "<Figure size 1200x600 with 1 Axes>"
      ]
     },
     "metadata": {},
     "output_type": "display_data"
    }
   ],
   "source": [
    "# This code was done by 222129816 - TANAKA MUSHUKUTU\n",
    "# Box plot: Comparing Degree of malignancy for different Breast Quadrants\n",
    "plt.figure(figsize=(12, 6))\n",
    "sns.boxplot(x='Breast-Quad', y='Degree of malignancy', data=breast_cancer_cleaned, palette='coolwarm')\n",
    "plt.title('Degree of Malignancy by Breast Quadrant')\n",
    "plt.xticks(rotation=45)\n",
    "plt.show()"
   ]
  },
  {
   "cell_type": "code",
   "execution_count": 120,
   "id": "b71f0fec-6e10-456a-9dc0-d4caa9dd3f9c",
   "metadata": {},
   "outputs": [
    {
     "data": {
      "image/png": "[encoded data removed]",
      "text/plain": [
       "<Figure size 800x800 with 1 Axes>"
      ]
     },
     "metadata": {},
     "output_type": "display_data"
    }
   ],
   "source": [
    "# This code was done by 223002291 - Beaven Muyoba\n",
    "# Count the occurrences of each unique value in the 'Age Range' column\n",
    "age_range_counts = breast_cancer_cleaned['Age Range'].value_counts()\n",
    "\n",
    "# Plot a pie chart\n",
    "plt.figure(figsize=(8, 8))\n",
    "plt.pie(age_range_counts, labels=age_range_counts.index, autopct='%1.1f%%', startangle=90)\n",
    "plt.title('Distribution of Age Range')\n",
    "plt.axis('equal')  # Equal aspect ratio ensures that pie is drawn as a circle.\n",
    "\n",
    "# Show the pie chart\n",
    "plt.show()"
   ]
  },
  {
   "cell_type": "code",
   "execution_count": 119,
   "id": "80296cc5-e74f-4277-a68d-31f134f9bcd2",
   "metadata": {},
   "outputs": [
    {
     "data": {
      "image/png": "[encoded data removed]",
      "text/plain": [
       "<Figure size 1000x600 with 1 Axes>"
      ]
     },
     "metadata": {},
     "output_type": "display_data"
    }
   ],
   "source": [
    "# This code was done by 223002291 - Beaven Muyoba\n",
    "age_range_counts = breast_cancer_cleaned['Age Range'].value_counts()\n",
    "\n",
    "# Plot a bar graph\n",
    "plt.figure(figsize=(10, 6))\n",
    "age_range_counts.plot(kind='bar', color='skyblue')\n",
    "\n",
    "# Adding titles and labels\n",
    "plt.title('Distribution of Age Range', fontsize=16)\n",
    "plt.xlabel('Age Range', fontsize=14)\n",
    "plt.ylabel('Count', fontsize=14)\n",
    "\n",
    "# Display the bar graph\n",
    "plt.xticks(rotation=45)  # Rotate x-axis labels for better visibility\n",
    "plt.grid(axis='y')  # Optional: add grid lines for better readability\n",
    "plt.show()"
   ]
  },
  {
   "cell_type": "markdown",
   "id": "6a863f00-0905-4efb-b777-4cc9ebcaf562",
   "metadata": {},
   "source": [
    "# **Machine Learning**"
   ]
  },
  {
   "cell_type": "code",
   "execution_count": null,
   "id": "5524f4f7-ee0d-423a-b338-e9942472d15b",
   "metadata": {},
   "outputs": [],
   "source": [
    "# This code was done by 223077593 - ORILIO NAOBEB"
   ]
  }
 ],
 "metadata": {
  "kernelspec": {
   "display_name": "Python 3 (ipykernel)",
   "language": "python",
   "name": "python3"
  },
  "language_info": {
   "codemirror_mode": {
    "name": "ipython",
    "version": 3
   },
   "file_extension": ".py",
   "mimetype": "text/x-python",
   "name": "python",
   "nbconvert_exporter": "python",
   "pygments_lexer": "ipython3",
   "version": "3.12.4"
  }
 },
 "nbformat": 4,
 "nbformat_minor": 5
}
